{
  "nbformat": 4,
  "nbformat_minor": 0,
  "metadata": {
    "colab": {
      "name": "Untitled81.ipynb",
      "provenance": [],
      "authorship_tag": "ABX9TyPJ+lu6fqpui9+8kx4Ac470",
      "include_colab_link": true
    },
    "kernelspec": {
      "name": "python3",
      "display_name": "Python 3"
    }
  },
  "cells": [
    {
      "cell_type": "markdown",
      "metadata": {
        "id": "view-in-github",
        "colab_type": "text"
      },
      "source": [
        "<a href=\"https://colab.research.google.com/github/pawel0508/OOP/blob/main/Tworzenie%20instancji%20klasy.ipynb\" target=\"_parent\"><img src=\"https://colab.research.google.com/assets/colab-badge.svg\" alt=\"Open In Colab\"/></a>"
      ]
    },
    {
      "cell_type": "markdown",
      "metadata": {
        "id": "w6kVKmr03Js2"
      },
      "source": [
        "### Tworzenie instancji klasy"
      ]
    },
    {
      "cell_type": "code",
      "metadata": {
        "id": "mipIE5Gx3DBo"
      },
      "source": [
        "class Book:\n",
        "\n",
        "  language = 'ENG'\n",
        "\n",
        "  def show():\n",
        "    print(Book.language)"
      ],
      "execution_count": 1,
      "outputs": []
    },
    {
      "cell_type": "code",
      "metadata": {
        "colab": {
          "base_uri": "https://localhost:8080/"
        },
        "id": "IaJKjA8u3bcf",
        "outputId": "29f477fe-cb91-4e92-c4ac-8dce138e90b4"
      },
      "source": [
        "Book.__dict__"
      ],
      "execution_count": 2,
      "outputs": [
        {
          "output_type": "execute_result",
          "data": {
            "text/plain": [
              "mappingproxy({'__dict__': <attribute '__dict__' of 'Book' objects>,\n",
              "              '__doc__': None,\n",
              "              '__module__': '__main__',\n",
              "              '__weakref__': <attribute '__weakref__' of 'Book' objects>,\n",
              "              'language': 'ENG',\n",
              "              'show': <function __main__.Book.show>})"
            ]
          },
          "metadata": {
            "tags": []
          },
          "execution_count": 2
        }
      ]
    },
    {
      "cell_type": "markdown",
      "metadata": {
        "id": "I7OUPpEn3hzl"
      },
      "source": [
        "Klasy są wywolywalne i podczas wywoływania klasy tworzona jest instancja danej klasy. Jeśli się klasę wywoła tak jak funkcje tworzy się konkretna instancja."
      ]
    },
    {
      "cell_type": "code",
      "metadata": {
        "colab": {
          "base_uri": "https://localhost:8080/"
        },
        "id": "SG1auKvR3cif",
        "outputId": "882c0ed5-f15c-418f-d772-5cd496f3b09e"
      },
      "source": [
        "Book() # tworzymy konkretną instancje klasy"
      ],
      "execution_count": 3,
      "outputs": [
        {
          "output_type": "execute_result",
          "data": {
            "text/plain": [
              "<__main__.Book at 0x7fd5c8e71898>"
            ]
          },
          "metadata": {
            "tags": []
          },
          "execution_count": 3
        }
      ]
    },
    {
      "cell_type": "code",
      "metadata": {
        "colab": {
          "base_uri": "https://localhost:8080/"
        },
        "id": "aTt5sP1Y3zek",
        "outputId": "dafec68b-4562-4b77-dfb5-97b0bde9358f"
      },
      "source": [
        "book1 = Book() # nowa instacja, book1 jest instancją klasy Book\n",
        "type(Book) == type(book1) "
      ],
      "execution_count": 5,
      "outputs": [
        {
          "output_type": "execute_result",
          "data": {
            "text/plain": [
              "False"
            ]
          },
          "metadata": {
            "tags": []
          },
          "execution_count": 5
        }
      ]
    },
    {
      "cell_type": "code",
      "metadata": {
        "colab": {
          "base_uri": "https://localhost:8080/"
        },
        "id": "SEWUBwv438u4",
        "outputId": "88929a1d-3554-4330-c4eb-532cb430c7d8"
      },
      "source": [
        "isinstance(book1, Book)"
      ],
      "execution_count": 6,
      "outputs": [
        {
          "output_type": "execute_result",
          "data": {
            "text/plain": [
              "True"
            ]
          },
          "metadata": {
            "tags": []
          },
          "execution_count": 6
        }
      ]
    },
    {
      "cell_type": "code",
      "metadata": {
        "colab": {
          "base_uri": "https://localhost:8080/"
        },
        "id": "tLjepru44FLe",
        "outputId": "c9501d7d-0ecc-40f3-86b9-791aefc4ec8b"
      },
      "source": [
        "Book.__dict__ # na klasie obiekt mappingproxy, tutaj znajdziemy dostępne atrybuty klasy"
      ],
      "execution_count": 7,
      "outputs": [
        {
          "output_type": "execute_result",
          "data": {
            "text/plain": [
              "mappingproxy({'__dict__': <attribute '__dict__' of 'Book' objects>,\n",
              "              '__doc__': None,\n",
              "              '__module__': '__main__',\n",
              "              '__weakref__': <attribute '__weakref__' of 'Book' objects>,\n",
              "              'language': 'ENG',\n",
              "              'show': <function __main__.Book.show>})"
            ]
          },
          "metadata": {
            "tags": []
          },
          "execution_count": 7
        }
      ]
    },
    {
      "cell_type": "code",
      "metadata": {
        "id": "EVav8-5a54UW"
      },
      "source": [
        "book1 = Book()"
      ],
      "execution_count": 8,
      "outputs": []
    },
    {
      "cell_type": "code",
      "metadata": {
        "colab": {
          "base_uri": "https://localhost:8080/"
        },
        "id": "rJUdVUpS57hJ",
        "outputId": "38a8d5d3-cd90-4ebd-9e21-30d0b2320206"
      },
      "source": [
        "book1.__dict__ # typowy słownik wbudowny w język Python"
      ],
      "execution_count": 9,
      "outputs": [
        {
          "output_type": "execute_result",
          "data": {
            "text/plain": [
              "{}"
            ]
          },
          "metadata": {
            "tags": []
          },
          "execution_count": 9
        }
      ]
    },
    {
      "cell_type": "code",
      "metadata": {
        "colab": {
          "base_uri": "https://localhost:8080/"
        },
        "id": "tRNhY6C0597Y",
        "outputId": "a9ab42f1-a530-497a-b107-dc6539051ebe"
      },
      "source": [
        "class Book:\n",
        "\n",
        "  language = 'PL'\n",
        "\n",
        "Book.__dict__"
      ],
      "execution_count": 11,
      "outputs": [
        {
          "output_type": "execute_result",
          "data": {
            "text/plain": [
              "mappingproxy({'__dict__': <attribute '__dict__' of 'Book' objects>,\n",
              "              '__doc__': None,\n",
              "              '__module__': '__main__',\n",
              "              '__weakref__': <attribute '__weakref__' of 'Book' objects>,\n",
              "              'language': 'PL'})"
            ]
          },
          "metadata": {
            "tags": []
          },
          "execution_count": 11
        }
      ]
    },
    {
      "cell_type": "code",
      "metadata": {
        "id": "_rBLVRL79KAj"
      },
      "source": [
        "book1 = Book()\n",
        "book2 = Book()"
      ],
      "execution_count": 12,
      "outputs": []
    },
    {
      "cell_type": "code",
      "metadata": {
        "colab": {
          "base_uri": "https://localhost:8080/"
        },
        "id": "cM3NcTxE9Mkc",
        "outputId": "b472f46d-ae7f-49af-e9d9-bb0353570a07"
      },
      "source": [
        "book1 is book2"
      ],
      "execution_count": 13,
      "outputs": [
        {
          "output_type": "execute_result",
          "data": {
            "text/plain": [
              "False"
            ]
          },
          "metadata": {
            "tags": []
          },
          "execution_count": 13
        }
      ]
    },
    {
      "cell_type": "code",
      "metadata": {
        "colab": {
          "base_uri": "https://localhost:8080/"
        },
        "id": "jAu7j0Y29N8C",
        "outputId": "339f340e-49b6-4cc4-a8e8-74c56eb41389"
      },
      "source": [
        "book1.__dict__, book2.__dict__"
      ],
      "execution_count": 14,
      "outputs": [
        {
          "output_type": "execute_result",
          "data": {
            "text/plain": [
              "({}, {})"
            ]
          },
          "metadata": {
            "tags": []
          },
          "execution_count": 14
        }
      ]
    },
    {
      "cell_type": "code",
      "metadata": {
        "colab": {
          "base_uri": "https://localhost:8080/"
        },
        "id": "Jks0JDN39Ts1",
        "outputId": "07c33f31-1ff7-486a-ebe3-0da827f1e217"
      },
      "source": [
        "book1.language, book2.language"
      ],
      "execution_count": 15,
      "outputs": [
        {
          "output_type": "execute_result",
          "data": {
            "text/plain": [
              "('PL', 'PL')"
            ]
          },
          "metadata": {
            "tags": []
          },
          "execution_count": 15
        }
      ]
    },
    {
      "cell_type": "code",
      "metadata": {
        "id": "HNFHOJzO9Yat"
      },
      "source": [
        "Book.author = 'Adam Mickiewicz'"
      ],
      "execution_count": 16,
      "outputs": []
    },
    {
      "cell_type": "code",
      "metadata": {
        "colab": {
          "base_uri": "https://localhost:8080/"
        },
        "id": "fmoenIAF9dXJ",
        "outputId": "2a34e0ac-ff05-4ddd-bccb-f1ec90dfc30e"
      },
      "source": [
        "book1.author, book2.author"
      ],
      "execution_count": 18,
      "outputs": [
        {
          "output_type": "execute_result",
          "data": {
            "text/plain": [
              "('Adam Mickiewicz', 'Adam Mickiewicz')"
            ]
          },
          "metadata": {
            "tags": []
          },
          "execution_count": 18
        }
      ]
    },
    {
      "cell_type": "code",
      "metadata": {
        "colab": {
          "base_uri": "https://localhost:8080/"
        },
        "id": "O3BzXK4W9hKR",
        "outputId": "b28fc283-087c-4ba7-dfaa-f75c27af69ea"
      },
      "source": [
        "book1.__dict__, book2.__dict__"
      ],
      "execution_count": 19,
      "outputs": [
        {
          "output_type": "execute_result",
          "data": {
            "text/plain": [
              "({}, {})"
            ]
          },
          "metadata": {
            "tags": []
          },
          "execution_count": 19
        }
      ]
    },
    {
      "cell_type": "code",
      "metadata": {
        "id": "P606HDyy9orM"
      },
      "source": [
        "book1.author = 'Stanisław Lem'"
      ],
      "execution_count": 20,
      "outputs": []
    },
    {
      "cell_type": "code",
      "metadata": {
        "colab": {
          "base_uri": "https://localhost:8080/"
        },
        "id": "IJux5RnD90gu",
        "outputId": "fc4bb21d-13fe-4c69-b96a-1353e0d7da05"
      },
      "source": [
        "book1.author, book2.author"
      ],
      "execution_count": 21,
      "outputs": [
        {
          "output_type": "execute_result",
          "data": {
            "text/plain": [
              "('Stanisław Lem', 'Adam Mickiewicz')"
            ]
          },
          "metadata": {
            "tags": []
          },
          "execution_count": 21
        }
      ]
    },
    {
      "cell_type": "code",
      "metadata": {
        "colab": {
          "base_uri": "https://localhost:8080/"
        },
        "id": "VftGNErh9241",
        "outputId": "79dd40b5-2141-4d9e-9fce-c8f71d1b8016"
      },
      "source": [
        "book1.__dict__, book2.__dict__"
      ],
      "execution_count": 22,
      "outputs": [
        {
          "output_type": "execute_result",
          "data": {
            "text/plain": [
              "({'author': 'Stanisław Lem'}, {})"
            ]
          },
          "metadata": {
            "tags": []
          },
          "execution_count": 22
        }
      ]
    },
    {
      "cell_type": "code",
      "metadata": {
        "id": "n8tW0UOT9_IU"
      },
      "source": [
        "del book1.author # kasujemy atrybut na poziomie instancji ale nie na poziomie klasy"
      ],
      "execution_count": 23,
      "outputs": []
    },
    {
      "cell_type": "code",
      "metadata": {
        "colab": {
          "base_uri": "https://localhost:8080/"
        },
        "id": "KcXKzHlj-IFF",
        "outputId": "47a184cc-ff03-4859-b422-6665f3045812"
      },
      "source": [
        "book1.__dict__"
      ],
      "execution_count": 24,
      "outputs": [
        {
          "output_type": "execute_result",
          "data": {
            "text/plain": [
              "{}"
            ]
          },
          "metadata": {
            "tags": []
          },
          "execution_count": 24
        }
      ]
    },
    {
      "cell_type": "code",
      "metadata": {
        "colab": {
          "base_uri": "https://localhost:8080/",
          "height": 35
        },
        "id": "DJh9ARuO-JyP",
        "outputId": "b16774e5-7490-42a3-967a-34593cce0b6a"
      },
      "source": [
        "book1.author"
      ],
      "execution_count": 25,
      "outputs": [
        {
          "output_type": "execute_result",
          "data": {
            "application/vnd.google.colaboratory.intrinsic+json": {
              "type": "string"
            },
            "text/plain": [
              "'Adam Mickiewicz'"
            ]
          },
          "metadata": {
            "tags": []
          },
          "execution_count": 25
        }
      ]
    },
    {
      "cell_type": "code",
      "metadata": {
        "id": "y4lvWR-D-MIa"
      },
      "source": [
        "class Book:\n",
        "\n",
        "  language = 'PL'\n",
        "\n",
        "Book.__dict__\n",
        "book1 = Book()\n",
        "book2 = Book()"
      ],
      "execution_count": 26,
      "outputs": []
    },
    {
      "cell_type": "code",
      "metadata": {
        "id": "62UOGmWK-fy0"
      },
      "source": [
        "book1.title = 'Pan Tadeusz'\n",
        "book1.rok = 1990\n"
      ],
      "execution_count": 27,
      "outputs": []
    },
    {
      "cell_type": "code",
      "metadata": {
        "colab": {
          "base_uri": "https://localhost:8080/"
        },
        "id": "pYdgEIYE-qSU",
        "outputId": "614c9384-cb40-4b91-b994-3be63f9cf8c4"
      },
      "source": [
        "book1.__dict__, book2.__dict__"
      ],
      "execution_count": 29,
      "outputs": [
        {
          "output_type": "execute_result",
          "data": {
            "text/plain": [
              "({'rok': 1990, 'title': 'Pan Tadeusz'}, {})"
            ]
          },
          "metadata": {
            "tags": []
          },
          "execution_count": 29
        }
      ]
    },
    {
      "cell_type": "code",
      "metadata": {
        "colab": {
          "base_uri": "https://localhost:8080/"
        },
        "id": "cMEbQGbm-r9r",
        "outputId": "79959e8d-02f1-465e-90e9-c9319da6d3d9"
      },
      "source": [
        "Book.__dict__"
      ],
      "execution_count": 30,
      "outputs": [
        {
          "output_type": "execute_result",
          "data": {
            "text/plain": [
              "mappingproxy({'__dict__': <attribute '__dict__' of 'Book' objects>,\n",
              "              '__doc__': None,\n",
              "              '__module__': '__main__',\n",
              "              '__weakref__': <attribute '__weakref__' of 'Book' objects>,\n",
              "              'language': 'PL'})"
            ]
          },
          "metadata": {
            "tags": []
          },
          "execution_count": 30
        }
      ]
    },
    {
      "cell_type": "markdown",
      "metadata": {
        "id": "hedo40p0_Zbq"
      },
      "source": [
        "### **Przykład**"
      ]
    },
    {
      "cell_type": "code",
      "metadata": {
        "colab": {
          "base_uri": "https://localhost:8080/"
        },
        "id": "FMNd_3YA-wQ-",
        "outputId": "f08fcaf2-6113-497f-89d1-d48586a7e1bb"
      },
      "source": [
        "class Book:\n",
        "\n",
        "  language = 'PL'\n",
        "  author = 'Adam Mickiewicz'\n",
        "\n",
        "Book.__dict__"
      ],
      "execution_count": 31,
      "outputs": [
        {
          "output_type": "execute_result",
          "data": {
            "text/plain": [
              "mappingproxy({'__dict__': <attribute '__dict__' of 'Book' objects>,\n",
              "              '__doc__': None,\n",
              "              '__module__': '__main__',\n",
              "              '__weakref__': <attribute '__weakref__' of 'Book' objects>,\n",
              "              'author': 'Adam Mickiewicz',\n",
              "              'language': 'PL'})"
            ]
          },
          "metadata": {
            "tags": []
          },
          "execution_count": 31
        }
      ]
    },
    {
      "cell_type": "code",
      "metadata": {
        "id": "0d6MDh_4_lM-"
      },
      "source": [
        "books = [Book(), Book(), Book()]"
      ],
      "execution_count": 32,
      "outputs": []
    },
    {
      "cell_type": "code",
      "metadata": {
        "colab": {
          "base_uri": "https://localhost:8080/"
        },
        "id": "HDSK5aoc_q1A",
        "outputId": "ef2ce3bd-0731-4d28-a355-404d81f77a22"
      },
      "source": [
        "for book in books:\n",
        "  print(f'Język: {book.language}')\n",
        "  print(f'Autor: {book.author}')"
      ],
      "execution_count": 34,
      "outputs": [
        {
          "output_type": "stream",
          "text": [
            "Język: PL\n",
            "Autor: Adam Mickiewicz\n",
            "Język: PL\n",
            "Autor: Adam Mickiewicz\n",
            "Język: PL\n",
            "Autor: Adam Mickiewicz\n"
          ],
          "name": "stdout"
        }
      ]
    },
    {
      "cell_type": "code",
      "metadata": {
        "id": "mCJTNoc6_zJO"
      },
      "source": [
        "titles = ['Sonety krymskie', 'Pan Tadeusz', 'Konrad Wallenrod']\n",
        "\n",
        "for book, value in zip(books, titles):\n",
        "  #book.title = value\n",
        "  setattr(book, 'title', value)"
      ],
      "execution_count": 39,
      "outputs": []
    },
    {
      "cell_type": "code",
      "metadata": {
        "colab": {
          "base_uri": "https://localhost:8080/"
        },
        "id": "uywlmIl0AaC2",
        "outputId": "bef9cb89-f51b-4699-da2d-9d66c12e782e"
      },
      "source": [
        "for book in books:\n",
        "  print(f'Język: {book.language}, Autor: {book.author}, Tytuł: {book.title}')"
      ],
      "execution_count": 40,
      "outputs": [
        {
          "output_type": "stream",
          "text": [
            "Język: PL, Autor: Adam Mickiewicz, Tytuł: Sonety krymskie\n",
            "Język: PL, Autor: Adam Mickiewicz, Tytuł: Pan Tadeusz\n",
            "Język: PL, Autor: Adam Mickiewicz, Tytuł: Konrad Wallenrod\n"
          ],
          "name": "stdout"
        }
      ]
    },
    {
      "cell_type": "code",
      "metadata": {
        "colab": {
          "base_uri": "https://localhost:8080/"
        },
        "id": "9Lm3BxKuAb7S",
        "outputId": "2c1e3aca-2e0a-461c-f7e7-6fb80b21a58d"
      },
      "source": [
        "for book in books:\n",
        "  print(book.__dict__)"
      ],
      "execution_count": 41,
      "outputs": [
        {
          "output_type": "stream",
          "text": [
            "{'title': 'Sonety krymskie'}\n",
            "{'title': 'Pan Tadeusz'}\n",
            "{'title': 'Konrad Wallenrod'}\n"
          ],
          "name": "stdout"
        }
      ]
    },
    {
      "cell_type": "markdown",
      "metadata": {
        "id": "IyWfiqpTBMCK"
      },
      "source": [
        "### Wywoływalne atrybuty klasy (funkcje) oraz wywoływalne atrybuty instancji (metody)\n",
        "\n",
        "\n"
      ]
    },
    {
      "cell_type": "code",
      "metadata": {
        "id": "o5PFOGsCBDUW"
      },
      "source": [
        "class Book:\n",
        "\n",
        "  language = 'PL'\n",
        "  author = 'Adam Mickiewicz'\n",
        "\n",
        "  def show_details():\n",
        "    print(f'Autor: {Book.author}\\nJęzyk: {Book.language}')"
      ],
      "execution_count": 48,
      "outputs": []
    },
    {
      "cell_type": "code",
      "metadata": {
        "colab": {
          "base_uri": "https://localhost:8080/"
        },
        "id": "05YPmOMTBgZV",
        "outputId": "ae7302dc-683a-47dd-e6a1-18b9e4519cee"
      },
      "source": [
        "Book.show_details()"
      ],
      "execution_count": 49,
      "outputs": [
        {
          "output_type": "stream",
          "text": [
            "Autor: Adam Mickiewicz\n",
            "Język: PL\n"
          ],
          "name": "stdout"
        }
      ]
    },
    {
      "cell_type": "code",
      "metadata": {
        "id": "K3PUpghpBsgN"
      },
      "source": [
        "Book.show_language = lambda: print(f'Język: {Book.language}')"
      ],
      "execution_count": 52,
      "outputs": []
    },
    {
      "cell_type": "code",
      "metadata": {
        "colab": {
          "base_uri": "https://localhost:8080/"
        },
        "id": "I5K4p7SGCFxD",
        "outputId": "7a4800d4-165b-4335-fbd9-851e6e5edaa0"
      },
      "source": [
        "Book.show_language()"
      ],
      "execution_count": 53,
      "outputs": [
        {
          "output_type": "stream",
          "text": [
            "Język: PL\n"
          ],
          "name": "stdout"
        }
      ]
    },
    {
      "cell_type": "code",
      "metadata": {
        "colab": {
          "base_uri": "https://localhost:8080/"
        },
        "id": "90A7DG_uCHmD",
        "outputId": "f1229ee4-2991-48f3-9942-bc329bbd0972"
      },
      "source": [
        "Book.__dict__"
      ],
      "execution_count": 54,
      "outputs": [
        {
          "output_type": "execute_result",
          "data": {
            "text/plain": [
              "mappingproxy({'__dict__': <attribute '__dict__' of 'Book' objects>,\n",
              "              '__doc__': None,\n",
              "              '__module__': '__main__',\n",
              "              '__weakref__': <attribute '__weakref__' of 'Book' objects>,\n",
              "              'author': 'Adam Mickiewicz',\n",
              "              'language': 'PL',\n",
              "              'show_details': <function __main__.Book.show_details>,\n",
              "              'show_language': <function __main__.<lambda>>})"
            ]
          },
          "metadata": {
            "tags": []
          },
          "execution_count": 54
        }
      ]
    },
    {
      "cell_type": "code",
      "metadata": {
        "id": "3EHQKOPPCTD_"
      },
      "source": [
        "book1 = Book()"
      ],
      "execution_count": 55,
      "outputs": []
    },
    {
      "cell_type": "code",
      "metadata": {
        "colab": {
          "base_uri": "https://localhost:8080/"
        },
        "id": "Afn62opaCa0f",
        "outputId": "61e0d0ff-5df2-4c3a-c71e-b878347efcd9"
      },
      "source": [
        "book1.show_details"
      ],
      "execution_count": 58,
      "outputs": [
        {
          "output_type": "execute_result",
          "data": {
            "text/plain": [
              "<bound method Book.show_details of <__main__.Book object at 0x7fd5c0865630>>"
            ]
          },
          "metadata": {
            "tags": []
          },
          "execution_count": 58
        }
      ]
    },
    {
      "cell_type": "code",
      "metadata": {
        "colab": {
          "base_uri": "https://localhost:8080/"
        },
        "id": "DvcBB0POCdlv",
        "outputId": "084c262d-abda-4d53-92fa-33e52efcbdaa"
      },
      "source": [
        "type(Book.show_details), type(book1.show_details)"
      ],
      "execution_count": 59,
      "outputs": [
        {
          "output_type": "execute_result",
          "data": {
            "text/plain": [
              "(function, method)"
            ]
          },
          "metadata": {
            "tags": []
          },
          "execution_count": 59
        }
      ]
    },
    {
      "cell_type": "code",
      "metadata": {
        "id": "ZwjchV3OCxEX"
      },
      "source": [
        "class Book:\n",
        "\n",
        "  language = 'PL'\n",
        "  author = 'Adam Mickiewicz'\n",
        "\n",
        "  def show_details(*args):\n",
        "    print(args)\n",
        "    for arg in args:\n",
        "      print(f'{arg} -> {type(arg)}')"
      ],
      "execution_count": 60,
      "outputs": []
    },
    {
      "cell_type": "code",
      "metadata": {
        "colab": {
          "base_uri": "https://localhost:8080/"
        },
        "id": "rLePCrA2Dlme",
        "outputId": "d18e8545-eb01-4bfc-fbb2-90bf053902e1"
      },
      "source": [
        "Book()\n"
      ],
      "execution_count": 61,
      "outputs": [
        {
          "output_type": "execute_result",
          "data": {
            "text/plain": [
              "<__main__.Book at 0x7fd5c06fb320>"
            ]
          },
          "metadata": {
            "tags": []
          },
          "execution_count": 61
        }
      ]
    },
    {
      "cell_type": "code",
      "metadata": {
        "colab": {
          "base_uri": "https://localhost:8080/"
        },
        "id": "5w6rSDkoDnAv",
        "outputId": "f36c9e93-a584-4ee8-d854-b6bbd8e27913"
      },
      "source": [
        "Book.show_details()"
      ],
      "execution_count": 62,
      "outputs": [
        {
          "output_type": "stream",
          "text": [
            "()\n"
          ],
          "name": "stdout"
        }
      ]
    },
    {
      "cell_type": "code",
      "metadata": {
        "id": "9gWnNDhTDpL-"
      },
      "source": [
        "book1 = Book()"
      ],
      "execution_count": 63,
      "outputs": []
    },
    {
      "cell_type": "code",
      "metadata": {
        "colab": {
          "base_uri": "https://localhost:8080/"
        },
        "id": "frebWdDgDtBK",
        "outputId": "4cbd4a37-3b05-4e17-adb4-bf909cac247d"
      },
      "source": [
        "book1.show_details()"
      ],
      "execution_count": 64,
      "outputs": [
        {
          "output_type": "stream",
          "text": [
            "(<__main__.Book object at 0x7fd5c07c5b00>,)\n",
            "<__main__.Book object at 0x7fd5c07c5b00> -> <class '__main__.Book'>\n"
          ],
          "name": "stdout"
        }
      ]
    },
    {
      "cell_type": "markdown",
      "metadata": {
        "id": "TC0tSFf1EKc4"
      },
      "source": [
        "Gdy wykonujemy funkcję na poziomie instancji to ta instancja jest wrzucana jako pierwszy argument."
      ]
    },
    {
      "cell_type": "code",
      "metadata": {
        "colab": {
          "base_uri": "https://localhost:8080/"
        },
        "id": "gciHPApODumH",
        "outputId": "a7b4cb1d-3809-4650-a951-516b9e15c8ee"
      },
      "source": [
        "book1.show_details('Tom II', 190)"
      ],
      "execution_count": 65,
      "outputs": [
        {
          "output_type": "stream",
          "text": [
            "(<__main__.Book object at 0x7fd5c07c5b00>, 'Tom II', 190)\n",
            "<__main__.Book object at 0x7fd5c07c5b00> -> <class '__main__.Book'>\n",
            "Tom II -> <class 'str'>\n",
            "190 -> <class 'int'>\n"
          ],
          "name": "stdout"
        }
      ]
    },
    {
      "cell_type": "code",
      "metadata": {
        "colab": {
          "base_uri": "https://localhost:8080/"
        },
        "id": "pH0zpuHqEVB6",
        "outputId": "04d4dcdc-b8e4-4a40-c248-628abd793fd4"
      },
      "source": [
        "class Book:\n",
        "\n",
        "  language = 'PL'\n",
        "  author = 'Adam Mickiewicz'\n",
        "\n",
        "  def set_title(instance, value):\n",
        "    instance.title = value\n",
        "\n",
        "Book.__dict__\n"
      ],
      "execution_count": 66,
      "outputs": [
        {
          "output_type": "execute_result",
          "data": {
            "text/plain": [
              "mappingproxy({'__dict__': <attribute '__dict__' of 'Book' objects>,\n",
              "              '__doc__': None,\n",
              "              '__module__': '__main__',\n",
              "              '__weakref__': <attribute '__weakref__' of 'Book' objects>,\n",
              "              'author': 'Adam Mickiewicz',\n",
              "              'language': 'PL',\n",
              "              'set_title': <function __main__.Book.set_title>})"
            ]
          },
          "metadata": {
            "tags": []
          },
          "execution_count": 66
        }
      ]
    },
    {
      "cell_type": "code",
      "metadata": {
        "id": "g2rc2XhjKwky"
      },
      "source": [
        "book1 = Book()\n"
      ],
      "execution_count": 67,
      "outputs": []
    },
    {
      "cell_type": "code",
      "metadata": {
        "colab": {
          "base_uri": "https://localhost:8080/"
        },
        "id": "g19zOCXYK0he",
        "outputId": "30f1f901-fb51-4a11-a245-966ecb3c92c2"
      },
      "source": [
        "book1.set_title"
      ],
      "execution_count": 68,
      "outputs": [
        {
          "output_type": "execute_result",
          "data": {
            "text/plain": [
              "<bound method Book.set_title of <__main__.Book object at 0x7fd5c089ac50>>"
            ]
          },
          "metadata": {
            "tags": []
          },
          "execution_count": 68
        }
      ]
    },
    {
      "cell_type": "code",
      "metadata": {
        "id": "55LFP9a7K36n"
      },
      "source": [
        "book1.set_title('Pan Tadeusz')"
      ],
      "execution_count": 69,
      "outputs": []
    },
    {
      "cell_type": "code",
      "metadata": {
        "colab": {
          "base_uri": "https://localhost:8080/",
          "height": 35
        },
        "id": "NPga7AB1K-4m",
        "outputId": "ceffee9c-50f7-42c7-a785-f9c2c3d69d0a"
      },
      "source": [
        "book1.title"
      ],
      "execution_count": 70,
      "outputs": [
        {
          "output_type": "execute_result",
          "data": {
            "application/vnd.google.colaboratory.intrinsic+json": {
              "type": "string"
            },
            "text/plain": [
              "'Pan Tadeusz'"
            ]
          },
          "metadata": {
            "tags": []
          },
          "execution_count": 70
        }
      ]
    },
    {
      "cell_type": "code",
      "metadata": {
        "id": "0yQh51LmLA6L"
      },
      "source": [
        "Book.set_title(book1, 'Konrad Wallenrod')"
      ],
      "execution_count": 71,
      "outputs": []
    },
    {
      "cell_type": "code",
      "metadata": {
        "colab": {
          "base_uri": "https://localhost:8080/",
          "height": 35
        },
        "id": "uOkwNIHLLMkA",
        "outputId": "f207de6f-6add-41d0-8dd5-97c7924925cc"
      },
      "source": [
        "book1.title\n"
      ],
      "execution_count": 72,
      "outputs": [
        {
          "output_type": "execute_result",
          "data": {
            "application/vnd.google.colaboratory.intrinsic+json": {
              "type": "string"
            },
            "text/plain": [
              "'Konrad Wallenrod'"
            ]
          },
          "metadata": {
            "tags": []
          },
          "execution_count": 72
        }
      ]
    },
    {
      "cell_type": "code",
      "metadata": {
        "colab": {
          "base_uri": "https://localhost:8080/"
        },
        "id": "N__9NtwMLOqZ",
        "outputId": "4545aac8-119b-4e24-f995-e3992df48bc7"
      },
      "source": [
        "class Book:\n",
        "\n",
        "  language = 'PL'\n",
        "  author = 'Adam Mickiewicz'\n",
        "\n",
        "  def set_title(self, value): # nazwa self odnosi się do konkretnej instancji\n",
        "    self.title = value\n",
        "\n",
        "Book.__dict__"
      ],
      "execution_count": 73,
      "outputs": [
        {
          "output_type": "execute_result",
          "data": {
            "text/plain": [
              "mappingproxy({'__dict__': <attribute '__dict__' of 'Book' objects>,\n",
              "              '__doc__': None,\n",
              "              '__module__': '__main__',\n",
              "              '__weakref__': <attribute '__weakref__' of 'Book' objects>,\n",
              "              'author': 'Adam Mickiewicz',\n",
              "              'language': 'PL',\n",
              "              'set_title': <function __main__.Book.set_title>})"
            ]
          },
          "metadata": {
            "tags": []
          },
          "execution_count": 73
        }
      ]
    },
    {
      "cell_type": "code",
      "metadata": {
        "id": "nkbNEC-GLYU_"
      },
      "source": [
        "Book.get_title = lambda self: self.title\n",
        "book1 = Book()"
      ],
      "execution_count": 74,
      "outputs": []
    },
    {
      "cell_type": "code",
      "metadata": {
        "colab": {
          "base_uri": "https://localhost:8080/",
          "height": 35
        },
        "id": "nTIA3c9RLosX",
        "outputId": "1f649b70-f6f3-4e7b-ba27-8dfdb20b0cea"
      },
      "source": [
        "book1.set_title('Pan Tadeusz')\n",
        "book1.get_title()"
      ],
      "execution_count": 78,
      "outputs": [
        {
          "output_type": "execute_result",
          "data": {
            "application/vnd.google.colaboratory.intrinsic+json": {
              "type": "string"
            },
            "text/plain": [
              "'Pan Tadeusz'"
            ]
          },
          "metadata": {
            "tags": []
          },
          "execution_count": 78
        }
      ]
    },
    {
      "cell_type": "code",
      "metadata": {
        "id": "sPoqdab6Lsr-"
      },
      "source": [
        "class HouseProject:\n",
        "  number_of_floors = 2\n",
        "  area = 100\n",
        "\n",
        "  def describe_project():\n",
        "    print(f'Liczba pięter: {HouseProject.number_of_floors}\\nPowierzchnia: {HouseProject.area} m2')\n",
        "\n",
        "  def set_color(self, colour):\n",
        "    self.color = colour\n"
      ],
      "execution_count": 81,
      "outputs": []
    },
    {
      "cell_type": "code",
      "metadata": {
        "id": "e2IN-kl4MX8x"
      },
      "source": [
        "project1 = HouseProject()"
      ],
      "execution_count": 82,
      "outputs": []
    },
    {
      "cell_type": "code",
      "metadata": {
        "id": "mSqcAuTLMaQY"
      },
      "source": [
        "project1.set_color('czerwony')"
      ],
      "execution_count": 83,
      "outputs": []
    },
    {
      "cell_type": "code",
      "metadata": {
        "colab": {
          "base_uri": "https://localhost:8080/",
          "height": 35
        },
        "id": "jb1kNy_7MzYP",
        "outputId": "1143943c-8f94-4903-e5d0-487a09e62792"
      },
      "source": [
        "project1.color"
      ],
      "execution_count": 84,
      "outputs": [
        {
          "output_type": "execute_result",
          "data": {
            "application/vnd.google.colaboratory.intrinsic+json": {
              "type": "string"
            },
            "text/plain": [
              "'czerwony'"
            ]
          },
          "metadata": {
            "tags": []
          },
          "execution_count": 84
        }
      ]
    },
    {
      "cell_type": "code",
      "metadata": {
        "colab": {
          "base_uri": "https://localhost:8080/"
        },
        "id": "v-5_mmVpM0l_",
        "outputId": "9eb65fa5-db1d-4ca5-fe2e-6c59043a0770"
      },
      "source": [
        "project1.area"
      ],
      "execution_count": 85,
      "outputs": [
        {
          "output_type": "execute_result",
          "data": {
            "text/plain": [
              "100"
            ]
          },
          "metadata": {
            "tags": []
          },
          "execution_count": 85
        }
      ]
    },
    {
      "cell_type": "code",
      "metadata": {
        "id": "dRize-20NXCT"
      },
      "source": [
        "class Phone:\n",
        "\n",
        "  def __init__(self, brand):\n",
        "    self.brand = brand\n",
        "\n",
        "  def print_brand(self):\n",
        "    print(f'{self.__class__.__name__} class')\n",
        "    print(f'Brand: {self.brand}')"
      ],
      "execution_count": 88,
      "outputs": []
    },
    {
      "cell_type": "code",
      "metadata": {
        "colab": {
          "base_uri": "https://localhost:8080/"
        },
        "id": "xLF49BaXTyxw",
        "outputId": "45b87d9b-4dc7-4628-af8b-ed0239037c93"
      },
      "source": [
        "  phone1 = Phone('Apple')\n",
        "  phone1.print_brand()\n"
      ],
      "execution_count": 89,
      "outputs": [
        {
          "output_type": "stream",
          "text": [
            "Phone class\n",
            "Brand: Apple\n"
          ],
          "name": "stdout"
        }
      ]
    },
    {
      "cell_type": "code",
      "metadata": {
        "colab": {
          "base_uri": "https://localhost:8080/"
        },
        "id": "itJvzGgVVy-w",
        "outputId": "80cea07a-2115-4559-f0bb-c6b24d0208f3"
      },
      "source": [
        "class Phone:\n",
        "\n",
        "  brand = 'Apple'\n",
        "\n",
        "  def __init__(self, brand):\n",
        "    self.brand = brand\n",
        "\n",
        "  def print_brand(self):\n",
        "    print(f'Wartość atrybutu klasy: {Phone.brand}')\n",
        "    print(f'Wartosc atrybutu instancji: {self.brand}') # tutaj będziemy mieć wartość atrybutu instancji\n",
        " \n",
        "Phone.__dict__"
      ],
      "execution_count": 97,
      "outputs": [
        {
          "output_type": "execute_result",
          "data": {
            "text/plain": [
              "mappingproxy({'__dict__': <attribute '__dict__' of 'Phone' objects>,\n",
              "              '__doc__': None,\n",
              "              '__init__': <function __main__.Phone.__init__>,\n",
              "              '__module__': '__main__',\n",
              "              '__weakref__': <attribute '__weakref__' of 'Phone' objects>,\n",
              "              'brand': 'Apple',\n",
              "              'print_brand': <function __main__.Phone.print_brand>})"
            ]
          },
          "metadata": {
            "tags": []
          },
          "execution_count": 97
        }
      ]
    },
    {
      "cell_type": "code",
      "metadata": {
        "colab": {
          "base_uri": "https://localhost:8080/"
        },
        "id": "ESjkctsQWIrX",
        "outputId": "50d7990e-0d40-4e93-bd89-501af1b4dbae"
      },
      "source": [
        "phone1 = Phone('Samsung')\n",
        "phone1.print_brand()"
      ],
      "execution_count": 100,
      "outputs": [
        {
          "output_type": "stream",
          "text": [
            "Wartość atrybutu klasy: Apple\n",
            "Wartosc atrybutu instancji: Samsung\n"
          ],
          "name": "stdout"
        }
      ]
    },
    {
      "cell_type": "code",
      "metadata": {
        "colab": {
          "base_uri": "https://localhost:8080/"
        },
        "id": "_oOmmpyyWYrn",
        "outputId": "2ce01277-1b85-4d6b-f7e0-88a9af012eb3"
      },
      "source": [
        "brand = 'HP'\n",
        "\n",
        "class Phone:\n",
        "\n",
        "  brand = 'Apple'\n",
        "  result1 = [brand]*5\n",
        "  result2 = [brand for i in range(5)] # list comprehension działa jak funkcja, a klasa nie tworzy zakresu dla funkcji\n",
        "                                      # więc zmienna brand pochodzi z zakresu globalnego\n",
        "\n",
        "Phone.__dict__"
      ],
      "execution_count": 101,
      "outputs": [
        {
          "output_type": "execute_result",
          "data": {
            "text/plain": [
              "mappingproxy({'__dict__': <attribute '__dict__' of 'Phone' objects>,\n",
              "              '__doc__': None,\n",
              "              '__module__': '__main__',\n",
              "              '__weakref__': <attribute '__weakref__' of 'Phone' objects>,\n",
              "              'brand': 'Apple',\n",
              "              'result1': ['Apple', 'Apple', 'Apple', 'Apple', 'Apple'],\n",
              "              'result2': ['HP', 'HP', 'HP', 'HP', 'HP']})"
            ]
          },
          "metadata": {
            "tags": []
          },
          "execution_count": 101
        }
      ]
    },
    {
      "cell_type": "code",
      "metadata": {
        "colab": {
          "base_uri": "https://localhost:8080/"
        },
        "id": "QPKUz6DbX1R8",
        "outputId": "9151250c-87b7-4f03-e7da-352b0080b225"
      },
      "source": [
        "brand = 'HP'\n",
        "\n",
        "class Phone:\n",
        "\n",
        "  brand = 'Apple'\n",
        "  result1 = [brand]*5\n",
        "  result2 = [Phone.brand for i in range(5)] # list comprehension działa jak funkcja, a klasa nie tworzy zakresu dla funkcji\n",
        "                                      # więc zmienna brand pochodzi z zakresu globalnego\n",
        "\n",
        "Phone.__dict__"
      ],
      "execution_count": 102,
      "outputs": [
        {
          "output_type": "execute_result",
          "data": {
            "text/plain": [
              "mappingproxy({'__dict__': <attribute '__dict__' of 'Phone' objects>,\n",
              "              '__doc__': None,\n",
              "              '__module__': '__main__',\n",
              "              '__weakref__': <attribute '__weakref__' of 'Phone' objects>,\n",
              "              'brand': 'Apple',\n",
              "              'result1': ['Apple', 'Apple', 'Apple', 'Apple', 'Apple'],\n",
              "              'result2': ['Apple', 'Apple', 'Apple', 'Apple', 'Apple']})"
            ]
          },
          "metadata": {
            "tags": []
          },
          "execution_count": 102
        }
      ]
    },
    {
      "cell_type": "code",
      "metadata": {
        "colab": {
          "base_uri": "https://localhost:8080/"
        },
        "id": "r7nC56RQYYov",
        "outputId": "082b4d5d-a067-4732-da75-38b0c6a74bcd"
      },
      "source": [
        "class Book:\n",
        "    language = 'ENG'\n",
        "    is_ebook = True\n",
        "    \n",
        "book = Book()\n",
        "print(book.__dict__)\n",
        "book.author = 'Dan Brown'\n",
        "book.title = 'Inferno'\n",
        "\n",
        "print(book.__dict__)"
      ],
      "execution_count": 104,
      "outputs": [
        {
          "output_type": "stream",
          "text": [
            "{}\n",
            "{'author': 'Dan Brown', 'title': 'Inferno'}\n"
          ],
          "name": "stdout"
        }
      ]
    },
    {
      "cell_type": "code",
      "metadata": {
        "id": "xSZmluPqY0EQ"
      },
      "source": [
        ""
      ],
      "execution_count": null,
      "outputs": []
    }
  ]
}