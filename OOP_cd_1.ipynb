{
  "nbformat": 4,
  "nbformat_minor": 0,
  "metadata": {
    "colab": {
      "name": "Untitled79.ipynb",
      "provenance": [],
      "authorship_tag": "ABX9TyMsWPHjsnpVlI80I4NRngq6",
      "include_colab_link": true
    },
    "kernelspec": {
      "name": "python3",
      "display_name": "Python 3"
    }
  },
  "cells": [
    {
      "cell_type": "markdown",
      "metadata": {
        "id": "view-in-github",
        "colab_type": "text"
      },
      "source": [
        "<a href=\"https://colab.research.google.com/github/pawel0508/OOP/blob/main/OOP_cd_1.ipynb\" target=\"_parent\"><img src=\"https://colab.research.google.com/assets/colab-badge.svg\" alt=\"Open In Colab\"/></a>"
      ]
    },
    {
      "cell_type": "code",
      "metadata": {
        "colab": {
          "base_uri": "https://localhost:8080/"
        },
        "id": "TTiw809AlPTi",
        "outputId": "b401b4b4-b1b2-41b8-8e52-696c1dd6cd0e"
      },
      "source": [
        "class Phone:\n",
        "  pass\n",
        "\n",
        "type(Phone)"
      ],
      "execution_count": null,
      "outputs": [
        {
          "output_type": "execute_result",
          "data": {
            "text/plain": [
              "type"
            ]
          },
          "metadata": {
            "tags": []
          },
          "execution_count": 1
        }
      ]
    },
    {
      "cell_type": "code",
      "metadata": {
        "colab": {
          "base_uri": "https://localhost:8080/"
        },
        "id": "VZW_h6BrlZww",
        "outputId": "c91b520d-c899-40f6-dd57-81f100c05b91"
      },
      "source": [
        "class Phone(object): # w starszych Pythonach tak sie to tworzyło klasę, \n",
        "# objcet oznacza dziedziczenie po klasie object\n",
        "  pass\n",
        "\n",
        "type(Phone)"
      ],
      "execution_count": null,
      "outputs": [
        {
          "output_type": "execute_result",
          "data": {
            "text/plain": [
              "type"
            ]
          },
          "metadata": {
            "tags": []
          },
          "execution_count": 2
        }
      ]
    },
    {
      "cell_type": "code",
      "metadata": {
        "colab": {
          "base_uri": "https://localhost:8080/"
        },
        "id": "_wxq4_Eal0jO",
        "outputId": "e0f21d78-0fb5-474c-dc00-0405f15c94d9"
      },
      "source": [
        "class Phone:\n",
        "  \"\"\"The Phone class\"\"\"\n",
        "\n",
        "help(Phone)"
      ],
      "execution_count": null,
      "outputs": [
        {
          "output_type": "stream",
          "text": [
            "Help on class Phone in module __main__:\n",
            "\n",
            "class Phone(builtins.object)\n",
            " |  The Phone class\n",
            " |  \n",
            " |  Data descriptors defined here:\n",
            " |  \n",
            " |  __dict__\n",
            " |      dictionary for instance variables (if defined)\n",
            " |  \n",
            " |  __weakref__\n",
            " |      list of weak references to the object (if defined)\n",
            "\n"
          ],
          "name": "stdout"
        }
      ]
    },
    {
      "cell_type": "markdown",
      "metadata": {
        "id": "WWm4PtjomOKm"
      },
      "source": [
        "### Funkcja wbudowana type()"
      ]
    },
    {
      "cell_type": "code",
      "metadata": {
        "colab": {
          "base_uri": "https://localhost:8080/"
        },
        "id": "8K3H1aj-l9no",
        "outputId": "92a98941-872d-437b-f562-9d9a9289c32a"
      },
      "source": [
        "type('Apple')"
      ],
      "execution_count": null,
      "outputs": [
        {
          "output_type": "execute_result",
          "data": {
            "text/plain": [
              "str"
            ]
          },
          "metadata": {
            "tags": []
          },
          "execution_count": 5
        }
      ]
    },
    {
      "cell_type": "code",
      "metadata": {
        "colab": {
          "base_uri": "https://localhost:8080/"
        },
        "id": "0KPRr5VimTAP",
        "outputId": "b8c99374-dde5-4378-9858-cd668af46844"
      },
      "source": [
        "type('Apple'), type(3.14), type(True), type(None)"
      ],
      "execution_count": null,
      "outputs": [
        {
          "output_type": "execute_result",
          "data": {
            "text/plain": [
              "(str, float, bool, NoneType)"
            ]
          },
          "metadata": {
            "tags": []
          },
          "execution_count": 8
        }
      ]
    },
    {
      "cell_type": "code",
      "metadata": {
        "colab": {
          "base_uri": "https://localhost:8080/"
        },
        "id": "rdd362RQmU0V",
        "outputId": "c0fcc5d4-e58d-432a-da65-dd180bd02e41"
      },
      "source": [
        "class Phone:\n",
        "  \"\"\"The Phone class\"\"\"\n",
        "type(Phone)"
      ],
      "execution_count": null,
      "outputs": [
        {
          "output_type": "execute_result",
          "data": {
            "text/plain": [
              "type"
            ]
          },
          "metadata": {
            "tags": []
          },
          "execution_count": 9
        }
      ]
    },
    {
      "cell_type": "code",
      "metadata": {
        "colab": {
          "base_uri": "https://localhost:8080/"
        },
        "id": "K3UVuQL0mfvh",
        "outputId": "73909280-2148-4ee5-91d5-cbb632432c83"
      },
      "source": [
        "type(object)"
      ],
      "execution_count": null,
      "outputs": [
        {
          "output_type": "execute_result",
          "data": {
            "text/plain": [
              "type"
            ]
          },
          "metadata": {
            "tags": []
          },
          "execution_count": 10
        }
      ]
    },
    {
      "cell_type": "code",
      "metadata": {
        "colab": {
          "base_uri": "https://localhost:8080/"
        },
        "id": "BGc2HVrMmiNf",
        "outputId": "9b5c7e54-ec32-40f0-f9ed-f4fb73349c9b"
      },
      "source": [
        "type(int), type(float), type(str), type(bool), type(type)"
      ],
      "execution_count": null,
      "outputs": [
        {
          "output_type": "execute_result",
          "data": {
            "text/plain": [
              "(type, type, type, type, type)"
            ]
          },
          "metadata": {
            "tags": []
          },
          "execution_count": 12
        }
      ]
    },
    {
      "cell_type": "code",
      "metadata": {
        "colab": {
          "base_uri": "https://localhost:8080/"
        },
        "id": "Fppz38NMmmZx",
        "outputId": "04737115-96f5-47e3-8310-d231d20c9520"
      },
      "source": [
        "class Phone:\n",
        "  \"\"\"The Phone class\"\"\"\n",
        "Phone"
      ],
      "execution_count": null,
      "outputs": [
        {
          "output_type": "execute_result",
          "data": {
            "text/plain": [
              "__main__.Phone"
            ]
          },
          "metadata": {
            "tags": []
          },
          "execution_count": 19
        }
      ]
    },
    {
      "cell_type": "code",
      "metadata": {
        "colab": {
          "base_uri": "https://localhost:8080/",
          "height": 35
        },
        "id": "_7HMnLxVvhUw",
        "outputId": "8483e390-5a30-4fc3-e109-b7342e39058c"
      },
      "source": [
        "Phone.__name__"
      ],
      "execution_count": null,
      "outputs": [
        {
          "output_type": "execute_result",
          "data": {
            "application/vnd.google.colaboratory.intrinsic+json": {
              "type": "string"
            },
            "text/plain": [
              "'Phone'"
            ]
          },
          "metadata": {
            "tags": []
          },
          "execution_count": 15
        }
      ]
    },
    {
      "cell_type": "code",
      "metadata": {
        "colab": {
          "base_uri": "https://localhost:8080/",
          "height": 35
        },
        "id": "HiRWg0puvj1v",
        "outputId": "6c513cce-2f98-463c-d0a0-df770c5f694a"
      },
      "source": [
        "Phone.__module__"
      ],
      "execution_count": null,
      "outputs": [
        {
          "output_type": "execute_result",
          "data": {
            "application/vnd.google.colaboratory.intrinsic+json": {
              "type": "string"
            },
            "text/plain": [
              "'__main__'"
            ]
          },
          "metadata": {
            "tags": []
          },
          "execution_count": 16
        }
      ]
    },
    {
      "cell_type": "code",
      "metadata": {
        "colab": {
          "base_uri": "https://localhost:8080/",
          "height": 35
        },
        "id": "GRdJ2lwvvpJl",
        "outputId": "ec065e91-6776-4b9e-c04c-b4fc1b65e57f"
      },
      "source": [
        "Phone.__doc__"
      ],
      "execution_count": null,
      "outputs": [
        {
          "output_type": "execute_result",
          "data": {
            "application/vnd.google.colaboratory.intrinsic+json": {
              "type": "string"
            },
            "text/plain": [
              "'The Phone class'"
            ]
          },
          "metadata": {
            "tags": []
          },
          "execution_count": 20
        }
      ]
    },
    {
      "cell_type": "code",
      "metadata": {
        "colab": {
          "base_uri": "https://localhost:8080/"
        },
        "id": "ABNMn_opvsQi",
        "outputId": "f5efed78-9e6f-4ecb-9850-05a4e7875252"
      },
      "source": [
        "Phone()"
      ],
      "execution_count": null,
      "outputs": [
        {
          "output_type": "execute_result",
          "data": {
            "text/plain": [
              "<__main__.Phone at 0x7f5a90d8d6a0>"
            ]
          },
          "metadata": {
            "tags": []
          },
          "execution_count": 21
        }
      ]
    },
    {
      "cell_type": "markdown",
      "metadata": {
        "id": "SQnPm5I5wIRJ"
      },
      "source": [
        "### Tworzenie instancji klasy"
      ]
    },
    {
      "cell_type": "code",
      "metadata": {
        "colab": {
          "base_uri": "https://localhost:8080/"
        },
        "id": "12q9FcClv2n_",
        "outputId": "74e766a2-8b26-4530-9a9b-03340ce5576e"
      },
      "source": [
        "class Phone:\n",
        "  \"\"\"The Phone Class\"\"\"\n",
        "\n",
        "phone = Phone()\n",
        "\n",
        "type(phone)"
      ],
      "execution_count": null,
      "outputs": [
        {
          "output_type": "execute_result",
          "data": {
            "text/plain": [
              "__main__.Phone"
            ]
          },
          "metadata": {
            "tags": []
          },
          "execution_count": 22
        }
      ]
    },
    {
      "cell_type": "markdown",
      "metadata": {
        "id": "inHiwW59wW_B"
      },
      "source": [
        "Atrybut **'__class__'** zwraca nazwę klasy do której należy obiekt[tekst linku](https://)"
      ]
    },
    {
      "cell_type": "code",
      "metadata": {
        "colab": {
          "base_uri": "https://localhost:8080/"
        },
        "id": "YynstqqpwQU8",
        "outputId": "ba09f4bf-7f8e-44be-ee9d-f2e06ad4542c"
      },
      "source": [
        "phone.__class__"
      ],
      "execution_count": null,
      "outputs": [
        {
          "output_type": "execute_result",
          "data": {
            "text/plain": [
              "__main__.Phone"
            ]
          },
          "metadata": {
            "tags": []
          },
          "execution_count": 24
        }
      ]
    },
    {
      "cell_type": "code",
      "metadata": {
        "colab": {
          "base_uri": "https://localhost:8080/"
        },
        "id": "XIbEDXcxwWXy",
        "outputId": "581cfbce-01dc-449f-9084-e77808a1b5f4"
      },
      "source": [
        "phone.__dict__"
      ],
      "execution_count": null,
      "outputs": [
        {
          "output_type": "execute_result",
          "data": {
            "text/plain": [
              "{}"
            ]
          },
          "metadata": {
            "tags": []
          },
          "execution_count": 25
        }
      ]
    },
    {
      "cell_type": "code",
      "metadata": {
        "colab": {
          "base_uri": "https://localhost:8080/",
          "height": 35
        },
        "id": "Rl5OLo8xwyXW",
        "outputId": "14fd7cfe-a837-4b4e-c336-d3b845d32d1a"
      },
      "source": [
        "phone.__class__.__name__"
      ],
      "execution_count": null,
      "outputs": [
        {
          "output_type": "execute_result",
          "data": {
            "application/vnd.google.colaboratory.intrinsic+json": {
              "type": "string"
            },
            "text/plain": [
              "'Phone'"
            ]
          },
          "metadata": {
            "tags": []
          },
          "execution_count": 27
        }
      ]
    },
    {
      "cell_type": "code",
      "metadata": {
        "colab": {
          "base_uri": "https://localhost:8080/"
        },
        "id": "KOHAWbs6w0hP",
        "outputId": "6a8bfc29-a0e6-4788-cdd0-9136fcea4047"
      },
      "source": [
        "type(phone)"
      ],
      "execution_count": null,
      "outputs": [
        {
          "output_type": "execute_result",
          "data": {
            "text/plain": [
              "__main__.Phone"
            ]
          },
          "metadata": {
            "tags": []
          },
          "execution_count": 28
        }
      ]
    },
    {
      "cell_type": "code",
      "metadata": {
        "id": "qKJ7Ofq5w7kN"
      },
      "source": [
        "class Phone:\n",
        "  \"\"\"The Phone class\"\"\"\n",
        "\n",
        "phone1 = Phone()\n",
        "phone2 = Phone()"
      ],
      "execution_count": null,
      "outputs": []
    },
    {
      "cell_type": "code",
      "metadata": {
        "colab": {
          "base_uri": "https://localhost:8080/"
        },
        "id": "0Nnv02qAxD8B",
        "outputId": "eac2953a-7588-4b3d-9af4-7af71c4265bf"
      },
      "source": [
        "phone1, phone2"
      ],
      "execution_count": null,
      "outputs": [
        {
          "output_type": "execute_result",
          "data": {
            "text/plain": [
              "(<__main__.Phone at 0x7f5a90d95240>, <__main__.Phone at 0x7f5a90d95f28>)"
            ]
          },
          "metadata": {
            "tags": []
          },
          "execution_count": 30
        }
      ]
    },
    {
      "cell_type": "code",
      "metadata": {
        "colab": {
          "base_uri": "https://localhost:8080/"
        },
        "id": "rOjjNGOaxGXh",
        "outputId": "9b2fc665-c17a-499f-bc5a-218b54775960"
      },
      "source": [
        "help(id)"
      ],
      "execution_count": null,
      "outputs": [
        {
          "output_type": "stream",
          "text": [
            "Help on built-in function id in module builtins:\n",
            "\n",
            "id(obj, /)\n",
            "    Return the identity of an object.\n",
            "    \n",
            "    This is guaranteed to be unique among simultaneously existing objects.\n",
            "    (CPython uses the object's memory address.)\n",
            "\n"
          ],
          "name": "stdout"
        }
      ]
    },
    {
      "cell_type": "code",
      "metadata": {
        "colab": {
          "base_uri": "https://localhost:8080/"
        },
        "id": "DOgXkPtBxKe_",
        "outputId": "2506b8fc-2eba-443b-cec4-42538002776d"
      },
      "source": [
        "id(phone1), id(phone2)"
      ],
      "execution_count": null,
      "outputs": [
        {
          "output_type": "execute_result",
          "data": {
            "text/plain": [
              "(140026953945664, 140026953948968)"
            ]
          },
          "metadata": {
            "tags": []
          },
          "execution_count": 32
        }
      ]
    },
    {
      "cell_type": "code",
      "metadata": {
        "colab": {
          "base_uri": "https://localhost:8080/"
        },
        "id": "YgkylPHAxNUr",
        "outputId": "7f4005c6-440b-486c-a9d9-9ede0f54c3d3"
      },
      "source": [
        "phone1 is phone2"
      ],
      "execution_count": null,
      "outputs": [
        {
          "output_type": "execute_result",
          "data": {
            "text/plain": [
              "False"
            ]
          },
          "metadata": {
            "tags": []
          },
          "execution_count": 33
        }
      ]
    },
    {
      "cell_type": "markdown",
      "metadata": {
        "id": "hWSYSveXxWwD"
      },
      "source": [
        "### Wywołanie klasy krok po kroku "
      ]
    },
    {
      "cell_type": "code",
      "metadata": {
        "id": "qam5AbznxTuS"
      },
      "source": [
        "class HouseProject:\n",
        "  def __init__(self, type_of_project):\n",
        "    self.type_of_project = type_of_project\n",
        "\n",
        "project1 = HouseProject('Dom jednorodzinny')\n"
      ],
      "execution_count": null,
      "outputs": []
    },
    {
      "cell_type": "code",
      "metadata": {
        "colab": {
          "base_uri": "https://localhost:8080/"
        },
        "id": "qkTRGcbiyyMK",
        "outputId": "82a35f0c-36bc-4316-a683-4d8fe4d5f9c9"
      },
      "source": [
        "project1"
      ],
      "execution_count": null,
      "outputs": [
        {
          "output_type": "execute_result",
          "data": {
            "text/plain": [
              "<__main__.HouseProject at 0x7f5a90e47240>"
            ]
          },
          "metadata": {
            "tags": []
          },
          "execution_count": 36
        }
      ]
    },
    {
      "cell_type": "code",
      "metadata": {
        "colab": {
          "base_uri": "https://localhost:8080/"
        },
        "id": "y-D-Tq6my2tK",
        "outputId": "c1dfb403-ad09-413e-f8f9-033d7296ff48"
      },
      "source": [
        "type(project1)"
      ],
      "execution_count": null,
      "outputs": [
        {
          "output_type": "execute_result",
          "data": {
            "text/plain": [
              "__main__.HouseProject"
            ]
          },
          "metadata": {
            "tags": []
          },
          "execution_count": 37
        }
      ]
    },
    {
      "cell_type": "code",
      "metadata": {
        "colab": {
          "base_uri": "https://localhost:8080/",
          "height": 35
        },
        "id": "jT2rMiHvy5F2",
        "outputId": "0885ea37-e058-415c-ee05-5d711cece644"
      },
      "source": [
        "project1.type_of_project"
      ],
      "execution_count": null,
      "outputs": [
        {
          "output_type": "execute_result",
          "data": {
            "application/vnd.google.colaboratory.intrinsic+json": {
              "type": "string"
            },
            "text/plain": [
              "'Dom jednorodzinny'"
            ]
          },
          "metadata": {
            "tags": []
          },
          "execution_count": 38
        }
      ]
    },
    {
      "cell_type": "code",
      "metadata": {
        "id": "zKIzgkhAy8IZ"
      },
      "source": [
        "projekt2 = HouseProject.__new__(HouseProject)"
      ],
      "execution_count": null,
      "outputs": []
    },
    {
      "cell_type": "code",
      "metadata": {
        "id": "_PhREwXAzFid"
      },
      "source": [
        "projekt2.__init__('Dom jednorodzinny')"
      ],
      "execution_count": null,
      "outputs": []
    },
    {
      "cell_type": "code",
      "metadata": {
        "colab": {
          "base_uri": "https://localhost:8080/",
          "height": 35
        },
        "id": "iIA8R9-jzM8e",
        "outputId": "c5490210-5cd2-4def-812e-ae38b7a6e986"
      },
      "source": [
        "projekt2.type_of_project"
      ],
      "execution_count": null,
      "outputs": [
        {
          "output_type": "execute_result",
          "data": {
            "application/vnd.google.colaboratory.intrinsic+json": {
              "type": "string"
            },
            "text/plain": [
              "'Dom jednorodzinny'"
            ]
          },
          "metadata": {
            "tags": []
          },
          "execution_count": 41
        }
      ]
    },
    {
      "cell_type": "code",
      "metadata": {
        "colab": {
          "base_uri": "https://localhost:8080/"
        },
        "id": "SDAAbzcGzQr9",
        "outputId": "7a69a1c3-03bf-46ba-d9b7-71936e52ee41"
      },
      "source": [
        "class Phone:\n",
        "  \"\"\"The Phone Class\"\"\"\n",
        "\n",
        "isinstance(Phone, type)"
      ],
      "execution_count": null,
      "outputs": [
        {
          "output_type": "execute_result",
          "data": {
            "text/plain": [
              "True"
            ]
          },
          "metadata": {
            "tags": []
          },
          "execution_count": 42
        }
      ]
    },
    {
      "cell_type": "code",
      "metadata": {
        "id": "RhnRPJeHAg1a"
      },
      "source": [
        "phone1 = Phone() # tworzenie instancji phone1 dla klasy Phone()"
      ],
      "execution_count": null,
      "outputs": []
    },
    {
      "cell_type": "code",
      "metadata": {
        "colab": {
          "base_uri": "https://localhost:8080/"
        },
        "id": "aP_JSQKSAlyb",
        "outputId": "722421cc-1318-426e-c719-9beea7778a52"
      },
      "source": [
        "isinstance(phone1, Phone)"
      ],
      "execution_count": null,
      "outputs": [
        {
          "output_type": "execute_result",
          "data": {
            "text/plain": [
              "True"
            ]
          },
          "metadata": {
            "tags": []
          },
          "execution_count": 45
        }
      ]
    },
    {
      "cell_type": "code",
      "metadata": {
        "colab": {
          "base_uri": "https://localhost:8080/"
        },
        "id": "_Z6u2RiuAscq",
        "outputId": "5932b03a-2a71-4907-c9ab-e39c7817dde0"
      },
      "source": [
        "isinstance(phone1, str)"
      ],
      "execution_count": null,
      "outputs": [
        {
          "output_type": "execute_result",
          "data": {
            "text/plain": [
              "False"
            ]
          },
          "metadata": {
            "tags": []
          },
          "execution_count": 46
        }
      ]
    },
    {
      "cell_type": "code",
      "metadata": {
        "colab": {
          "base_uri": "https://localhost:8080/"
        },
        "id": "byNHkWAiA3BF",
        "outputId": "75cb481f-eaec-445d-d448-baaa3b9059bb"
      },
      "source": [
        "class Laptop:\n",
        "  \"\"\"The laptop class\"\"\"\n",
        "\n",
        "isinstance(Laptop, type)"
      ],
      "execution_count": null,
      "outputs": [
        {
          "output_type": "execute_result",
          "data": {
            "text/plain": [
              "True"
            ]
          },
          "metadata": {
            "tags": []
          },
          "execution_count": 47
        }
      ]
    },
    {
      "cell_type": "code",
      "metadata": {
        "id": "D6Lxr7OlA_U9"
      },
      "source": [
        "phone1 = Phone()\n",
        "laptop1 = Laptop()"
      ],
      "execution_count": null,
      "outputs": []
    },
    {
      "cell_type": "code",
      "metadata": {
        "colab": {
          "base_uri": "https://localhost:8080/"
        },
        "id": "pVTkWgPbBEMG",
        "outputId": "8af1b23c-d012-4040-9010-88ebafcfc74c"
      },
      "source": [
        "phone1, laptop1"
      ],
      "execution_count": null,
      "outputs": [
        {
          "output_type": "execute_result",
          "data": {
            "text/plain": [
              "(<__main__.Phone at 0x7f5a90d95208>, <__main__.Laptop at 0x7f5a90d952b0>)"
            ]
          },
          "metadata": {
            "tags": []
          },
          "execution_count": 49
        }
      ]
    },
    {
      "cell_type": "markdown",
      "metadata": {
        "id": "VaSAYlElBJKI"
      },
      "source": [
        "Chcemy sprawdzić czy nasz obiekt jest instancją którejkolwiek z klas"
      ]
    },
    {
      "cell_type": "code",
      "metadata": {
        "colab": {
          "base_uri": "https://localhost:8080/"
        },
        "id": "yd_1l4O_BF-9",
        "outputId": "457556f0-6f3d-4593-96f2-08d04aafa436"
      },
      "source": [
        "isinstance(phone1, (Phone, Laptop))"
      ],
      "execution_count": null,
      "outputs": [
        {
          "output_type": "execute_result",
          "data": {
            "text/plain": [
              "True"
            ]
          },
          "metadata": {
            "tags": []
          },
          "execution_count": 50
        }
      ]
    },
    {
      "cell_type": "code",
      "metadata": {
        "id": "dnDztGQDBUro"
      },
      "source": [
        "import pandas as pd"
      ],
      "execution_count": null,
      "outputs": []
    },
    {
      "cell_type": "code",
      "metadata": {
        "colab": {
          "base_uri": "https://localhost:8080/"
        },
        "id": "NdcNbG02BwoS",
        "outputId": "8d3617a0-ae5e-4217-e212-20de5c5829c9"
      },
      "source": [
        "dir(pd)"
      ],
      "execution_count": null,
      "outputs": [
        {
          "output_type": "execute_result",
          "data": {
            "text/plain": [
              "['BooleanDtype',\n",
              " 'Categorical',\n",
              " 'CategoricalDtype',\n",
              " 'CategoricalIndex',\n",
              " 'DataFrame',\n",
              " 'DateOffset',\n",
              " 'DatetimeIndex',\n",
              " 'DatetimeTZDtype',\n",
              " 'ExcelFile',\n",
              " 'ExcelWriter',\n",
              " 'Float64Index',\n",
              " 'Grouper',\n",
              " 'HDFStore',\n",
              " 'Index',\n",
              " 'IndexSlice',\n",
              " 'Int16Dtype',\n",
              " 'Int32Dtype',\n",
              " 'Int64Dtype',\n",
              " 'Int64Index',\n",
              " 'Int8Dtype',\n",
              " 'Interval',\n",
              " 'IntervalDtype',\n",
              " 'IntervalIndex',\n",
              " 'MultiIndex',\n",
              " 'NA',\n",
              " 'NaT',\n",
              " 'NamedAgg',\n",
              " 'Panel',\n",
              " 'Period',\n",
              " 'PeriodDtype',\n",
              " 'PeriodIndex',\n",
              " 'RangeIndex',\n",
              " 'Series',\n",
              " 'SparseArray',\n",
              " 'SparseDataFrame',\n",
              " 'SparseDtype',\n",
              " 'SparseSeries',\n",
              " 'StringDtype',\n",
              " 'Timedelta',\n",
              " 'TimedeltaIndex',\n",
              " 'Timestamp',\n",
              " 'UInt16Dtype',\n",
              " 'UInt32Dtype',\n",
              " 'UInt64Dtype',\n",
              " 'UInt64Index',\n",
              " 'UInt8Dtype',\n",
              " '__Datetime',\n",
              " '__DatetimeSub',\n",
              " '__SparseArray',\n",
              " '__SparseArraySub',\n",
              " '__builtins__',\n",
              " '__cached__',\n",
              " '__doc__',\n",
              " '__docformat__',\n",
              " '__file__',\n",
              " '__git_version__',\n",
              " '__loader__',\n",
              " '__name__',\n",
              " '__numpy',\n",
              " '__package__',\n",
              " '__path__',\n",
              " '__spec__',\n",
              " '__version__',\n",
              " '_config',\n",
              " '_hashtable',\n",
              " '_is_numpy_dev',\n",
              " '_lib',\n",
              " '_libs',\n",
              " '_np_version_under1p16',\n",
              " '_np_version_under1p17',\n",
              " '_np_version_under1p18',\n",
              " '_testing',\n",
              " '_tslib',\n",
              " '_typing',\n",
              " '_version',\n",
              " 'api',\n",
              " 'array',\n",
              " 'arrays',\n",
              " 'bdate_range',\n",
              " 'compat',\n",
              " 'concat',\n",
              " 'core',\n",
              " 'crosstab',\n",
              " 'cut',\n",
              " 'date_range',\n",
              " 'datetime',\n",
              " 'describe_option',\n",
              " 'errors',\n",
              " 'eval',\n",
              " 'factorize',\n",
              " 'get_dummies',\n",
              " 'get_option',\n",
              " 'infer_freq',\n",
              " 'interval_range',\n",
              " 'io',\n",
              " 'isna',\n",
              " 'isnull',\n",
              " 'json_normalize',\n",
              " 'lreshape',\n",
              " 'melt',\n",
              " 'merge',\n",
              " 'merge_asof',\n",
              " 'merge_ordered',\n",
              " 'notna',\n",
              " 'notnull',\n",
              " 'np',\n",
              " 'offsets',\n",
              " 'option_context',\n",
              " 'options',\n",
              " 'pandas',\n",
              " 'period_range',\n",
              " 'pivot',\n",
              " 'pivot_table',\n",
              " 'plotting',\n",
              " 'qcut',\n",
              " 'read_clipboard',\n",
              " 'read_csv',\n",
              " 'read_excel',\n",
              " 'read_feather',\n",
              " 'read_fwf',\n",
              " 'read_gbq',\n",
              " 'read_hdf',\n",
              " 'read_html',\n",
              " 'read_json',\n",
              " 'read_orc',\n",
              " 'read_parquet',\n",
              " 'read_pickle',\n",
              " 'read_sas',\n",
              " 'read_spss',\n",
              " 'read_sql',\n",
              " 'read_sql_query',\n",
              " 'read_sql_table',\n",
              " 'read_stata',\n",
              " 'read_table',\n",
              " 'reset_option',\n",
              " 'set_eng_float_format',\n",
              " 'set_option',\n",
              " 'show_versions',\n",
              " 'test',\n",
              " 'testing',\n",
              " 'timedelta_range',\n",
              " 'to_datetime',\n",
              " 'to_numeric',\n",
              " 'to_pickle',\n",
              " 'to_timedelta',\n",
              " 'tseries',\n",
              " 'unique',\n",
              " 'util',\n",
              " 'value_counts',\n",
              " 'wide_to_long']"
            ]
          },
          "metadata": {
            "tags": []
          },
          "execution_count": 53
        }
      ]
    },
    {
      "cell_type": "code",
      "metadata": {
        "colab": {
          "base_uri": "https://localhost:8080/",
          "height": 35
        },
        "id": "EZep2ZajByb0",
        "outputId": "d241eac0-c473-47e5-992e-a273d6ebefae"
      },
      "source": [
        "pd.__file__ # atrybut file, ścieszka do pliku gdzie zainstalowano bibliotekę"
      ],
      "execution_count": null,
      "outputs": [
        {
          "output_type": "execute_result",
          "data": {
            "application/vnd.google.colaboratory.intrinsic+json": {
              "type": "string"
            },
            "text/plain": [
              "'/usr/local/lib/python3.6/dist-packages/pandas/__init__.py'"
            ]
          },
          "metadata": {
            "tags": []
          },
          "execution_count": 54
        }
      ]
    },
    {
      "cell_type": "code",
      "metadata": {
        "colab": {
          "base_uri": "https://localhost:8080/"
        },
        "id": "-Caf2T6XB9Ut",
        "outputId": "e905d5c5-2878-4755-d0fd-b739ac498d64"
      },
      "source": [
        "print(pd.__file__)"
      ],
      "execution_count": null,
      "outputs": [
        {
          "output_type": "stream",
          "text": [
            "/usr/local/lib/python3.6/dist-packages/pandas/__init__.py\n"
          ],
          "name": "stdout"
        }
      ]
    },
    {
      "cell_type": "code",
      "metadata": {
        "colab": {
          "base_uri": "https://localhost:8080/"
        },
        "id": "5IFDsgq6QryH",
        "outputId": "25161609-2c3a-4732-a73a-40304a746a28"
      },
      "source": [
        "dir(pd)"
      ],
      "execution_count": null,
      "outputs": [
        {
          "output_type": "execute_result",
          "data": {
            "text/plain": [
              "['BooleanDtype',\n",
              " 'Categorical',\n",
              " 'CategoricalDtype',\n",
              " 'CategoricalIndex',\n",
              " 'DataFrame',\n",
              " 'DateOffset',\n",
              " 'DatetimeIndex',\n",
              " 'DatetimeTZDtype',\n",
              " 'ExcelFile',\n",
              " 'ExcelWriter',\n",
              " 'Float64Index',\n",
              " 'Grouper',\n",
              " 'HDFStore',\n",
              " 'Index',\n",
              " 'IndexSlice',\n",
              " 'Int16Dtype',\n",
              " 'Int32Dtype',\n",
              " 'Int64Dtype',\n",
              " 'Int64Index',\n",
              " 'Int8Dtype',\n",
              " 'Interval',\n",
              " 'IntervalDtype',\n",
              " 'IntervalIndex',\n",
              " 'MultiIndex',\n",
              " 'NA',\n",
              " 'NaT',\n",
              " 'NamedAgg',\n",
              " 'Panel',\n",
              " 'Period',\n",
              " 'PeriodDtype',\n",
              " 'PeriodIndex',\n",
              " 'RangeIndex',\n",
              " 'Series',\n",
              " 'SparseArray',\n",
              " 'SparseDataFrame',\n",
              " 'SparseDtype',\n",
              " 'SparseSeries',\n",
              " 'StringDtype',\n",
              " 'Timedelta',\n",
              " 'TimedeltaIndex',\n",
              " 'Timestamp',\n",
              " 'UInt16Dtype',\n",
              " 'UInt32Dtype',\n",
              " 'UInt64Dtype',\n",
              " 'UInt64Index',\n",
              " 'UInt8Dtype',\n",
              " '__Datetime',\n",
              " '__DatetimeSub',\n",
              " '__SparseArray',\n",
              " '__SparseArraySub',\n",
              " '__builtins__',\n",
              " '__cached__',\n",
              " '__doc__',\n",
              " '__docformat__',\n",
              " '__file__',\n",
              " '__git_version__',\n",
              " '__loader__',\n",
              " '__name__',\n",
              " '__numpy',\n",
              " '__package__',\n",
              " '__path__',\n",
              " '__spec__',\n",
              " '__version__',\n",
              " '_config',\n",
              " '_hashtable',\n",
              " '_is_numpy_dev',\n",
              " '_lib',\n",
              " '_libs',\n",
              " '_np_version_under1p16',\n",
              " '_np_version_under1p17',\n",
              " '_np_version_under1p18',\n",
              " '_testing',\n",
              " '_tslib',\n",
              " '_typing',\n",
              " '_version',\n",
              " 'api',\n",
              " 'array',\n",
              " 'arrays',\n",
              " 'bdate_range',\n",
              " 'compat',\n",
              " 'concat',\n",
              " 'core',\n",
              " 'crosstab',\n",
              " 'cut',\n",
              " 'date_range',\n",
              " 'datetime',\n",
              " 'describe_option',\n",
              " 'errors',\n",
              " 'eval',\n",
              " 'factorize',\n",
              " 'get_dummies',\n",
              " 'get_option',\n",
              " 'infer_freq',\n",
              " 'interval_range',\n",
              " 'io',\n",
              " 'isna',\n",
              " 'isnull',\n",
              " 'json_normalize',\n",
              " 'lreshape',\n",
              " 'melt',\n",
              " 'merge',\n",
              " 'merge_asof',\n",
              " 'merge_ordered',\n",
              " 'notna',\n",
              " 'notnull',\n",
              " 'np',\n",
              " 'offsets',\n",
              " 'option_context',\n",
              " 'options',\n",
              " 'pandas',\n",
              " 'period_range',\n",
              " 'pivot',\n",
              " 'pivot_table',\n",
              " 'plotting',\n",
              " 'qcut',\n",
              " 'read_clipboard',\n",
              " 'read_csv',\n",
              " 'read_excel',\n",
              " 'read_feather',\n",
              " 'read_fwf',\n",
              " 'read_gbq',\n",
              " 'read_hdf',\n",
              " 'read_html',\n",
              " 'read_json',\n",
              " 'read_orc',\n",
              " 'read_parquet',\n",
              " 'read_pickle',\n",
              " 'read_sas',\n",
              " 'read_spss',\n",
              " 'read_sql',\n",
              " 'read_sql_query',\n",
              " 'read_sql_table',\n",
              " 'read_stata',\n",
              " 'read_table',\n",
              " 'reset_option',\n",
              " 'set_eng_float_format',\n",
              " 'set_option',\n",
              " 'show_versions',\n",
              " 'test',\n",
              " 'testing',\n",
              " 'timedelta_range',\n",
              " 'to_datetime',\n",
              " 'to_numeric',\n",
              " 'to_pickle',\n",
              " 'to_timedelta',\n",
              " 'tseries',\n",
              " 'unique',\n",
              " 'util',\n",
              " 'value_counts',\n",
              " 'wide_to_long']"
            ]
          },
          "metadata": {
            "tags": []
          },
          "execution_count": 57
        }
      ]
    },
    {
      "cell_type": "markdown",
      "metadata": {
        "id": "zK-QZ8IDQuCQ"
      },
      "source": [
        "### Przyklad"
      ]
    },
    {
      "cell_type": "code",
      "metadata": {
        "id": "WExnlIeXCCBW"
      },
      "source": [
        "import pandas as pd"
      ],
      "execution_count": null,
      "outputs": []
    },
    {
      "cell_type": "code",
      "metadata": {
        "colab": {
          "base_uri": "https://localhost:8080/"
        },
        "id": "O9ZEA6ohQwmK",
        "outputId": "562fe742-494b-451a-fa20-6200217fd3f8"
      },
      "source": [
        "print(pd.__file__)"
      ],
      "execution_count": null,
      "outputs": [
        {
          "output_type": "stream",
          "text": [
            "/usr/local/lib/python3.6/dist-packages/pandas/__init__.py\n"
          ],
          "name": "stdout"
        }
      ]
    },
    {
      "cell_type": "code",
      "metadata": {
        "colab": {
          "base_uri": "https://localhost:8080/"
        },
        "id": "MJwUysHYQzfU",
        "outputId": "b0465951-c932-491c-b05a-f849294781d7"
      },
      "source": [
        "print(pd.__doc__)"
      ],
      "execution_count": null,
      "outputs": [
        {
          "output_type": "stream",
          "text": [
            "\n",
            "pandas - a powerful data analysis and manipulation library for Python\n",
            "=====================================================================\n",
            "\n",
            "**pandas** is a Python package providing fast, flexible, and expressive data\n",
            "structures designed to make working with \"relational\" or \"labeled\" data both\n",
            "easy and intuitive. It aims to be the fundamental high-level building block for\n",
            "doing practical, **real world** data analysis in Python. Additionally, it has\n",
            "the broader goal of becoming **the most powerful and flexible open source data\n",
            "analysis / manipulation tool available in any language**. It is already well on\n",
            "its way toward this goal.\n",
            "\n",
            "Main Features\n",
            "-------------\n",
            "Here are just a few of the things that pandas does well:\n",
            "\n",
            "  - Easy handling of missing data in floating point as well as non-floating\n",
            "    point data.\n",
            "  - Size mutability: columns can be inserted and deleted from DataFrame and\n",
            "    higher dimensional objects\n",
            "  - Automatic and explicit data alignment: objects can be explicitly aligned\n",
            "    to a set of labels, or the user can simply ignore the labels and let\n",
            "    `Series`, `DataFrame`, etc. automatically align the data for you in\n",
            "    computations.\n",
            "  - Powerful, flexible group by functionality to perform split-apply-combine\n",
            "    operations on data sets, for both aggregating and transforming data.\n",
            "  - Make it easy to convert ragged, differently-indexed data in other Python\n",
            "    and NumPy data structures into DataFrame objects.\n",
            "  - Intelligent label-based slicing, fancy indexing, and subsetting of large\n",
            "    data sets.\n",
            "  - Intuitive merging and joining data sets.\n",
            "  - Flexible reshaping and pivoting of data sets.\n",
            "  - Hierarchical labeling of axes (possible to have multiple labels per tick).\n",
            "  - Robust IO tools for loading data from flat files (CSV and delimited),\n",
            "    Excel files, databases, and saving/loading data from the ultrafast HDF5\n",
            "    format.\n",
            "  - Time series-specific functionality: date range generation and frequency\n",
            "    conversion, moving window statistics, date shifting and lagging.\n",
            "\n"
          ],
          "name": "stdout"
        }
      ]
    },
    {
      "cell_type": "code",
      "metadata": {
        "colab": {
          "base_uri": "https://localhost:8080/"
        },
        "id": "aJJZdttXQ7bz",
        "outputId": "0e6c9ccd-7b63-4b01-9033-6d942f121559"
      },
      "source": [
        "print(pd.__name__)"
      ],
      "execution_count": null,
      "outputs": [
        {
          "output_type": "stream",
          "text": [
            "pandas\n"
          ],
          "name": "stdout"
        }
      ]
    },
    {
      "cell_type": "code",
      "metadata": {
        "colab": {
          "base_uri": "https://localhost:8080/"
        },
        "id": "pWRZC3LPQ-Tg",
        "outputId": "fcecdd1f-7bf7-4dc4-9abe-adc046403035"
      },
      "source": [
        "pd.DataFrame # klasa DataFrame"
      ],
      "execution_count": null,
      "outputs": [
        {
          "output_type": "execute_result",
          "data": {
            "text/plain": [
              "pandas.core.frame.DataFrame"
            ]
          },
          "metadata": {
            "tags": []
          },
          "execution_count": 62
        }
      ]
    },
    {
      "cell_type": "code",
      "metadata": {
        "colab": {
          "base_uri": "https://localhost:8080/",
          "height": 35
        },
        "id": "9zVERwlTREki",
        "outputId": "202c6921-8588-4629-faf2-9482ebacf979"
      },
      "source": [
        "pd.DataFrame.__module__\n"
      ],
      "execution_count": null,
      "outputs": [
        {
          "output_type": "execute_result",
          "data": {
            "application/vnd.google.colaboratory.intrinsic+json": {
              "type": "string"
            },
            "text/plain": [
              "'pandas.core.frame'"
            ]
          },
          "metadata": {
            "tags": []
          },
          "execution_count": 63
        }
      ]
    },
    {
      "cell_type": "code",
      "metadata": {
        "colab": {
          "base_uri": "https://localhost:8080/"
        },
        "id": "HkwU2-N6RI6L",
        "outputId": "27a38f5a-4b63-4349-9d5a-8fa42ca1503d"
      },
      "source": [
        "pd.DataFrame.__dict__"
      ],
      "execution_count": null,
      "outputs": [
        {
          "output_type": "execute_result",
          "data": {
            "text/plain": [
              "mappingproxy({'T': <property at 0x7f5a9f3ea0e8>,\n",
              "              '_AXIS_LEN': 2,\n",
              "              '_AXIS_NAMES': <property at 0x7f5a9f3ea4a8>,\n",
              "              '_AXIS_NUMBERS': <property at 0x7f5a9f3ea458>,\n",
              "              '_AXIS_ORDERS': ['index', 'columns'],\n",
              "              '_AXIS_REVERSED': True,\n",
              "              '_AXIS_TO_AXIS_NUMBER': {0: 0,\n",
              "               1: 1,\n",
              "               'columns': 1,\n",
              "               'index': 0,\n",
              "               'rows': 0},\n",
              "              '__add__': <function pandas.core.ops._arith_method_FRAME.<locals>.f>,\n",
              "              '__and__': <function pandas.core.ops._arith_method_FRAME.<locals>.f>,\n",
              "              '__annotations__': {'_AXIS_TO_AXIS_NUMBER': typing.Dict[typing.Union[str, int], int],\n",
              "               '_accessors': typing.Set[str],\n",
              "               '_constructor_sliced': typing.Type[pandas.core.series.Series],\n",
              "               '_deprecations': typing.FrozenSet[str],\n",
              "               'columns': 'Index',\n",
              "               'index': 'Index'},\n",
              "              '__div__': <function pandas.core.ops._arith_method_FRAME.<locals>.f>,\n",
              "              '__doc__': \"\\n    Two-dimensional, size-mutable, potentially heterogeneous tabular data.\\n\\n    Data structure also contains labeled axes (rows and columns).\\n    Arithmetic operations align on both row and column labels. Can be\\n    thought of as a dict-like container for Series objects. The primary\\n    pandas data structure.\\n\\n    Parameters\\n    ----------\\n    data : ndarray (structured or homogeneous), Iterable, dict, or DataFrame\\n        Dict can contain Series, arrays, constants, or list-like objects.\\n\\n        .. versionchanged:: 0.23.0\\n           If data is a dict, column order follows insertion-order for\\n           Python 3.6 and later.\\n\\n        .. versionchanged:: 0.25.0\\n           If data is a list of dicts, column order follows insertion-order\\n           for Python 3.6 and later.\\n\\n    index : Index or array-like\\n        Index to use for resulting frame. Will default to RangeIndex if\\n        no indexing information part of input data and no index provided.\\n    columns : Index or array-like\\n        Column labels to use for resulting frame. Will default to\\n        RangeIndex (0, 1, 2, ..., n) if no column labels are provided.\\n    dtype : dtype, default None\\n        Data type to force. Only a single dtype is allowed. If None, infer.\\n    copy : bool, default False\\n        Copy data from inputs. Only affects DataFrame / 2d ndarray input.\\n\\n    See Also\\n    --------\\n    DataFrame.from_records : Constructor from tuples, also record arrays.\\n    DataFrame.from_dict : From dicts of Series, arrays, or dicts.\\n    read_csv : Read a comma-separated values (csv) file into DataFrame.\\n    read_table : Read general delimited file into DataFrame.\\n    read_clipboard : Read text from clipboard into DataFrame.\\n\\n    Examples\\n    --------\\n    Constructing DataFrame from a dictionary.\\n\\n    >>> d = {'col1': [1, 2], 'col2': [3, 4]}\\n    >>> df = pd.DataFrame(data=d)\\n    >>> df\\n       col1  col2\\n    0     1     3\\n    1     2     4\\n\\n    Notice that the inferred dtype is int64.\\n\\n    >>> df.dtypes\\n    col1    int64\\n    col2    int64\\n    dtype: object\\n\\n    To enforce a single dtype:\\n\\n    >>> df = pd.DataFrame(data=d, dtype=np.int8)\\n    >>> df.dtypes\\n    col1    int8\\n    col2    int8\\n    dtype: object\\n\\n    Constructing DataFrame from numpy ndarray:\\n\\n    >>> df2 = pd.DataFrame(np.array([[1, 2, 3], [4, 5, 6], [7, 8, 9]]),\\n    ...                    columns=['a', 'b', 'c'])\\n    >>> df2\\n       a  b  c\\n    0  1  2  3\\n    1  4  5  6\\n    2  7  8  9\\n    \",\n",
              "              '__eq__': <function pandas.core.ops._comp_method_FRAME.<locals>.f>,\n",
              "              '__floordiv__': <function pandas.core.ops._arith_method_FRAME.<locals>.f>,\n",
              "              '__ge__': <function pandas.core.ops._comp_method_FRAME.<locals>.f>,\n",
              "              '__getitem__': <function pandas.core.frame.DataFrame.__getitem__>,\n",
              "              '__gt__': <function pandas.core.ops._comp_method_FRAME.<locals>.f>,\n",
              "              '__iadd__': <function pandas.core.ops.methods.add_special_arithmetic_methods.<locals>._wrap_inplace_method.<locals>.f>,\n",
              "              '__iand__': <function pandas.core.ops.methods.add_special_arithmetic_methods.<locals>._wrap_inplace_method.<locals>.f>,\n",
              "              '__ifloordiv__': <function pandas.core.ops.methods.add_special_arithmetic_methods.<locals>._wrap_inplace_method.<locals>.f>,\n",
              "              '__imod__': <function pandas.core.ops.methods.add_special_arithmetic_methods.<locals>._wrap_inplace_method.<locals>.f>,\n",
              "              '__imul__': <function pandas.core.ops.methods.add_special_arithmetic_methods.<locals>._wrap_inplace_method.<locals>.f>,\n",
              "              '__init__': <function pandas.core.frame.DataFrame.__init__>,\n",
              "              '__ior__': <function pandas.core.ops.methods.add_special_arithmetic_methods.<locals>._wrap_inplace_method.<locals>.f>,\n",
              "              '__ipow__': <function pandas.core.ops.methods.add_special_arithmetic_methods.<locals>._wrap_inplace_method.<locals>.f>,\n",
              "              '__isub__': <function pandas.core.ops.methods.add_special_arithmetic_methods.<locals>._wrap_inplace_method.<locals>.f>,\n",
              "              '__itruediv__': <function pandas.core.ops.methods.add_special_arithmetic_methods.<locals>._wrap_inplace_method.<locals>.f>,\n",
              "              '__ixor__': <function pandas.core.ops.methods.add_special_arithmetic_methods.<locals>._wrap_inplace_method.<locals>.f>,\n",
              "              '__le__': <function pandas.core.ops._comp_method_FRAME.<locals>.f>,\n",
              "              '__len__': <function pandas.core.frame.DataFrame.__len__>,\n",
              "              '__lt__': <function pandas.core.ops._comp_method_FRAME.<locals>.f>,\n",
              "              '__matmul__': <function pandas.core.frame.DataFrame.__matmul__>,\n",
              "              '__mod__': <function pandas.core.ops._arith_method_FRAME.<locals>.f>,\n",
              "              '__module__': 'pandas.core.frame',\n",
              "              '__mul__': <function pandas.core.ops._arith_method_FRAME.<locals>.f>,\n",
              "              '__ne__': <function pandas.core.ops._comp_method_FRAME.<locals>.f>,\n",
              "              '__or__': <function pandas.core.ops._arith_method_FRAME.<locals>.f>,\n",
              "              '__pow__': <function pandas.core.ops._arith_method_FRAME.<locals>.f>,\n",
              "              '__radd__': <function pandas.core.ops._arith_method_FRAME.<locals>.f>,\n",
              "              '__rand__': <function pandas.core.ops._arith_method_FRAME.<locals>.f>,\n",
              "              '__rdiv__': <function pandas.core.ops._arith_method_FRAME.<locals>.f>,\n",
              "              '__repr__': <function pandas.core.frame.DataFrame.__repr__>,\n",
              "              '__rfloordiv__': <function pandas.core.ops._arith_method_FRAME.<locals>.f>,\n",
              "              '__rmatmul__': <function pandas.core.frame.DataFrame.__rmatmul__>,\n",
              "              '__rmod__': <function pandas.core.ops._arith_method_FRAME.<locals>.f>,\n",
              "              '__rmul__': <function pandas.core.ops._arith_method_FRAME.<locals>.f>,\n",
              "              '__ror__': <function pandas.core.ops._arith_method_FRAME.<locals>.f>,\n",
              "              '__rpow__': <function pandas.core.ops._arith_method_FRAME.<locals>.f>,\n",
              "              '__rsub__': <function pandas.core.ops._arith_method_FRAME.<locals>.f>,\n",
              "              '__rtruediv__': <function pandas.core.ops._arith_method_FRAME.<locals>.f>,\n",
              "              '__rxor__': <function pandas.core.ops._arith_method_FRAME.<locals>.f>,\n",
              "              '__setitem__': <function pandas.core.frame.DataFrame.__setitem__>,\n",
              "              '__sub__': <function pandas.core.ops._arith_method_FRAME.<locals>.f>,\n",
              "              '__truediv__': <function pandas.core.ops._arith_method_FRAME.<locals>.f>,\n",
              "              '__xor__': <function pandas.core.ops._arith_method_FRAME.<locals>.f>,\n",
              "              '_accessors': {'sparse'},\n",
              "              '_agg_examples_doc': '\\nExamples\\n--------\\n>>> df = pd.DataFrame([[1, 2, 3],\\n...                    [4, 5, 6],\\n...                    [7, 8, 9],\\n...                    [np.nan, np.nan, np.nan]],\\n...                   columns=[\\'A\\', \\'B\\', \\'C\\'])\\n\\nAggregate these functions over the rows.\\n\\n>>> df.agg([\\'sum\\', \\'min\\'])\\n        A     B     C\\nsum  12.0  15.0  18.0\\nmin   1.0   2.0   3.0\\n\\nDifferent aggregations per column.\\n\\n>>> df.agg({\\'A\\' : [\\'sum\\', \\'min\\'], \\'B\\' : [\\'min\\', \\'max\\']})\\n        A    B\\nmax   NaN  8.0\\nmin   1.0  2.0\\nsum  12.0  NaN\\n\\nAggregate over the columns.\\n\\n>>> df.agg(\"mean\", axis=\"columns\")\\n0    2.0\\n1    5.0\\n2    8.0\\n3    NaN\\ndtype: float64\\n',\n",
              "              '_agg_summary_and_see_also_doc': '\\nThe aggregation operations are always performed over an axis, either the\\nindex (default) or the column axis. This behavior is different from\\n`numpy` aggregation functions (`mean`, `median`, `prod`, `sum`, `std`,\\n`var`), where the default is to compute the aggregation of the flattened\\narray, e.g., ``numpy.mean(arr_2d)`` as opposed to\\n``numpy.mean(arr_2d, axis=0)``.\\n\\n`agg` is an alias for `aggregate`. Use the alias.\\n\\nSee Also\\n--------\\nDataFrame.apply : Perform any type of operations.\\nDataFrame.transform : Perform transformation type operations.\\ncore.groupby.GroupBy : Perform operations over groups.\\ncore.resample.Resampler : Perform operations over resampled bins.\\ncore.window.Rolling : Perform operations over rolling window.\\ncore.window.Expanding : Perform operations over expanding window.\\ncore.window.ExponentialMovingWindow : Perform operation over exponential weighted\\n    window.\\n',\n",
              "              '_aggregate': <function pandas.core.frame.DataFrame._aggregate>,\n",
              "              '_box_col_values': <function pandas.core.frame.DataFrame._box_col_values>,\n",
              "              '_can_fast_transpose': <property at 0x7f5a9f3e6c78>,\n",
              "              '_combine_frame': <function pandas.core.frame.DataFrame._combine_frame>,\n",
              "              '_construct_result': <function pandas.core.frame.DataFrame._construct_result>,\n",
              "              '_constructor': <property at 0x7f5a9f664d18>,\n",
              "              '_constructor_expanddim': <property at 0x7f5a9f3e6138>,\n",
              "              '_constructor_sliced': pandas.core.series.Series,\n",
              "              '_count_level': <function pandas.core.frame.DataFrame._count_level>,\n",
              "              '_deprecations': frozenset({'get_values', 'tshift'}),\n",
              "              '_ensure_valid_index': <function pandas.core.frame.DataFrame._ensure_valid_index>,\n",
              "              '_from_arrays': <classmethod at 0x7f5a9f3e0358>,\n",
              "              '_get_agg_axis': <function pandas.core.frame.DataFrame._get_agg_axis>,\n",
              "              '_get_column_array': <function pandas.core.frame.DataFrame._get_column_array>,\n",
              "              '_get_value': <function pandas.core.frame.DataFrame._get_value>,\n",
              "              '_getitem_bool_array': <function pandas.core.frame.DataFrame._getitem_bool_array>,\n",
              "              '_getitem_multilevel': <function pandas.core.frame.DataFrame._getitem_multilevel>,\n",
              "              '_gotitem': <function pandas.core.frame.DataFrame._gotitem>,\n",
              "              '_info_axis_name': 'columns',\n",
              "              '_info_axis_number': 1,\n",
              "              '_info_repr': <function pandas.core.frame.DataFrame._info_repr>,\n",
              "              '_internal_names_set': {'__array_interface__',\n",
              "               '__array_struct__',\n",
              "               '_cache',\n",
              "               '_cacher',\n",
              "               '_default_fill_value',\n",
              "               '_default_kind',\n",
              "               '_index',\n",
              "               '_is_copy',\n",
              "               '_item_cache',\n",
              "               '_metadata',\n",
              "               '_mgr',\n",
              "               '_name',\n",
              "               '_subtyp',\n",
              "               'columns',\n",
              "               'index'},\n",
              "              '_is_homogeneous_type': <property at 0x7f5a9f3e6c28>,\n",
              "              '_iset_item': <function pandas.core.frame.DataFrame._iset_item>,\n",
              "              '_iter_column_arrays': <function pandas.core.frame.DataFrame._iter_column_arrays>,\n",
              "              '_ixs': <function pandas.core.frame.DataFrame._ixs>,\n",
              "              '_join_compat': <function pandas.core.frame.DataFrame._join_compat>,\n",
              "              '_reduce': <function pandas.core.frame.DataFrame._reduce>,\n",
              "              '_reindex_axes': <function pandas.core.frame.DataFrame._reindex_axes>,\n",
              "              '_reindex_columns': <function pandas.core.frame.DataFrame._reindex_columns>,\n",
              "              '_reindex_index': <function pandas.core.frame.DataFrame._reindex_index>,\n",
              "              '_reindex_multi': <function pandas.core.frame.DataFrame._reindex_multi>,\n",
              "              '_replace_columnwise': <function pandas.core.frame.DataFrame._replace_columnwise>,\n",
              "              '_repr_fits_horizontal_': <function pandas.core.frame.DataFrame._repr_fits_horizontal_>,\n",
              "              '_repr_fits_vertical_': <function pandas.core.frame.DataFrame._repr_fits_vertical_>,\n",
              "              '_repr_html_': <function pandas.core.frame.DataFrame._repr_html_>,\n",
              "              '_sanitize_column': <function pandas.core.frame.DataFrame._sanitize_column>,\n",
              "              '_series': <property at 0x7f5a9f3ea1d8>,\n",
              "              '_set_item': <function pandas.core.frame.DataFrame._set_item>,\n",
              "              '_set_value': <function pandas.core.frame.DataFrame._set_value>,\n",
              "              '_setitem_array': <function pandas.core.frame.DataFrame._setitem_array>,\n",
              "              '_setitem_frame': <function pandas.core.frame.DataFrame._setitem_frame>,\n",
              "              '_setitem_slice': <function pandas.core.frame.DataFrame._setitem_slice>,\n",
              "              '_typ': 'dataframe',\n",
              "              'add': <function pandas.core.ops._arith_method_FRAME.<locals>.f>,\n",
              "              'agg': <function pandas.core.frame.DataFrame.aggregate>,\n",
              "              'aggregate': <function pandas.core.frame.DataFrame.aggregate>,\n",
              "              'align': <function pandas.core.frame.DataFrame.align>,\n",
              "              'all': <function pandas.core.frame.DataFrame.all>,\n",
              "              'any': <function pandas.core.frame.DataFrame.any>,\n",
              "              'append': <function pandas.core.frame.DataFrame.append>,\n",
              "              'apply': <function pandas.core.frame.DataFrame.apply>,\n",
              "              'applymap': <function pandas.core.frame.DataFrame.applymap>,\n",
              "              'assign': <function pandas.core.frame.DataFrame.assign>,\n",
              "              'axes': <property at 0x7f5a9f3e6b88>,\n",
              "              'boxplot': <function pandas.plotting._core.boxplot_frame>,\n",
              "              'columns': <pandas._libs.properties.AxisProperty at 0x7f5a9f3e0828>,\n",
              "              'combine': <function pandas.core.frame.DataFrame.combine>,\n",
              "              'combine_first': <function pandas.core.frame.DataFrame.combine_first>,\n",
              "              'compare': <function pandas.core.frame.DataFrame.compare>,\n",
              "              'corr': <function pandas.core.frame.DataFrame.corr>,\n",
              "              'corrwith': <function pandas.core.frame.DataFrame.corrwith>,\n",
              "              'count': <function pandas.core.frame.DataFrame.count>,\n",
              "              'cov': <function pandas.core.frame.DataFrame.cov>,\n",
              "              'cummax': <function pandas.core.frame.DataFrame.cummax>,\n",
              "              'cummin': <function pandas.core.frame.DataFrame.cummin>,\n",
              "              'cumprod': <function pandas.core.frame.DataFrame.cumprod>,\n",
              "              'cumsum': <function pandas.core.frame.DataFrame.cumsum>,\n",
              "              'diff': <function pandas.core.frame.DataFrame.diff>,\n",
              "              'div': <function pandas.core.ops._arith_method_FRAME.<locals>.f>,\n",
              "              'divide': <function pandas.core.ops._arith_method_FRAME.<locals>.f>,\n",
              "              'dot': <function pandas.core.frame.DataFrame.dot>,\n",
              "              'drop': <function pandas.core.frame.DataFrame.drop>,\n",
              "              'drop_duplicates': <function pandas.core.frame.DataFrame.drop_duplicates>,\n",
              "              'dropna': <function pandas.core.frame.DataFrame.dropna>,\n",
              "              'duplicated': <function pandas.core.frame.DataFrame.duplicated>,\n",
              "              'eq': <function pandas.core.ops._flex_comp_method_FRAME.<locals>.f>,\n",
              "              'eval': <function pandas.core.frame.DataFrame.eval>,\n",
              "              'ewm': <function pandas.core.generic.NDFrame._add_series_or_dataframe_operations.<locals>.ewm>,\n",
              "              'expanding': <function pandas.core.generic.NDFrame._add_series_or_dataframe_operations.<locals>.expanding>,\n",
              "              'explode': <function pandas.core.frame.DataFrame.explode>,\n",
              "              'fillna': <function pandas.core.frame.DataFrame.fillna>,\n",
              "              'floordiv': <function pandas.core.ops._arith_method_FRAME.<locals>.f>,\n",
              "              'from_dict': <classmethod at 0x7f5a9f3c51d0>,\n",
              "              'from_records': <classmethod at 0x7f5a9f3e04e0>,\n",
              "              'ge': <function pandas.core.ops._flex_comp_method_FRAME.<locals>.f>,\n",
              "              'groupby': <function pandas.core.frame.DataFrame.groupby>,\n",
              "              'gt': <function pandas.core.ops._flex_comp_method_FRAME.<locals>.f>,\n",
              "              'hist': <function pandas.plotting._core.hist_frame>,\n",
              "              'idxmax': <function pandas.core.frame.DataFrame.idxmax>,\n",
              "              'idxmin': <function pandas.core.frame.DataFrame.idxmin>,\n",
              "              'index': <pandas._libs.properties.AxisProperty at 0x7f5a9f3e0d30>,\n",
              "              'info': <function pandas.core.frame.DataFrame.info>,\n",
              "              'insert': <function pandas.core.frame.DataFrame.insert>,\n",
              "              'isin': <function pandas.core.frame.DataFrame.isin>,\n",
              "              'isna': <function pandas.core.frame.DataFrame.isna>,\n",
              "              'isnull': <function pandas.core.frame.DataFrame.isnull>,\n",
              "              'items': <function pandas.core.frame.DataFrame.items>,\n",
              "              'iteritems': <function pandas.core.frame.DataFrame.iteritems>,\n",
              "              'iterrows': <function pandas.core.frame.DataFrame.iterrows>,\n",
              "              'itertuples': <function pandas.core.frame.DataFrame.itertuples>,\n",
              "              'join': <function pandas.core.frame.DataFrame.join>,\n",
              "              'kurt': <function pandas.core.frame.DataFrame.kurt>,\n",
              "              'kurtosis': <function pandas.core.frame.DataFrame.kurt>,\n",
              "              'le': <function pandas.core.ops._flex_comp_method_FRAME.<locals>.f>,\n",
              "              'lookup': <function pandas.core.frame.DataFrame.lookup>,\n",
              "              'lt': <function pandas.core.ops._flex_comp_method_FRAME.<locals>.f>,\n",
              "              'mad': <function pandas.core.generic.NDFrame._add_numeric_operations.<locals>.mad>,\n",
              "              'max': <function pandas.core.frame.DataFrame.max>,\n",
              "              'mean': <function pandas.core.frame.DataFrame.mean>,\n",
              "              'median': <function pandas.core.frame.DataFrame.median>,\n",
              "              'melt': <function pandas.core.frame.DataFrame.melt>,\n",
              "              'memory_usage': <function pandas.core.frame.DataFrame.memory_usage>,\n",
              "              'merge': <function pandas.core.frame.DataFrame.merge>,\n",
              "              'min': <function pandas.core.frame.DataFrame.min>,\n",
              "              'mod': <function pandas.core.ops._arith_method_FRAME.<locals>.f>,\n",
              "              'mode': <function pandas.core.frame.DataFrame.mode>,\n",
              "              'mul': <function pandas.core.ops._arith_method_FRAME.<locals>.f>,\n",
              "              'multiply': <function pandas.core.ops._arith_method_FRAME.<locals>.f>,\n",
              "              'ne': <function pandas.core.ops._flex_comp_method_FRAME.<locals>.f>,\n",
              "              'nlargest': <function pandas.core.frame.DataFrame.nlargest>,\n",
              "              'notna': <function pandas.core.frame.DataFrame.notna>,\n",
              "              'notnull': <function pandas.core.frame.DataFrame.notnull>,\n",
              "              'nsmallest': <function pandas.core.frame.DataFrame.nsmallest>,\n",
              "              'nunique': <function pandas.core.frame.DataFrame.nunique>,\n",
              "              'pivot': <function pandas.core.frame.DataFrame.pivot>,\n",
              "              'pivot_table': <function pandas.core.frame.DataFrame.pivot_table>,\n",
              "              'plot': <pandas.core.accessor.CachedAccessor at 0x7f5a9f3e0898>,\n",
              "              'pop': <function pandas.core.frame.DataFrame.pop>,\n",
              "              'pow': <function pandas.core.ops._arith_method_FRAME.<locals>.f>,\n",
              "              'prod': <function pandas.core.frame.DataFrame.prod>,\n",
              "              'product': <function pandas.core.frame.DataFrame.prod>,\n",
              "              'quantile': <function pandas.core.frame.DataFrame.quantile>,\n",
              "              'query': <function pandas.core.frame.DataFrame.query>,\n",
              "              'radd': <function pandas.core.ops._arith_method_FRAME.<locals>.f>,\n",
              "              'rdiv': <function pandas.core.ops._arith_method_FRAME.<locals>.f>,\n",
              "              'reindex': <function pandas.core.frame.DataFrame.reindex>,\n",
              "              'rename': <function pandas.core.frame.DataFrame.rename>,\n",
              "              'reorder_levels': <function pandas.core.frame.DataFrame.reorder_levels>,\n",
              "              'replace': <function pandas.core.frame.DataFrame.replace>,\n",
              "              'reset_index': <function pandas.core.frame.DataFrame.reset_index>,\n",
              "              'rfloordiv': <function pandas.core.ops._arith_method_FRAME.<locals>.f>,\n",
              "              'rmod': <function pandas.core.ops._arith_method_FRAME.<locals>.f>,\n",
              "              'rmul': <function pandas.core.ops._arith_method_FRAME.<locals>.f>,\n",
              "              'rolling': <function pandas.core.generic.NDFrame._add_series_or_dataframe_operations.<locals>.rolling>,\n",
              "              'round': <function pandas.core.frame.DataFrame.round>,\n",
              "              'rpow': <function pandas.core.ops._arith_method_FRAME.<locals>.f>,\n",
              "              'rsub': <function pandas.core.ops._arith_method_FRAME.<locals>.f>,\n",
              "              'rtruediv': <function pandas.core.ops._arith_method_FRAME.<locals>.f>,\n",
              "              'select_dtypes': <function pandas.core.frame.DataFrame.select_dtypes>,\n",
              "              'sem': <function pandas.core.frame.DataFrame.sem>,\n",
              "              'set_axis': <function pandas.core.frame.DataFrame.set_axis>,\n",
              "              'set_index': <function pandas.core.frame.DataFrame.set_index>,\n",
              "              'shape': <property at 0x7f5a9f3e6bd8>,\n",
              "              'shift': <function pandas.core.frame.DataFrame.shift>,\n",
              "              'skew': <function pandas.core.frame.DataFrame.skew>,\n",
              "              'sort_index': <function pandas.core.frame.DataFrame.sort_index>,\n",
              "              'sort_values': <function pandas.core.frame.DataFrame.sort_values>,\n",
              "              'sparse': <pandas.core.accessor.CachedAccessor at 0x7f5a9f3e08d0>,\n",
              "              'stack': <function pandas.core.frame.DataFrame.stack>,\n",
              "              'std': <function pandas.core.frame.DataFrame.std>,\n",
              "              'style': <property at 0x7f5a9f3e6cc8>,\n",
              "              'sub': <function pandas.core.ops._arith_method_FRAME.<locals>.f>,\n",
              "              'subtract': <function pandas.core.ops._arith_method_FRAME.<locals>.f>,\n",
              "              'sum': <function pandas.core.frame.DataFrame.sum>,\n",
              "              'swaplevel': <function pandas.core.frame.DataFrame.swaplevel>,\n",
              "              'to_dict': <function pandas.core.frame.DataFrame.to_dict>,\n",
              "              'to_feather': <function pandas.core.frame.DataFrame.to_feather>,\n",
              "              'to_gbq': <function pandas.core.frame.DataFrame.to_gbq>,\n",
              "              'to_html': <function pandas.core.frame.DataFrame.to_html>,\n",
              "              'to_markdown': <function pandas.core.frame.DataFrame.to_markdown>,\n",
              "              'to_numpy': <function pandas.core.frame.DataFrame.to_numpy>,\n",
              "              'to_parquet': <function pandas.core.frame.DataFrame.to_parquet>,\n",
              "              'to_period': <function pandas.core.frame.DataFrame.to_period>,\n",
              "              'to_records': <function pandas.core.frame.DataFrame.to_records>,\n",
              "              'to_stata': <function pandas.core.frame.DataFrame.to_stata>,\n",
              "              'to_string': <function pandas.core.frame.DataFrame.to_string>,\n",
              "              'to_timestamp': <function pandas.core.frame.DataFrame.to_timestamp>,\n",
              "              'transform': <function pandas.core.frame.DataFrame.transform>,\n",
              "              'transpose': <function pandas.core.frame.DataFrame.transpose>,\n",
              "              'truediv': <function pandas.core.ops._arith_method_FRAME.<locals>.f>,\n",
              "              'unstack': <function pandas.core.frame.DataFrame.unstack>,\n",
              "              'update': <function pandas.core.frame.DataFrame.update>,\n",
              "              'value_counts': <function pandas.core.frame.DataFrame.value_counts>,\n",
              "              'var': <function pandas.core.frame.DataFrame.var>})"
            ]
          },
          "metadata": {
            "tags": []
          },
          "execution_count": 64
        }
      ]
    },
    {
      "cell_type": "code",
      "metadata": {
        "id": "NKBnm_KdRNzX"
      },
      "source": [
        "pd.DataFrame?"
      ],
      "execution_count": null,
      "outputs": []
    },
    {
      "cell_type": "markdown",
      "metadata": {
        "id": "bSw3SkqsRZXu"
      },
      "source": [
        "### Tworzymy instancję klasy DataFrame"
      ]
    },
    {
      "cell_type": "code",
      "metadata": {
        "id": "dwxXEYDyRUjS"
      },
      "source": [
        "df = pd.DataFrame(data = [1,2,3,4]) # instancja klasy DataFrame"
      ],
      "execution_count": null,
      "outputs": []
    },
    {
      "cell_type": "code",
      "metadata": {
        "colab": {
          "base_uri": "https://localhost:8080/"
        },
        "id": "X6jmOjqTRfqP",
        "outputId": "39fc31a1-2f51-4b2d-a4e9-63558901e0f3"
      },
      "source": [
        "type(df)"
      ],
      "execution_count": null,
      "outputs": [
        {
          "output_type": "execute_result",
          "data": {
            "text/plain": [
              "pandas.core.frame.DataFrame"
            ]
          },
          "metadata": {
            "tags": []
          },
          "execution_count": 68
        }
      ]
    },
    {
      "cell_type": "code",
      "metadata": {
        "colab": {
          "base_uri": "https://localhost:8080/"
        },
        "id": "TlnBnYyaRlXi",
        "outputId": "6f9a752c-f188-488c-e492-76a06e119c80"
      },
      "source": [
        "class Container:\n",
        "    \"\"\"This is a Container class.\"\"\"\n",
        "    \n",
        "print(Container.__dict__.keys())"
      ],
      "execution_count": null,
      "outputs": [
        {
          "output_type": "stream",
          "text": [
            "dict_keys(['__module__', '__doc__', '__dict__', '__weakref__'])\n"
          ],
          "name": "stdout"
        }
      ]
    },
    {
      "cell_type": "code",
      "metadata": {
        "id": "Ecm6o0ExR6iZ"
      },
      "source": [
        "class Phone:\n",
        "  pass\n",
        "  "
      ],
      "execution_count": 1,
      "outputs": []
    },
    {
      "cell_type": "code",
      "metadata": {
        "id": "OFDUNhVvJVdP"
      },
      "source": [
        "class Phone: pass"
      ],
      "execution_count": 2,
      "outputs": []
    },
    {
      "cell_type": "code",
      "metadata": {
        "colab": {
          "base_uri": "https://localhost:8080/",
          "height": 35
        },
        "id": "Zqyt6AjbJdXE",
        "outputId": "49bd91be-d3db-45c0-ea55-b531cb71b603"
      },
      "source": [
        "Phone.__name__ # atrybut name -> string zawierający atrybuty maszej klasy"
      ],
      "execution_count": 3,
      "outputs": [
        {
          "output_type": "execute_result",
          "data": {
            "application/vnd.google.colaboratory.intrinsic+json": {
              "type": "string"
            },
            "text/plain": [
              "'Phone'"
            ]
          },
          "metadata": {
            "tags": []
          },
          "execution_count": 3
        }
      ]
    },
    {
      "cell_type": "code",
      "metadata": {
        "colab": {
          "base_uri": "https://localhost:8080/"
        },
        "id": "NahyS50JJiHz",
        "outputId": "253507b7-00e8-4168-b8f1-41e86a1c5b48"
      },
      "source": [
        "Phone.__dict__"
      ],
      "execution_count": 4,
      "outputs": [
        {
          "output_type": "execute_result",
          "data": {
            "text/plain": [
              "mappingproxy({'__dict__': <attribute '__dict__' of 'Phone' objects>,\n",
              "              '__doc__': None,\n",
              "              '__module__': '__main__',\n",
              "              '__weakref__': <attribute '__weakref__' of 'Phone' objects>})"
            ]
          },
          "metadata": {
            "tags": []
          },
          "execution_count": 4
        }
      ]
    },
    {
      "cell_type": "code",
      "metadata": {
        "colab": {
          "base_uri": "https://localhost:8080/",
          "height": 35
        },
        "id": "6b4hak6CJlQ-",
        "outputId": "16177467-0f95-433b-9e15-58cd4f5c2b1e"
      },
      "source": [
        "Phone.__module__ # jestesmy w module glownym"
      ],
      "execution_count": 5,
      "outputs": [
        {
          "output_type": "execute_result",
          "data": {
            "application/vnd.google.colaboratory.intrinsic+json": {
              "type": "string"
            },
            "text/plain": [
              "'__main__'"
            ]
          },
          "metadata": {
            "tags": []
          },
          "execution_count": 5
        }
      ]
    },
    {
      "cell_type": "code",
      "metadata": {
        "id": "urxRutWJJpVa"
      },
      "source": [
        "Phone.__doc__"
      ],
      "execution_count": 6,
      "outputs": []
    },
    {
      "cell_type": "code",
      "metadata": {
        "colab": {
          "base_uri": "https://localhost:8080/"
        },
        "id": "6NiiRzP2Jsb5",
        "outputId": "d84dd270-7409-4fc9-e657-a7d616495239"
      },
      "source": [
        "help(Phone)"
      ],
      "execution_count": 7,
      "outputs": [
        {
          "output_type": "stream",
          "text": [
            "Help on class Phone in module __main__:\n",
            "\n",
            "class Phone(builtins.object)\n",
            " |  Data descriptors defined here:\n",
            " |  \n",
            " |  __dict__\n",
            " |      dictionary for instance variables (if defined)\n",
            " |  \n",
            " |  __weakref__\n",
            " |      list of weak references to the object (if defined)\n",
            "\n"
          ],
          "name": "stdout"
        }
      ]
    },
    {
      "cell_type": "code",
      "metadata": {
        "id": "cF07XFQUJxf8"
      },
      "source": [
        "class Phone:\n",
        "  \"\"\"This is a Phone class\"\"\""
      ],
      "execution_count": 9,
      "outputs": []
    },
    {
      "cell_type": "code",
      "metadata": {
        "colab": {
          "base_uri": "https://localhost:8080/",
          "height": 35
        },
        "id": "4leH2ta-J0ry",
        "outputId": "02344d4b-bbf5-4aa5-f227-6253e6d8ed3f"
      },
      "source": [
        "Phone.__doc__"
      ],
      "execution_count": 10,
      "outputs": [
        {
          "output_type": "execute_result",
          "data": {
            "application/vnd.google.colaboratory.intrinsic+json": {
              "type": "string"
            },
            "text/plain": [
              "'This is a Phone class'"
            ]
          },
          "metadata": {
            "tags": []
          },
          "execution_count": 10
        }
      ]
    },
    {
      "cell_type": "markdown",
      "metadata": {
        "id": "J2tZ3suyKI32"
      },
      "source": [
        "### Atrybuty klas zdefiniowane przez użytkownika"
      ]
    },
    {
      "cell_type": "code",
      "metadata": {
        "id": "dpI_Mt_7J3Y6"
      },
      "source": [
        "class Phone:\n",
        "  sector = 'electronic'\n",
        "  os = 'android'\n",
        "  width = 500\n",
        "  height = 1200\n"
      ],
      "execution_count": 11,
      "outputs": []
    },
    {
      "cell_type": "code",
      "metadata": {
        "id": "bOATsZkHKet_"
      },
      "source": [
        "Phone.__doc__"
      ],
      "execution_count": 12,
      "outputs": []
    },
    {
      "cell_type": "code",
      "metadata": {
        "colab": {
          "base_uri": "https://localhost:8080/"
        },
        "id": "fDK5ECvhKiKO",
        "outputId": "81ccb8d5-b292-465d-c822-c74ca11b4f88"
      },
      "source": [
        "sorted(Phone.__dict__.keys())"
      ],
      "execution_count": 16,
      "outputs": [
        {
          "output_type": "execute_result",
          "data": {
            "text/plain": [
              "['__dict__',\n",
              " '__doc__',\n",
              " '__module__',\n",
              " '__weakref__',\n",
              " 'height',\n",
              " 'os',\n",
              " 'sector',\n",
              " 'width']"
            ]
          },
          "metadata": {
            "tags": []
          },
          "execution_count": 16
        }
      ]
    },
    {
      "cell_type": "code",
      "metadata": {
        "colab": {
          "base_uri": "https://localhost:8080/"
        },
        "id": "VgjBx_DkKk-h",
        "outputId": "403accf9-5013-4570-87e0-dd5d952481e7"
      },
      "source": [
        "Phone.height"
      ],
      "execution_count": 17,
      "outputs": [
        {
          "output_type": "execute_result",
          "data": {
            "text/plain": [
              "1200"
            ]
          },
          "metadata": {
            "tags": []
          },
          "execution_count": 17
        }
      ]
    },
    {
      "cell_type": "code",
      "metadata": {
        "colab": {
          "base_uri": "https://localhost:8080/",
          "height": 35
        },
        "id": "iIVFujKTK2EO",
        "outputId": "98808088-c04a-43db-e3fb-1092fdda6c63"
      },
      "source": [
        "Phone.os"
      ],
      "execution_count": 18,
      "outputs": [
        {
          "output_type": "execute_result",
          "data": {
            "application/vnd.google.colaboratory.intrinsic+json": {
              "type": "string"
            },
            "text/plain": [
              "'android'"
            ]
          },
          "metadata": {
            "tags": []
          },
          "execution_count": 18
        }
      ]
    },
    {
      "cell_type": "code",
      "metadata": {
        "colab": {
          "base_uri": "https://localhost:8080/",
          "height": 35
        },
        "id": "nrdmkbF7K3RA",
        "outputId": "5ca6f684-ccf7-4250-ba27-4966ffb69a1d"
      },
      "source": [
        "Phone.sector"
      ],
      "execution_count": 19,
      "outputs": [
        {
          "output_type": "execute_result",
          "data": {
            "application/vnd.google.colaboratory.intrinsic+json": {
              "type": "string"
            },
            "text/plain": [
              "'electronic'"
            ]
          },
          "metadata": {
            "tags": []
          },
          "execution_count": 19
        }
      ]
    },
    {
      "cell_type": "code",
      "metadata": {
        "colab": {
          "base_uri": "https://localhost:8080/",
          "height": 35
        },
        "id": "3ekG147FK4rc",
        "outputId": "a152f645-07e2-4860-a112-ef1114836774"
      },
      "source": [
        "getattr(Phone, 'os') # możemy wyciągnąć wartość atrybutu w ten sposób "
      ],
      "execution_count": 22,
      "outputs": [
        {
          "output_type": "execute_result",
          "data": {
            "application/vnd.google.colaboratory.intrinsic+json": {
              "type": "string"
            },
            "text/plain": [
              "'android'"
            ]
          },
          "metadata": {
            "tags": []
          },
          "execution_count": 22
        }
      ]
    },
    {
      "cell_type": "code",
      "metadata": {
        "colab": {
          "base_uri": "https://localhost:8080/",
          "height": 35
        },
        "id": "HfvTDgwQLXBd",
        "outputId": "71b94ad4-04e0-4264-edd0-3502040202fd"
      },
      "source": [
        "getattr(Phone, 'price', 'Brak') # jesli tego atrybutu nie ma to zostanie wyswietlony brak"
      ],
      "execution_count": 25,
      "outputs": [
        {
          "output_type": "execute_result",
          "data": {
            "application/vnd.google.colaboratory.intrinsic+json": {
              "type": "string"
            },
            "text/plain": [
              "'Brak'"
            ]
          },
          "metadata": {
            "tags": []
          },
          "execution_count": 25
        }
      ]
    },
    {
      "cell_type": "code",
      "metadata": {
        "colab": {
          "base_uri": "https://localhost:8080/"
        },
        "id": "vJpMCdLKLulQ",
        "outputId": "95688b73-ea0d-4830-c539-dd8422134359"
      },
      "source": [
        "for atr in sorted(Phone.__dict__.keys()):\n",
        "  if not atr.startswith('_'):\n",
        "    print(f'{atr} -> {getattr(Phone, atr)}')"
      ],
      "execution_count": 29,
      "outputs": [
        {
          "output_type": "stream",
          "text": [
            "height -> 1200\n",
            "os -> android\n",
            "sector -> electronic\n",
            "width -> 500\n"
          ],
          "name": "stdout"
        }
      ]
    },
    {
      "cell_type": "code",
      "metadata": {
        "colab": {
          "base_uri": "https://localhost:8080/"
        },
        "id": "g9TB4PadL7eS",
        "outputId": "8659ab66-52b0-4302-a8ed-414a31a9556d"
      },
      "source": [
        "try:\n",
        "  Phone.price\n",
        "except AttributeError as error:\n",
        "  print(error)"
      ],
      "execution_count": 30,
      "outputs": [
        {
          "output_type": "stream",
          "text": [
            "type object 'Phone' has no attribute 'price'\n"
          ],
          "name": "stdout"
        }
      ]
    },
    {
      "cell_type": "markdown",
      "metadata": {
        "id": "asfZXXD8MvE3"
      },
      "source": [
        "### Modyfikacja atrybutu klas"
      ]
    },
    {
      "cell_type": "code",
      "metadata": {
        "id": "ozUiQQRIMiBH"
      },
      "source": [
        "class Phone:\n",
        "  sector = 'electronic'\n",
        "  os = 'android'\n",
        "  width = 500\n",
        "  height = 1200"
      ],
      "execution_count": 31,
      "outputs": []
    },
    {
      "cell_type": "code",
      "metadata": {
        "id": "GFZjku3WM09j"
      },
      "source": [
        "Phone.os = 'IOS'"
      ],
      "execution_count": 32,
      "outputs": []
    },
    {
      "cell_type": "code",
      "metadata": {
        "colab": {
          "base_uri": "https://localhost:8080/",
          "height": 35
        },
        "id": "tTA6hyTGM3O7",
        "outputId": "0633de89-219e-441b-c01f-af924964ef7f"
      },
      "source": [
        "getattr(Phone, 'os')"
      ],
      "execution_count": 34,
      "outputs": [
        {
          "output_type": "execute_result",
          "data": {
            "application/vnd.google.colaboratory.intrinsic+json": {
              "type": "string"
            },
            "text/plain": [
              "'IOS'"
            ]
          },
          "metadata": {
            "tags": []
          },
          "execution_count": 34
        }
      ]
    },
    {
      "cell_type": "code",
      "metadata": {
        "colab": {
          "base_uri": "https://localhost:8080/"
        },
        "id": "rnn8eIO5M6X3",
        "outputId": "eac63bf6-5d9a-4605-cf24-644fe18fc85c"
      },
      "source": [
        "Phone.__dict__"
      ],
      "execution_count": 35,
      "outputs": [
        {
          "output_type": "execute_result",
          "data": {
            "text/plain": [
              "mappingproxy({'__dict__': <attribute '__dict__' of 'Phone' objects>,\n",
              "              '__doc__': None,\n",
              "              '__module__': '__main__',\n",
              "              '__weakref__': <attribute '__weakref__' of 'Phone' objects>,\n",
              "              'height': 1200,\n",
              "              'os': 'IOS',\n",
              "              'sector': 'electronic',\n",
              "              'width': 500})"
            ]
          },
          "metadata": {
            "tags": []
          },
          "execution_count": 35
        }
      ]
    },
    {
      "cell_type": "code",
      "metadata": {
        "id": "cv-PPqjXNEEM"
      },
      "source": [
        "setattr(Phone, 'os', 'android')"
      ],
      "execution_count": 36,
      "outputs": []
    },
    {
      "cell_type": "code",
      "metadata": {
        "colab": {
          "base_uri": "https://localhost:8080/",
          "height": 35
        },
        "id": "Icu2gqSuNMEk",
        "outputId": "b7e2c573-a977-49fb-ae41-5ec6b28eff58"
      },
      "source": [
        "Phone.os"
      ],
      "execution_count": 37,
      "outputs": [
        {
          "output_type": "execute_result",
          "data": {
            "application/vnd.google.colaboratory.intrinsic+json": {
              "type": "string"
            },
            "text/plain": [
              "'android'"
            ]
          },
          "metadata": {
            "tags": []
          },
          "execution_count": 37
        }
      ]
    },
    {
      "cell_type": "code",
      "metadata": {
        "colab": {
          "base_uri": "https://localhost:8080/"
        },
        "id": "t6z3Qy4FNMys",
        "outputId": "36080d71-96dc-40b4-9899-2b32566aaf55"
      },
      "source": [
        "Phone.__dict__"
      ],
      "execution_count": 38,
      "outputs": [
        {
          "output_type": "execute_result",
          "data": {
            "text/plain": [
              "mappingproxy({'__dict__': <attribute '__dict__' of 'Phone' objects>,\n",
              "              '__doc__': None,\n",
              "              '__module__': '__main__',\n",
              "              '__weakref__': <attribute '__weakref__' of 'Phone' objects>,\n",
              "              'height': 1200,\n",
              "              'os': 'android',\n",
              "              'sector': 'electronic',\n",
              "              'width': 500})"
            ]
          },
          "metadata": {
            "tags": []
          },
          "execution_count": 38
        }
      ]
    },
    {
      "cell_type": "code",
      "metadata": {
        "colab": {
          "base_uri": "https://localhost:8080/",
          "height": 162
        },
        "id": "WxqmIVYTNQwb",
        "outputId": "c2367403-f5de-4749-80cc-65b8fd72433d"
      },
      "source": [
        "Phone.__dict__['os'] = 'IOS' # tego nie można zrobić, bo to jest tylko do  odczytu"
      ],
      "execution_count": 39,
      "outputs": [
        {
          "output_type": "error",
          "ename": "TypeError",
          "evalue": "ignored",
          "traceback": [
            "\u001b[0;31m---------------------------------------------------------------------------\u001b[0m",
            "\u001b[0;31mTypeError\u001b[0m                                 Traceback (most recent call last)",
            "\u001b[0;32m<ipython-input-39-af7f71691f90>\u001b[0m in \u001b[0;36m<module>\u001b[0;34m()\u001b[0m\n\u001b[0;32m----> 1\u001b[0;31m \u001b[0mPhone\u001b[0m\u001b[0;34m.\u001b[0m\u001b[0m__dict__\u001b[0m\u001b[0;34m[\u001b[0m\u001b[0;34m'os'\u001b[0m\u001b[0;34m]\u001b[0m \u001b[0;34m=\u001b[0m \u001b[0;34m'IOS'\u001b[0m \u001b[0;31m# tego nie można zrobić, bo to jest tylko do  odczytu\u001b[0m\u001b[0;34m\u001b[0m\u001b[0;34m\u001b[0m\u001b[0m\n\u001b[0m",
            "\u001b[0;31mTypeError\u001b[0m: 'mappingproxy' object does not support item assignment"
          ]
        }
      ]
    },
    {
      "cell_type": "markdown",
      "metadata": {
        "id": "6G7kA6hDNm8a"
      },
      "source": [
        "### Dodawanie atrybutów klasy w tzw. locie"
      ]
    },
    {
      "cell_type": "code",
      "metadata": {
        "colab": {
          "base_uri": "https://localhost:8080/"
        },
        "id": "n0pZrWobNjFx",
        "outputId": "cca15da6-1648-4668-baaa-0ee250e223a9"
      },
      "source": [
        "Phone.__dict__"
      ],
      "execution_count": 41,
      "outputs": [
        {
          "output_type": "execute_result",
          "data": {
            "text/plain": [
              "mappingproxy({'__dict__': <attribute '__dict__' of 'Phone' objects>,\n",
              "              '__doc__': None,\n",
              "              '__module__': '__main__',\n",
              "              '__weakref__': <attribute '__weakref__' of 'Phone' objects>,\n",
              "              'height': 1200,\n",
              "              'os': 'android',\n",
              "              'sector': 'electronic',\n",
              "              'width': 500})"
            ]
          },
          "metadata": {
            "tags": []
          },
          "execution_count": 41
        }
      ]
    },
    {
      "cell_type": "code",
      "metadata": {
        "id": "8DpG6s6INY-_"
      },
      "source": [
        "Phone.orign_country = 'USA'"
      ],
      "execution_count": 42,
      "outputs": []
    },
    {
      "cell_type": "code",
      "metadata": {
        "colab": {
          "base_uri": "https://localhost:8080/"
        },
        "id": "9ohtr9O4Nz3u",
        "outputId": "a46fe6bc-45e4-4751-d894-e625be99eefe"
      },
      "source": [
        "Phone.__dict__"
      ],
      "execution_count": 43,
      "outputs": [
        {
          "output_type": "execute_result",
          "data": {
            "text/plain": [
              "mappingproxy({'__dict__': <attribute '__dict__' of 'Phone' objects>,\n",
              "              '__doc__': None,\n",
              "              '__module__': '__main__',\n",
              "              '__weakref__': <attribute '__weakref__' of 'Phone' objects>,\n",
              "              'height': 1200,\n",
              "              'orign_country': 'USA',\n",
              "              'os': 'android',\n",
              "              'sector': 'electronic',\n",
              "              'width': 500})"
            ]
          },
          "metadata": {
            "tags": []
          },
          "execution_count": 43
        }
      ]
    },
    {
      "cell_type": "code",
      "metadata": {
        "id": "5Vx8pr1aN1v0"
      },
      "source": [
        "setattr(Phone, 'year_production', 2020)"
      ],
      "execution_count": 44,
      "outputs": []
    },
    {
      "cell_type": "code",
      "metadata": {
        "colab": {
          "base_uri": "https://localhost:8080/"
        },
        "id": "yNwCVpNkOVfC",
        "outputId": "e4e32654-1fd4-43de-b06d-34d50175d43d"
      },
      "source": [
        "Phone.__dict__"
      ],
      "execution_count": 45,
      "outputs": [
        {
          "output_type": "execute_result",
          "data": {
            "text/plain": [
              "mappingproxy({'__dict__': <attribute '__dict__' of 'Phone' objects>,\n",
              "              '__doc__': None,\n",
              "              '__module__': '__main__',\n",
              "              '__weakref__': <attribute '__weakref__' of 'Phone' objects>,\n",
              "              'height': 1200,\n",
              "              'orign_country': 'USA',\n",
              "              'os': 'android',\n",
              "              'sector': 'electronic',\n",
              "              'width': 500,\n",
              "              'year_production': 2020})"
            ]
          },
          "metadata": {
            "tags": []
          },
          "execution_count": 45
        }
      ]
    },
    {
      "cell_type": "markdown",
      "metadata": {
        "id": "sJfDCQDMObkC"
      },
      "source": [
        "### Usuwanie atrybutu klasy"
      ]
    },
    {
      "cell_type": "code",
      "metadata": {
        "colab": {
          "base_uri": "https://localhost:8080/"
        },
        "id": "8fg3EPW9OW8b",
        "outputId": "92a6e507-c1d4-45d7-f8ca-7b83e331aa2b"
      },
      "source": [
        "Phone.__dict__"
      ],
      "execution_count": 46,
      "outputs": [
        {
          "output_type": "execute_result",
          "data": {
            "text/plain": [
              "mappingproxy({'__dict__': <attribute '__dict__' of 'Phone' objects>,\n",
              "              '__doc__': None,\n",
              "              '__module__': '__main__',\n",
              "              '__weakref__': <attribute '__weakref__' of 'Phone' objects>,\n",
              "              'height': 1200,\n",
              "              'orign_country': 'USA',\n",
              "              'os': 'android',\n",
              "              'sector': 'electronic',\n",
              "              'width': 500,\n",
              "              'year_production': 2020})"
            ]
          },
          "metadata": {
            "tags": []
          },
          "execution_count": 46
        }
      ]
    },
    {
      "cell_type": "code",
      "metadata": {
        "id": "viqEn3F2OgJE"
      },
      "source": [
        "del Phone.os"
      ],
      "execution_count": 47,
      "outputs": []
    },
    {
      "cell_type": "code",
      "metadata": {
        "colab": {
          "base_uri": "https://localhost:8080/"
        },
        "id": "GXdMI2VZOjzp",
        "outputId": "a8888b5e-70d4-40a2-f5b8-97db4320f42f"
      },
      "source": [
        "Phone.__dict__ # atrybut słownikowy!"
      ],
      "execution_count": 48,
      "outputs": [
        {
          "output_type": "execute_result",
          "data": {
            "text/plain": [
              "mappingproxy({'__dict__': <attribute '__dict__' of 'Phone' objects>,\n",
              "              '__doc__': None,\n",
              "              '__module__': '__main__',\n",
              "              '__weakref__': <attribute '__weakref__' of 'Phone' objects>,\n",
              "              'height': 1200,\n",
              "              'orign_country': 'USA',\n",
              "              'sector': 'electronic',\n",
              "              'width': 500,\n",
              "              'year_production': 2020})"
            ]
          },
          "metadata": {
            "tags": []
          },
          "execution_count": 48
        }
      ]
    },
    {
      "cell_type": "code",
      "metadata": {
        "colab": {
          "base_uri": "https://localhost:8080/",
          "height": 162
        },
        "id": "AgjU-Rm_OlBR",
        "outputId": "c4d4be74-9998-4140-edc3-705eec7638b9"
      },
      "source": [
        "Phone.os # bedzie blad"
      ],
      "execution_count": 49,
      "outputs": [
        {
          "output_type": "error",
          "ename": "AttributeError",
          "evalue": "ignored",
          "traceback": [
            "\u001b[0;31m---------------------------------------------------------------------------\u001b[0m",
            "\u001b[0;31mAttributeError\u001b[0m                            Traceback (most recent call last)",
            "\u001b[0;32m<ipython-input-49-472f31c3b405>\u001b[0m in \u001b[0;36m<module>\u001b[0;34m()\u001b[0m\n\u001b[0;32m----> 1\u001b[0;31m \u001b[0mPhone\u001b[0m\u001b[0;34m.\u001b[0m\u001b[0mos\u001b[0m\u001b[0;34m\u001b[0m\u001b[0;34m\u001b[0m\u001b[0m\n\u001b[0m",
            "\u001b[0;31mAttributeError\u001b[0m: type object 'Phone' has no attribute 'os'"
          ]
        }
      ]
    },
    {
      "cell_type": "code",
      "metadata": {
        "id": "RmLiWRQZOowV"
      },
      "source": [
        "class Phone:\n",
        "  sector = 'electronic'\n",
        "  os = 'android'\n",
        "  width = 500\n",
        "  height = 1200"
      ],
      "execution_count": 53,
      "outputs": []
    },
    {
      "cell_type": "code",
      "metadata": {
        "id": "rcdF8c68Ot0W"
      },
      "source": [
        "delattr(Phone, 'os')"
      ],
      "execution_count": 55,
      "outputs": []
    },
    {
      "cell_type": "code",
      "metadata": {
        "colab": {
          "base_uri": "https://localhost:8080/"
        },
        "id": "CUh4Mb1KOxaJ",
        "outputId": "69c4736b-6cd9-4bb4-dac5-933f44d5d17c"
      },
      "source": [
        "Phone.__dict__"
      ],
      "execution_count": 56,
      "outputs": [
        {
          "output_type": "execute_result",
          "data": {
            "text/plain": [
              "mappingproxy({'__dict__': <attribute '__dict__' of 'Phone' objects>,\n",
              "              '__doc__': None,\n",
              "              '__module__': '__main__',\n",
              "              '__weakref__': <attribute '__weakref__' of 'Phone' objects>,\n",
              "              'height': 1200,\n",
              "              'sector': 'electronic',\n",
              "              'width': 500})"
            ]
          },
          "metadata": {
            "tags": []
          },
          "execution_count": 56
        }
      ]
    },
    {
      "cell_type": "markdown",
      "metadata": {
        "id": "-_4TJmNJP0NX"
      },
      "source": [
        "### Wywoływalne atrybuty klasy"
      ]
    },
    {
      "cell_type": "code",
      "metadata": {
        "colab": {
          "base_uri": "https://localhost:8080/"
        },
        "id": "2ZQfWS3cPv5D",
        "outputId": "bb80d058-caeb-4fd6-ab45-08e1b07ceb15"
      },
      "source": [
        "class Phone:\n",
        "  sector = 'electronic'\n",
        "  os = 'android'\n",
        "  width = 500\n",
        "  height = 1200\n",
        "  def describe_class():\n",
        "    print(f'{Phone.__name__} class.') # to jest lepsze odwołanie się do nazwy klasy\n",
        "\n",
        "Phone.__dict__\n",
        "\n"
      ],
      "execution_count": 64,
      "outputs": [
        {
          "output_type": "execute_result",
          "data": {
            "text/plain": [
              "mappingproxy({'__dict__': <attribute '__dict__' of 'Phone' objects>,\n",
              "              '__doc__': None,\n",
              "              '__module__': '__main__',\n",
              "              '__weakref__': <attribute '__weakref__' of 'Phone' objects>,\n",
              "              'describe_class': <function __main__.Phone.describe_class>,\n",
              "              'height': 1200,\n",
              "              'os': 'android',\n",
              "              'sector': 'electronic',\n",
              "              'width': 500})"
            ]
          },
          "metadata": {
            "tags": []
          },
          "execution_count": 64
        }
      ]
    },
    {
      "cell_type": "code",
      "metadata": {
        "colab": {
          "base_uri": "https://localhost:8080/"
        },
        "id": "1k0gMK-RQCkT",
        "outputId": "f96bc1ed-1091-4d7e-81f2-a27a45b8a333"
      },
      "source": [
        "Phone.describe_class"
      ],
      "execution_count": 65,
      "outputs": [
        {
          "output_type": "execute_result",
          "data": {
            "text/plain": [
              "<function __main__.Phone.describe_class>"
            ]
          },
          "metadata": {
            "tags": []
          },
          "execution_count": 65
        }
      ]
    },
    {
      "cell_type": "code",
      "metadata": {
        "colab": {
          "base_uri": "https://localhost:8080/"
        },
        "id": "F_x5TDk8QFIx",
        "outputId": "12b102d2-37ad-4bdb-be30-e3dc4077f03f"
      },
      "source": [
        "Phone.describe_class()"
      ],
      "execution_count": 66,
      "outputs": [
        {
          "output_type": "stream",
          "text": [
            "Phone class.\n"
          ],
          "name": "stdout"
        }
      ]
    },
    {
      "cell_type": "code",
      "metadata": {
        "id": "Z9epDxaDQVz3"
      },
      "source": [
        "class Phone:\n",
        "  sector = 'electronic'\n",
        "  os = 'android'\n",
        "  width = 500\n",
        "  height = 1200\n",
        "  def describe_class():\n",
        "    \"\"\"Print class name\"\"\"\n",
        "    print(f'Operating system: {Phone.os}.') # tylko w ten sposób można sie odowłać to tej nazwy\n",
        "    print(f'{Phone.__name__} class.') # to jest lepsze odwołanie się do nazwy klasy"
      ],
      "execution_count": 79,
      "outputs": []
    },
    {
      "cell_type": "code",
      "metadata": {
        "colab": {
          "base_uri": "https://localhost:8080/"
        },
        "id": "CJ67xcWiQuFy",
        "outputId": "57314afe-43e1-4526-f3cf-a7b7c41e0181"
      },
      "source": [
        "Phone.describe_class()"
      ],
      "execution_count": 80,
      "outputs": [
        {
          "output_type": "stream",
          "text": [
            "Operating system: android.\n",
            "Phone class.\n"
          ],
          "name": "stdout"
        }
      ]
    },
    {
      "cell_type": "code",
      "metadata": {
        "colab": {
          "base_uri": "https://localhost:8080/"
        },
        "id": "zZDMW19qQv0P",
        "outputId": "6c0447f2-72ca-4f50-e6be-3804cc99f5ff"
      },
      "source": [
        "getattr(Phone, 'describe_class')()"
      ],
      "execution_count": 81,
      "outputs": [
        {
          "output_type": "stream",
          "text": [
            "Operating system: android.\n",
            "Phone class.\n"
          ],
          "name": "stdout"
        }
      ]
    },
    {
      "cell_type": "code",
      "metadata": {
        "colab": {
          "base_uri": "https://localhost:8080/"
        },
        "id": "2OrcoMo1RNw9",
        "outputId": "5a4d8a3e-ea16-44e7-f242-8808b8d4a094"
      },
      "source": [
        "help(Phone)"
      ],
      "execution_count": 82,
      "outputs": [
        {
          "output_type": "stream",
          "text": [
            "Help on class Phone in module __main__:\n",
            "\n",
            "class Phone(builtins.object)\n",
            " |  Methods defined here:\n",
            " |  \n",
            " |  describe_class()\n",
            " |      Print class name\n",
            " |  \n",
            " |  ----------------------------------------------------------------------\n",
            " |  Data descriptors defined here:\n",
            " |  \n",
            " |  __dict__\n",
            " |      dictionary for instance variables (if defined)\n",
            " |  \n",
            " |  __weakref__\n",
            " |      list of weak references to the object (if defined)\n",
            " |  \n",
            " |  ----------------------------------------------------------------------\n",
            " |  Data and other attributes defined here:\n",
            " |  \n",
            " |  height = 1200\n",
            " |  \n",
            " |  os = 'android'\n",
            " |  \n",
            " |  sector = 'electronic'\n",
            " |  \n",
            " |  width = 500\n",
            "\n"
          ],
          "name": "stdout"
        }
      ]
    },
    {
      "cell_type": "code",
      "metadata": {
        "id": "Ct8wfpnvRTnL"
      },
      "source": [
        "class HouseProject:\n",
        "  number_of_floors = 2\n",
        "  area = 100\n"
      ],
      "execution_count": 85,
      "outputs": []
    },
    {
      "cell_type": "code",
      "metadata": {
        "colab": {
          "base_uri": "https://localhost:8080/"
        },
        "id": "8GlVRjiZRwag",
        "outputId": "5e42139e-025e-466f-91de-a36f2ec6c035"
      },
      "source": [
        "HouseProject.__dict__"
      ],
      "execution_count": 86,
      "outputs": [
        {
          "output_type": "execute_result",
          "data": {
            "text/plain": [
              "mappingproxy({'__dict__': <attribute '__dict__' of 'HouseProject' objects>,\n",
              "              '__doc__': None,\n",
              "              '__module__': '__main__',\n",
              "              '__weakref__': <attribute '__weakref__' of 'HouseProject' objects>,\n",
              "              'area': 100,\n",
              "              'number_of_floors': 2})"
            ]
          },
          "metadata": {
            "tags": []
          },
          "execution_count": 86
        }
      ]
    },
    {
      "cell_type": "code",
      "metadata": {
        "colab": {
          "base_uri": "https://localhost:8080/"
        },
        "id": "aIb4a6vRRzJY",
        "outputId": "b30eb305-f353-4377-c28b-ca845724d03c"
      },
      "source": [
        "HouseProject.number_of_floors"
      ],
      "execution_count": 87,
      "outputs": [
        {
          "output_type": "execute_result",
          "data": {
            "text/plain": [
              "2"
            ]
          },
          "metadata": {
            "tags": []
          },
          "execution_count": 87
        }
      ]
    },
    {
      "cell_type": "code",
      "metadata": {
        "colab": {
          "base_uri": "https://localhost:8080/"
        },
        "id": "jBIbbnF2R-KA",
        "outputId": "a2a97d82-348e-4fa5-df13-db6345d31486"
      },
      "source": [
        "HouseProject.area"
      ],
      "execution_count": 88,
      "outputs": [
        {
          "output_type": "execute_result",
          "data": {
            "text/plain": [
              "100"
            ]
          },
          "metadata": {
            "tags": []
          },
          "execution_count": 88
        }
      ]
    },
    {
      "cell_type": "code",
      "metadata": {
        "id": "vQhqmdWnR_eo"
      },
      "source": [
        "class HouseProject:\n",
        "  number_of_floors = 2\n",
        "  area = 100\n",
        "\n",
        "  def describe_project():\n",
        "    print(f'Area: {HouseProject.area} m2.')\n",
        "    print(f'Number of floors: {HouseProject.number_of_floors}.')"
      ],
      "execution_count": 89,
      "outputs": []
    },
    {
      "cell_type": "code",
      "metadata": {
        "colab": {
          "base_uri": "https://localhost:8080/"
        },
        "id": "G7qS8x28ScNO",
        "outputId": "196cc04e-3054-4f35-c717-6a21530af82b"
      },
      "source": [
        "HouseProject.__dict__"
      ],
      "execution_count": 90,
      "outputs": [
        {
          "output_type": "execute_result",
          "data": {
            "text/plain": [
              "mappingproxy({'__dict__': <attribute '__dict__' of 'HouseProject' objects>,\n",
              "              '__doc__': None,\n",
              "              '__module__': '__main__',\n",
              "              '__weakref__': <attribute '__weakref__' of 'HouseProject' objects>,\n",
              "              'area': 100,\n",
              "              'describe_project': <function __main__.HouseProject.describe_project>,\n",
              "              'number_of_floors': 2})"
            ]
          },
          "metadata": {
            "tags": []
          },
          "execution_count": 90
        }
      ]
    },
    {
      "cell_type": "code",
      "metadata": {
        "colab": {
          "base_uri": "https://localhost:8080/"
        },
        "id": "Myi9JNt4SeMx",
        "outputId": "02c25732-aef6-4f51-90b3-e9f880bc5c04"
      },
      "source": [
        "HouseProject.describe_project()\n"
      ],
      "execution_count": 91,
      "outputs": [
        {
          "output_type": "stream",
          "text": [
            "Area: 100 m2\n",
            "Number of floors: 2\n"
          ],
          "name": "stdout"
        }
      ]
    },
    {
      "cell_type": "markdown",
      "metadata": {
        "id": "xteua8ziSzFe"
      },
      "source": [
        "### Przykład"
      ]
    },
    {
      "cell_type": "code",
      "metadata": {
        "colab": {
          "base_uri": "https://localhost:8080/",
          "height": 178
        },
        "id": "j6-et-kvSh2F",
        "outputId": "6670e8a1-e9a6-4c2a-d993-309c8ab0f370"
      },
      "source": [
        "from datetime import datetime\n",
        "datetime.now().strftime('%H:%M:%s')"
      ],
      "execution_count": 93,
      "outputs": [
        {
          "output_type": "error",
          "ename": "TypeError",
          "evalue": "ignored",
          "traceback": [
            "\u001b[0;31m---------------------------------------------------------------------------\u001b[0m",
            "\u001b[0;31mTypeError\u001b[0m                                 Traceback (most recent call last)",
            "\u001b[0;32m<ipython-input-93-99bae2ee543c>\u001b[0m in \u001b[0;36m<module>\u001b[0;34m()\u001b[0m\n\u001b[1;32m      1\u001b[0m \u001b[0;32mfrom\u001b[0m \u001b[0mdatetime\u001b[0m \u001b[0;32mimport\u001b[0m \u001b[0mdatetime\u001b[0m\u001b[0;34m\u001b[0m\u001b[0;34m\u001b[0m\u001b[0m\n\u001b[0;32m----> 2\u001b[0;31m \u001b[0mdatetime\u001b[0m\u001b[0;34m.\u001b[0m\u001b[0mnow\u001b[0m\u001b[0;34m(\u001b[0m\u001b[0;34m)\u001b[0m\u001b[0;34m.\u001b[0m\u001b[0mstrftime\u001b[0m\u001b[0;34m(\u001b[0m\u001b[0;34m'%H:%M:%s'\u001b[0m\u001b[0;34m)\u001b[0m \u001b[0;34m+\u001b[0m \u001b[0;36m1\u001b[0m\u001b[0;34m\u001b[0m\u001b[0;34m\u001b[0m\u001b[0m\n\u001b[0m",
            "\u001b[0;31mTypeError\u001b[0m: must be str, not int"
          ]
        }
      ]
    },
    {
      "cell_type": "code",
      "metadata": {
        "id": "XTHattURTIPZ"
      },
      "source": [
        "class Foto:\n",
        "  execution_time = datetime.now().strftime('%H_%M_%S')\n",
        "  fname = 'image_' + execution_time + '.png'\n",
        "\n",
        "\n"
      ],
      "execution_count": 96,
      "outputs": []
    },
    {
      "cell_type": "code",
      "metadata": {
        "colab": {
          "base_uri": "https://localhost:8080/"
        },
        "id": "Ej58T8QVTkgr",
        "outputId": "b605ef18-1cc2-4b26-8af3-b191321a1911"
      },
      "source": [
        "Foto.__dict__"
      ],
      "execution_count": 97,
      "outputs": [
        {
          "output_type": "execute_result",
          "data": {
            "text/plain": [
              "mappingproxy({'__dict__': <attribute '__dict__' of 'Foto' objects>,\n",
              "              '__doc__': None,\n",
              "              '__module__': '__main__',\n",
              "              '__weakref__': <attribute '__weakref__' of 'Foto' objects>,\n",
              "              'execution_time': '13_33_01',\n",
              "              'fname': 'image_13_33_01.png'})"
            ]
          },
          "metadata": {
            "tags": []
          },
          "execution_count": 97
        }
      ]
    },
    {
      "cell_type": "code",
      "metadata": {
        "colab": {
          "base_uri": "https://localhost:8080/",
          "height": 35
        },
        "id": "T9gj-opATmJD",
        "outputId": "174a50e5-5b34-49bf-c547-51e7c8eca3fe"
      },
      "source": [
        "Foto.execution_time"
      ],
      "execution_count": 98,
      "outputs": [
        {
          "output_type": "execute_result",
          "data": {
            "application/vnd.google.colaboratory.intrinsic+json": {
              "type": "string"
            },
            "text/plain": [
              "'13_33_01'"
            ]
          },
          "metadata": {
            "tags": []
          },
          "execution_count": 98
        }
      ]
    },
    {
      "cell_type": "code",
      "metadata": {
        "colab": {
          "base_uri": "https://localhost:8080/",
          "height": 35
        },
        "id": "R_mgkQjUT03J",
        "outputId": "7699733b-2877-4dae-c0d2-6f12d5fbd0bd"
      },
      "source": [
        "Foto.fname"
      ],
      "execution_count": 99,
      "outputs": [
        {
          "output_type": "execute_result",
          "data": {
            "application/vnd.google.colaboratory.intrinsic+json": {
              "type": "string"
            },
            "text/plain": [
              "'image_13_33_01.png'"
            ]
          },
          "metadata": {
            "tags": []
          },
          "execution_count": 99
        }
      ]
    },
    {
      "cell_type": "code",
      "metadata": {
        "id": "2OH2mVqGT20Y"
      },
      "source": [
        "foto = Foto()"
      ],
      "execution_count": 100,
      "outputs": []
    },
    {
      "cell_type": "code",
      "metadata": {
        "colab": {
          "base_uri": "https://localhost:8080/",
          "height": 35
        },
        "id": "sV028dakT9h8",
        "outputId": "c6ec905f-355e-4ef9-fd8e-9a13b1f59e33"
      },
      "source": [
        "foto.execution_time"
      ],
      "execution_count": 102,
      "outputs": [
        {
          "output_type": "execute_result",
          "data": {
            "application/vnd.google.colaboratory.intrinsic+json": {
              "type": "string"
            },
            "text/plain": [
              "'13_33_01'"
            ]
          },
          "metadata": {
            "tags": []
          },
          "execution_count": 102
        }
      ]
    },
    {
      "cell_type": "code",
      "metadata": {
        "id": "Z-o8KsDLT_r5"
      },
      "source": [
        "class Foto:\n",
        "  execution_time = datetime.now().strftime('%H_%M_%S')\n",
        "  fname = 'image_' + execution_time + '.png'\n",
        "\n",
        "  def current_time():\n",
        "    return datetime.now().strftime('%H_%M_%S')"
      ],
      "execution_count": 110,
      "outputs": []
    },
    {
      "cell_type": "code",
      "metadata": {
        "colab": {
          "base_uri": "https://localhost:8080/"
        },
        "id": "-6wyk0XBUON0",
        "outputId": "d1b3ba5d-ffa5-414d-c56b-d362d8d70d45"
      },
      "source": [
        "Foto.__dict__"
      ],
      "execution_count": 111,
      "outputs": [
        {
          "output_type": "execute_result",
          "data": {
            "text/plain": [
              "mappingproxy({'__dict__': <attribute '__dict__' of 'Foto' objects>,\n",
              "              '__doc__': None,\n",
              "              '__module__': '__main__',\n",
              "              '__weakref__': <attribute '__weakref__' of 'Foto' objects>,\n",
              "              'current_time': <function __main__.Foto.current_time>,\n",
              "              'execution_time': '13_36_44',\n",
              "              'fname': 'image_13_36_44.png'})"
            ]
          },
          "metadata": {
            "tags": []
          },
          "execution_count": 111
        }
      ]
    },
    {
      "cell_type": "code",
      "metadata": {
        "colab": {
          "base_uri": "https://localhost:8080/",
          "height": 35
        },
        "id": "NA8GFR80UPZa",
        "outputId": "96ab5d4c-a632-4145-d9a5-b282249ed9c0"
      },
      "source": [
        "Foto.current_time() "
      ],
      "execution_count": 114,
      "outputs": [
        {
          "output_type": "execute_result",
          "data": {
            "application/vnd.google.colaboratory.intrinsic+json": {
              "type": "string"
            },
            "text/plain": [
              "'13_37_02'"
            ]
          },
          "metadata": {
            "tags": []
          },
          "execution_count": 114
        }
      ]
    },
    {
      "cell_type": "code",
      "metadata": {
        "id": "jk4myUZkUfjV"
      },
      "source": [
        "class Foto:\n",
        "  execution_time = datetime.now().strftime('%H_%M_%S')\n",
        "  fname = 'image_' + execution_time + '.png'\n",
        "\n",
        "  def current_time():\n",
        "    return datetime.now().strftime('%H_%M_%S')"
      ],
      "execution_count": 115,
      "outputs": []
    },
    {
      "cell_type": "code",
      "metadata": {
        "colab": {
          "base_uri": "https://localhost:8080/"
        },
        "id": "GLTkrDJIU0P6",
        "outputId": "01f93a4d-0f67-4daf-9e65-339b79e157cf"
      },
      "source": [
        "Foto.__mro__"
      ],
      "execution_count": 116,
      "outputs": [
        {
          "output_type": "execute_result",
          "data": {
            "text/plain": [
              "(__main__.Foto, object)"
            ]
          },
          "metadata": {
            "tags": []
          },
          "execution_count": 116
        }
      ]
    },
    {
      "cell_type": "code",
      "metadata": {
        "colab": {
          "base_uri": "https://localhost:8080/"
        },
        "id": "1e1TGJD8U1Y_",
        "outputId": "f2662ff0-b6c5-461d-a374-4680450b3c7d"
      },
      "source": [
        "Foto.mro()"
      ],
      "execution_count": 117,
      "outputs": [
        {
          "output_type": "execute_result",
          "data": {
            "text/plain": [
              "[__main__.Foto, object]"
            ]
          },
          "metadata": {
            "tags": []
          },
          "execution_count": 117
        }
      ]
    },
    {
      "cell_type": "code",
      "metadata": {
        "colab": {
          "base_uri": "https://localhost:8080/"
        },
        "id": "V7Bs17_pVAe3",
        "outputId": "6e8c7d5a-5394-49cc-e9f4-df767567599f"
      },
      "source": [
        "help(Foto.mro()) # mro zwraca porządek rozwiązywania przez python"
      ],
      "execution_count": 118,
      "outputs": [
        {
          "output_type": "stream",
          "text": [
            "Help on list object:\n",
            "\n",
            "class list(object)\n",
            " |  list() -> new empty list\n",
            " |  list(iterable) -> new list initialized from iterable's items\n",
            " |  \n",
            " |  Methods defined here:\n",
            " |  \n",
            " |  __add__(self, value, /)\n",
            " |      Return self+value.\n",
            " |  \n",
            " |  __contains__(self, key, /)\n",
            " |      Return key in self.\n",
            " |  \n",
            " |  __delitem__(self, key, /)\n",
            " |      Delete self[key].\n",
            " |  \n",
            " |  __eq__(self, value, /)\n",
            " |      Return self==value.\n",
            " |  \n",
            " |  __ge__(self, value, /)\n",
            " |      Return self>=value.\n",
            " |  \n",
            " |  __getattribute__(self, name, /)\n",
            " |      Return getattr(self, name).\n",
            " |  \n",
            " |  __getitem__(...)\n",
            " |      x.__getitem__(y) <==> x[y]\n",
            " |  \n",
            " |  __gt__(self, value, /)\n",
            " |      Return self>value.\n",
            " |  \n",
            " |  __iadd__(self, value, /)\n",
            " |      Implement self+=value.\n",
            " |  \n",
            " |  __imul__(self, value, /)\n",
            " |      Implement self*=value.\n",
            " |  \n",
            " |  __init__(self, /, *args, **kwargs)\n",
            " |      Initialize self.  See help(type(self)) for accurate signature.\n",
            " |  \n",
            " |  __iter__(self, /)\n",
            " |      Implement iter(self).\n",
            " |  \n",
            " |  __le__(self, value, /)\n",
            " |      Return self<=value.\n",
            " |  \n",
            " |  __len__(self, /)\n",
            " |      Return len(self).\n",
            " |  \n",
            " |  __lt__(self, value, /)\n",
            " |      Return self<value.\n",
            " |  \n",
            " |  __mul__(self, value, /)\n",
            " |      Return self*value.\n",
            " |  \n",
            " |  __ne__(self, value, /)\n",
            " |      Return self!=value.\n",
            " |  \n",
            " |  __new__(*args, **kwargs) from builtins.type\n",
            " |      Create and return a new object.  See help(type) for accurate signature.\n",
            " |  \n",
            " |  __repr__(self, /)\n",
            " |      Return repr(self).\n",
            " |  \n",
            " |  __reversed__(...)\n",
            " |      L.__reversed__() -- return a reverse iterator over the list\n",
            " |  \n",
            " |  __rmul__(self, value, /)\n",
            " |      Return value*self.\n",
            " |  \n",
            " |  __setitem__(self, key, value, /)\n",
            " |      Set self[key] to value.\n",
            " |  \n",
            " |  __sizeof__(...)\n",
            " |      L.__sizeof__() -- size of L in memory, in bytes\n",
            " |  \n",
            " |  append(...)\n",
            " |      L.append(object) -> None -- append object to end\n",
            " |  \n",
            " |  clear(...)\n",
            " |      L.clear() -> None -- remove all items from L\n",
            " |  \n",
            " |  copy(...)\n",
            " |      L.copy() -> list -- a shallow copy of L\n",
            " |  \n",
            " |  count(...)\n",
            " |      L.count(value) -> integer -- return number of occurrences of value\n",
            " |  \n",
            " |  extend(...)\n",
            " |      L.extend(iterable) -> None -- extend list by appending elements from the iterable\n",
            " |  \n",
            " |  index(...)\n",
            " |      L.index(value, [start, [stop]]) -> integer -- return first index of value.\n",
            " |      Raises ValueError if the value is not present.\n",
            " |  \n",
            " |  insert(...)\n",
            " |      L.insert(index, object) -- insert object before index\n",
            " |  \n",
            " |  pop(...)\n",
            " |      L.pop([index]) -> item -- remove and return item at index (default last).\n",
            " |      Raises IndexError if list is empty or index is out of range.\n",
            " |  \n",
            " |  remove(...)\n",
            " |      L.remove(value) -> None -- remove first occurrence of value.\n",
            " |      Raises ValueError if the value is not present.\n",
            " |  \n",
            " |  reverse(...)\n",
            " |      L.reverse() -- reverse *IN PLACE*\n",
            " |  \n",
            " |  sort(...)\n",
            " |      L.sort(key=None, reverse=False) -> None -- stable sort *IN PLACE*\n",
            " |  \n",
            " |  ----------------------------------------------------------------------\n",
            " |  Data and other attributes defined here:\n",
            " |  \n",
            " |  __hash__ = None\n",
            "\n"
          ],
          "name": "stdout"
        }
      ]
    },
    {
      "cell_type": "code",
      "metadata": {
        "id": "_OZzMcBSVEJw"
      },
      "source": [
        ""
      ],
      "execution_count": null,
      "outputs": []
    }
  ]
}