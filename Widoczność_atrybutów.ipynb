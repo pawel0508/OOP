{
  "nbformat": 4,
  "nbformat_minor": 0,
  "metadata": {
    "colab": {
      "name": "Untitled82.ipynb",
      "provenance": [],
      "authorship_tag": "ABX9TyOQ3T7tQEq3DNjexCvlV5XU",
      "include_colab_link": true
    },
    "kernelspec": {
      "name": "python3",
      "display_name": "Python 3"
    }
  },
  "cells": [
    {
      "cell_type": "markdown",
      "metadata": {
        "id": "view-in-github",
        "colab_type": "text"
      },
      "source": [
        "<a href=\"https://colab.research.google.com/github/pawel0508/OOP/blob/main/Widoczno%C5%9B%C4%87_atrybut%C3%B3w.ipynb\" target=\"_parent\"><img src=\"https://colab.research.google.com/assets/colab-badge.svg\" alt=\"Open In Colab\"/></a>"
      ]
    },
    {
      "cell_type": "markdown",
      "metadata": {
        "id": "gYVs5eheG2Z7"
      },
      "source": [
        "Metoda __init__"
      ]
    },
    {
      "cell_type": "code",
      "metadata": {
        "colab": {
          "base_uri": "https://localhost:8080/"
        },
        "id": "tQbjsm4SFsoP",
        "outputId": "2f1d091f-72a1-40a2-c8b3-465d9af282db"
      },
      "source": [
        "class Phone:\n",
        "  \"\"\"Phone class\"\"\"\n",
        "\n",
        "help(Phone)"
      ],
      "execution_count": null,
      "outputs": [
        {
          "output_type": "stream",
          "text": [
            "Help on class Phone in module __main__:\n",
            "\n",
            "class Phone(builtins.object)\n",
            " |  Phone class\n",
            " |  \n",
            " |  Data descriptors defined here:\n",
            " |  \n",
            " |  __dict__\n",
            " |      dictionary for instance variables (if defined)\n",
            " |  \n",
            " |  __weakref__\n",
            " |      list of weak references to the object (if defined)\n",
            "\n"
          ],
          "name": "stdout"
        }
      ]
    },
    {
      "cell_type": "code",
      "metadata": {
        "colab": {
          "base_uri": "https://localhost:8080/"
        },
        "id": "M1vmKID8Jvwh",
        "outputId": "4944965e-055f-4fcb-c721-730928621b64"
      },
      "source": [
        "help(object.__init__)"
      ],
      "execution_count": null,
      "outputs": [
        {
          "output_type": "stream",
          "text": [
            "Help on wrapper_descriptor:\n",
            "\n",
            "__init__(self, /, *args, **kwargs)\n",
            "    Initialize self.  See help(type(self)) for accurate signature.\n",
            "\n"
          ],
          "name": "stdout"
        }
      ]
    },
    {
      "cell_type": "code",
      "metadata": {
        "id": "TbdSM07OJ7IQ"
      },
      "source": [
        "class Phone:\n",
        "  \"\"\"Phone class\"\"\"\n",
        "\n",
        "  def __init__(self):\n",
        "    print(f'Inicjalizacja nowego obiektu {self}.')\n"
      ],
      "execution_count": null,
      "outputs": []
    },
    {
      "cell_type": "code",
      "metadata": {
        "colab": {
          "base_uri": "https://localhost:8080/"
        },
        "id": "cs1SfT4XKHu3",
        "outputId": "1f707b48-5755-4820-e153-5298f2b78f0a"
      },
      "source": [
        "phone1 = Phone()\n"
      ],
      "execution_count": null,
      "outputs": [
        {
          "output_type": "stream",
          "text": [
            "Inicjalizacja nowego obiektu <__main__.Phone object at 0x7fe6e0cac208>\n"
          ],
          "name": "stdout"
        }
      ]
    },
    {
      "cell_type": "markdown",
      "metadata": {
        "id": "fO7v2SI-Ke7c"
      },
      "source": [
        "### Wywoływanie klasy\n",
        "Kiedy wywołujemy klasę dzieją się dwie rzeczy:\n",
        "- Python wykonuje na klasie __new__() tworząc obiekt nowej klasy:\n",
        "\n",
        "instance = ClassName.__new__ (ClassName, *args, **kwargs)\n",
        "\n",
        "- Python wykonuje na instancji metodę __init__ inicjując utworzony obiekt.\n",
        "\n",
        "instance.__init__(*args, **kwargs)"
      ]
    },
    {
      "cell_type": "code",
      "metadata": {
        "colab": {
          "base_uri": "https://localhost:8080/"
        },
        "id": "-R6xCiz8KLYV",
        "outputId": "7a29bbeb-42a4-4ab8-dc74-9e790cae5085"
      },
      "source": [
        "help(object.__new__)"
      ],
      "execution_count": null,
      "outputs": [
        {
          "output_type": "stream",
          "text": [
            "Help on built-in function __new__:\n",
            "\n",
            "__new__(*args, **kwargs) method of builtins.type instance\n",
            "    Create and return a new object.  See help(type) for accurate signature.\n",
            "\n"
          ],
          "name": "stdout"
        }
      ]
    },
    {
      "cell_type": "code",
      "metadata": {
        "colab": {
          "base_uri": "https://localhost:8080/"
        },
        "id": "HFE_OEYeMI8d",
        "outputId": "2841b47e-95e3-4137-ecff-7edecaa5efc9"
      },
      "source": [
        "help(object.__init__)"
      ],
      "execution_count": null,
      "outputs": [
        {
          "output_type": "stream",
          "text": [
            "Help on wrapper_descriptor:\n",
            "\n",
            "__init__(self, /, *args, **kwargs)\n",
            "    Initialize self.  See help(type(self)) for accurate signature.\n",
            "\n"
          ],
          "name": "stdout"
        }
      ]
    },
    {
      "cell_type": "code",
      "metadata": {
        "id": "VcuMIbCxMLIG"
      },
      "source": [
        "class Phone:\n",
        "  pass\n",
        "\n"
      ],
      "execution_count": null,
      "outputs": []
    },
    {
      "cell_type": "code",
      "metadata": {
        "id": "QOJXD4WXMWjA"
      },
      "source": [
        "phone2 = Phone.__new__(Phone)"
      ],
      "execution_count": null,
      "outputs": []
    },
    {
      "cell_type": "code",
      "metadata": {
        "id": "Agg8gF4OMY8I"
      },
      "source": [
        "phone2.__init__()"
      ],
      "execution_count": null,
      "outputs": []
    },
    {
      "cell_type": "markdown",
      "metadata": {
        "id": "ezSdXdKTN9GF"
      },
      "source": [
        "### Przykład"
      ]
    },
    {
      "cell_type": "code",
      "metadata": {
        "id": "VINMduFfMc9h"
      },
      "source": [
        "class Phone:\n",
        "  \"\"\"Phone class\"\"\"\n",
        "\n",
        "  def __init__(self):\n",
        "    print(f'Inicjalizacja nowego obiektu {self}.') # brand jest definiowany na poziomie instancji "
      ],
      "execution_count": null,
      "outputs": []
    },
    {
      "cell_type": "code",
      "metadata": {
        "colab": {
          "base_uri": "https://localhost:8080/"
        },
        "id": "ZY2eKYjwOBKj",
        "outputId": "e007541d-724a-4391-a81e-a8319210a7f6"
      },
      "source": [
        "phone1 = Phone()"
      ],
      "execution_count": null,
      "outputs": [
        {
          "output_type": "stream",
          "text": [
            "Inicjalizacja nowego obiektu <__main__.Phone object at 0x7fe6e0cc1940>.\n"
          ],
          "name": "stdout"
        }
      ]
    },
    {
      "cell_type": "code",
      "metadata": {
        "id": "NThn9w8xOEgq"
      },
      "source": [
        "class Phone:\n",
        "  \"\"\"Phone class\"\"\"\n",
        "\n",
        "  def __init__(self, value):\n",
        "    print(f'Inicjalizacja nowego obiektu {self}.')\n",
        "    self.brand = value"
      ],
      "execution_count": null,
      "outputs": []
    },
    {
      "cell_type": "code",
      "metadata": {
        "colab": {
          "base_uri": "https://localhost:8080/"
        },
        "id": "zwwP_0_mOMNB",
        "outputId": "0b13afb9-7cdc-4c15-91ce-ed21527f116b"
      },
      "source": [
        "phone2 = Phone('Apple')"
      ],
      "execution_count": null,
      "outputs": [
        {
          "output_type": "stream",
          "text": [
            "Inicjalizacja nowego obiektu <__main__.Phone object at 0x7fe6e0cc16a0>.\n"
          ],
          "name": "stdout"
        }
      ]
    },
    {
      "cell_type": "code",
      "metadata": {
        "colab": {
          "base_uri": "https://localhost:8080/"
        },
        "id": "NAHcpjl1ON_g",
        "outputId": "7c9fe5a1-a42b-42bf-96e8-40cba26ab5ca"
      },
      "source": [
        "phone2.__dict__"
      ],
      "execution_count": null,
      "outputs": [
        {
          "output_type": "execute_result",
          "data": {
            "text/plain": [
              "{'brand': 'Apple'}"
            ]
          },
          "metadata": {
            "tags": []
          },
          "execution_count": 19
        }
      ]
    },
    {
      "cell_type": "code",
      "metadata": {
        "id": "oV8pyMyYOWy9"
      },
      "source": [
        "class Laptop:\n",
        "\n",
        "  def __init__(self, brand, model, price):\n",
        "    self.brand = brand\n",
        "    self.model = model\n",
        "    self.price = price"
      ],
      "execution_count": null,
      "outputs": []
    },
    {
      "cell_type": "code",
      "metadata": {
        "id": "NSCfxdP5PhZx"
      },
      "source": [
        "laptop1 = Laptop('MSI', 'GE62', 2500)"
      ],
      "execution_count": null,
      "outputs": []
    },
    {
      "cell_type": "code",
      "metadata": {
        "colab": {
          "base_uri": "https://localhost:8080/"
        },
        "id": "Tq50B6iYPoJ2",
        "outputId": "ba447c90-a9fd-4e74-cc22-05504275ed46"
      },
      "source": [
        "laptop1.__dict__"
      ],
      "execution_count": null,
      "outputs": [
        {
          "output_type": "execute_result",
          "data": {
            "text/plain": [
              "{'brand': 'MSI', 'model': 'GE62', 'price': 2500}"
            ]
          },
          "metadata": {
            "tags": []
          },
          "execution_count": 22
        }
      ]
    },
    {
      "cell_type": "code",
      "metadata": {
        "id": "1YlFi4nLPp2V"
      },
      "source": [
        "class Laptop:\n",
        "\n",
        "  def __init__(self, brand, model, price):\n",
        "    self.brand = brand\n",
        "    self.model = model\n",
        "    self.price = price\n",
        "  def display_atr(self):\n",
        "    for atr in self.__dict__.keys():\n",
        "      print(atr)\n",
        "  def display_values(self):\n",
        "    for atr, value in self.__dict__.items():\n",
        "      print(f'{atr} -> {value}')\n"
      ],
      "execution_count": null,
      "outputs": []
    },
    {
      "cell_type": "code",
      "metadata": {
        "id": "jYAjroU-U6lq"
      },
      "source": [
        "laptop1 = Laptop('MSI', 'GE62', 2500)"
      ],
      "execution_count": null,
      "outputs": []
    },
    {
      "cell_type": "code",
      "metadata": {
        "colab": {
          "base_uri": "https://localhost:8080/"
        },
        "id": "zhJ3CPVwUtab",
        "outputId": "d2ffe34a-0998-47f6-fcec-fcde00525b3c"
      },
      "source": [
        "laptop1.display_atr()"
      ],
      "execution_count": null,
      "outputs": [
        {
          "output_type": "stream",
          "text": [
            "brand\n",
            "model\n",
            "price\n"
          ],
          "name": "stdout"
        }
      ]
    },
    {
      "cell_type": "code",
      "metadata": {
        "colab": {
          "base_uri": "https://localhost:8080/"
        },
        "id": "DxVtH5oaU3oy",
        "outputId": "32636b41-4311-4f74-9720-9675c7126746"
      },
      "source": [
        "laptop1.display_values()"
      ],
      "execution_count": null,
      "outputs": [
        {
          "output_type": "stream",
          "text": [
            "brand -> MSI\n",
            "model -> GE62\n",
            "price -> 2500\n"
          ],
          "name": "stdout"
        }
      ]
    },
    {
      "cell_type": "code",
      "metadata": {
        "id": "xCCTUAgvWIyX"
      },
      "source": [
        "class Laptop:\n",
        "\n",
        "  def __init__(self, brand, model, price):\n",
        "    self.brand = brand\n",
        "    self.model = model\n",
        "    self.price = price\n",
        "\n",
        "  def display_attrs(self):\n",
        "    for key, value in self.__dict__.items():\n",
        "      print(f'{key} -> {value}')\n",
        "\n"
      ],
      "execution_count": 7,
      "outputs": []
    },
    {
      "cell_type": "code",
      "metadata": {
        "id": "rkA-QqHt4GnD"
      },
      "source": [
        "laptop1 = Laptop('Acer', 'Predator', '4500')"
      ],
      "execution_count": 8,
      "outputs": []
    },
    {
      "cell_type": "code",
      "metadata": {
        "colab": {
          "base_uri": "https://localhost:8080/"
        },
        "id": "Sst7e4N14NxO",
        "outputId": "00548493-b62c-491f-d189-c2acce6153ca"
      },
      "source": [
        "laptop1.display_attrs()"
      ],
      "execution_count": 9,
      "outputs": [
        {
          "output_type": "stream",
          "text": [
            "brand -> Acer\n",
            "model -> Predator\n",
            "price -> 4500\n"
          ],
          "name": "stdout"
        }
      ]
    },
    {
      "cell_type": "markdown",
      "metadata": {
        "id": "L6Z2IBIV5LtM"
      },
      "source": [
        "### **Wektor**"
      ]
    },
    {
      "cell_type": "code",
      "metadata": {
        "id": "boNkj4DC4QMn"
      },
      "source": [
        "class Wektor:\n",
        "\n",
        "  def __init__(self, *args):\n",
        "    self.components = args"
      ],
      "execution_count": 10,
      "outputs": []
    },
    {
      "cell_type": "code",
      "metadata": {
        "id": "7BUqWnDl4f66"
      },
      "source": [
        "wektor1 = Wektor(1,2,'ccc', 'PL')"
      ],
      "execution_count": 11,
      "outputs": []
    },
    {
      "cell_type": "code",
      "metadata": {
        "colab": {
          "base_uri": "https://localhost:8080/"
        },
        "id": "z0hT2mJW5bp4",
        "outputId": "fa901578-b22c-4760-db29-d21830bfafee"
      },
      "source": [
        "wektor1.__dict__"
      ],
      "execution_count": 13,
      "outputs": [
        {
          "output_type": "execute_result",
          "data": {
            "text/plain": [
              "{'components': (1, 2, 'ccc', 'PL')}"
            ]
          },
          "metadata": {
            "tags": []
          },
          "execution_count": 13
        }
      ]
    },
    {
      "cell_type": "code",
      "metadata": {
        "id": "KRFW9W2c5d19"
      },
      "source": [
        "class TechStack:\n",
        "\n",
        "  def __init__(self, **kwargs):\n",
        "    self.techs = kwargs"
      ],
      "execution_count": 15,
      "outputs": []
    },
    {
      "cell_type": "code",
      "metadata": {
        "id": "kxSNJUYo93RO"
      },
      "source": [
        "stack1 = TechStack(ptyhon = 'mid')"
      ],
      "execution_count": 16,
      "outputs": []
    },
    {
      "cell_type": "code",
      "metadata": {
        "colab": {
          "base_uri": "https://localhost:8080/"
        },
        "id": "lo5jxID--Hi3",
        "outputId": "1ce9cfb0-db7a-4edf-9278-fd8482c2686b"
      },
      "source": [
        "stack1.techs"
      ],
      "execution_count": 17,
      "outputs": [
        {
          "output_type": "execute_result",
          "data": {
            "text/plain": [
              "{'ptyhon': 'mid'}"
            ]
          },
          "metadata": {
            "tags": []
          },
          "execution_count": 17
        }
      ]
    },
    {
      "cell_type": "code",
      "metadata": {
        "id": "_5jan9PK-Ol9"
      },
      "source": [
        "stack2 = TechStack(ptyhon = 'mid', java = 'senior')"
      ],
      "execution_count": 18,
      "outputs": []
    },
    {
      "cell_type": "code",
      "metadata": {
        "colab": {
          "base_uri": "https://localhost:8080/"
        },
        "id": "gObFLrYQ-Wki",
        "outputId": "28d95027-dbb7-45a9-c122-b07a8e119c14"
      },
      "source": [
        "stack2.__dict__"
      ],
      "execution_count": 19,
      "outputs": [
        {
          "output_type": "execute_result",
          "data": {
            "text/plain": [
              "{'techs': {'java': 'senior', 'ptyhon': 'mid'}}"
            ]
          },
          "metadata": {
            "tags": []
          },
          "execution_count": 19
        }
      ]
    },
    {
      "cell_type": "code",
      "metadata": {
        "id": "-kOOmkOk-Yaz"
      },
      "source": [
        "class TechStack:\n",
        "\n",
        "  def __init__(self, **kwargs):\n",
        "    for atr_key, atr_value in kwargs.items():\n",
        "      setattr(self, atr_key, atr_value)\n",
        "\n",
        "  def display_info(self):\n",
        "    print(f'Całkowita liczba technologii: {len(self.__dict__)}')\n",
        "\n",
        "      "
      ],
      "execution_count": 52,
      "outputs": []
    },
    {
      "cell_type": "code",
      "metadata": {
        "id": "Kf1QkLdm-8sX"
      },
      "source": [
        "stack3 = TechStack(python = 'mid', java = 'senior', C = 'junior')"
      ],
      "execution_count": 53,
      "outputs": []
    },
    {
      "cell_type": "code",
      "metadata": {
        "colab": {
          "base_uri": "https://localhost:8080/",
          "height": 35
        },
        "id": "uFuVi6SR-_JS",
        "outputId": "6ef8c31e-83a6-46be-ce14-fa7a7f150c78"
      },
      "source": [
        "stack3.java"
      ],
      "execution_count": 54,
      "outputs": [
        {
          "output_type": "execute_result",
          "data": {
            "application/vnd.google.colaboratory.intrinsic+json": {
              "type": "string"
            },
            "text/plain": [
              "'senior'"
            ]
          },
          "metadata": {
            "tags": []
          },
          "execution_count": 54
        }
      ]
    },
    {
      "cell_type": "code",
      "metadata": {
        "colab": {
          "base_uri": "https://localhost:8080/"
        },
        "id": "JiaTF5yW_G3g",
        "outputId": "f12693d5-3286-4b17-dd1c-e5a57d2125ce"
      },
      "source": [
        "stack3.display_info()"
      ],
      "execution_count": 55,
      "outputs": [
        {
          "output_type": "stream",
          "text": [
            "Całkowita liczba technologii: 3\n"
          ],
          "name": "stdout"
        }
      ]
    },
    {
      "cell_type": "markdown",
      "metadata": {
        "id": "fzQWpa-6CzDi"
      },
      "source": [
        "### Ustawienie nowych wartości atrybutów - walidacja."
      ]
    },
    {
      "cell_type": "code",
      "metadata": {
        "colab": {
          "base_uri": "https://localhost:8080/"
        },
        "id": "JCGkFD4jB4VW",
        "outputId": "3eb30ccb-fe00-48cd-ac7c-387bb7703021"
      },
      "source": [
        "class Phone:\n",
        "  def __init__(self, brand, model, price):\n",
        "    self.brand = brand\n",
        "    self.model = model\n",
        "\n",
        "    if isinstance(price, (int, float)):\n",
        "      self.price = price\n",
        "    else:\n",
        "      raise TypeError('The price must be of type int or float!')\n",
        "\n",
        "\n",
        "phone1 = Phone('Apple', 'iPhone SE', 2199)\n",
        "phone1.brand, phone1.model, phone1.price\n"
      ],
      "execution_count": 58,
      "outputs": [
        {
          "output_type": "execute_result",
          "data": {
            "text/plain": [
              "('Apple', 'iPhone SE', 2199)"
            ]
          },
          "metadata": {
            "tags": []
          },
          "execution_count": 58
        }
      ]
    },
    {
      "cell_type": "code",
      "metadata": {
        "colab": {
          "base_uri": "https://localhost:8080/"
        },
        "id": "A9og6o55DwMN",
        "outputId": "627c016b-e918-49ff-e9ac-7b0fd77547bd"
      },
      "source": [
        "phone1 = Phone('Apple', 'iPhone SE', 4999.0)\n",
        "phone1.brand, phone1.model, phone1.price"
      ],
      "execution_count": 60,
      "outputs": [
        {
          "output_type": "execute_result",
          "data": {
            "text/plain": [
              "('Apple', 'iPhone SE', 4999.0)"
            ]
          },
          "metadata": {
            "tags": []
          },
          "execution_count": 60
        }
      ]
    },
    {
      "cell_type": "code",
      "metadata": {
        "colab": {
          "base_uri": "https://localhost:8080/"
        },
        "id": "FdlTiqoxEauC",
        "outputId": "d173bfce-b129-451c-ca81-2b32fe57918b"
      },
      "source": [
        "class Phone:\n",
        "  def __init__(self, brand, model, price):\n",
        "    self.brand = brand\n",
        "    self.model = model\n",
        "\n",
        "    if isinstance(price, (int, float)):\n",
        "      self.price = price\n",
        "    else:\n",
        "      raise TypeError('The price must be of type int or float!')\n",
        "  \n",
        "  def show_details(self):\n",
        "    print(f'Brand: {self.brand}\\nModel: {self.model}\\nPrice: {self.price}')\n",
        "\n",
        "  def pln_to_usd(self):\n",
        "    self.price = self.price/4.0\n",
        "\n",
        "\n",
        "phone1 = Phone('Apple', 'iPhone SE', 2199)\n",
        "phone1.brand, phone1.model, phone1.price"
      ],
      "execution_count": 72,
      "outputs": [
        {
          "output_type": "execute_result",
          "data": {
            "text/plain": [
              "('Apple', 'iPhone SE', 2199)"
            ]
          },
          "metadata": {
            "tags": []
          },
          "execution_count": 72
        }
      ]
    },
    {
      "cell_type": "code",
      "metadata": {
        "colab": {
          "base_uri": "https://localhost:8080/"
        },
        "id": "Rb7OS7vzeEQs",
        "outputId": "ed812c91-4029-4b17-b081-199b3399bd6c"
      },
      "source": [
        "Phone.__dict__"
      ],
      "execution_count": 73,
      "outputs": [
        {
          "output_type": "execute_result",
          "data": {
            "text/plain": [
              "mappingproxy({'__dict__': <attribute '__dict__' of 'Phone' objects>,\n",
              "              '__doc__': None,\n",
              "              '__init__': <function __main__.Phone.__init__>,\n",
              "              '__module__': '__main__',\n",
              "              '__weakref__': <attribute '__weakref__' of 'Phone' objects>,\n",
              "              'pln_to_usd': <function __main__.Phone.pln_to_usd>,\n",
              "              'show_details': <function __main__.Phone.show_details>})"
            ]
          },
          "metadata": {
            "tags": []
          },
          "execution_count": 73
        }
      ]
    },
    {
      "cell_type": "code",
      "metadata": {
        "id": "333EhVdgeGUO"
      },
      "source": [
        "phone1 = Phone('Nokia', 'E52', 1200)"
      ],
      "execution_count": 74,
      "outputs": []
    },
    {
      "cell_type": "code",
      "metadata": {
        "colab": {
          "base_uri": "https://localhost:8080/"
        },
        "id": "qhtUMVbRfK_M",
        "outputId": "5f8b2e92-b5d2-4a45-c531-40938ea753e3"
      },
      "source": [
        "phone1.show_details()"
      ],
      "execution_count": 75,
      "outputs": [
        {
          "output_type": "stream",
          "text": [
            "Brand: Nokia\n",
            "Model: E52\n",
            "Price: 1200\n"
          ],
          "name": "stdout"
        }
      ]
    },
    {
      "cell_type": "code",
      "metadata": {
        "colab": {
          "base_uri": "https://localhost:8080/"
        },
        "id": "ft0LEm-6fMh_",
        "outputId": "77ea2b58-b175-4ca8-dd5a-13d8a056c2e9"
      },
      "source": [
        "phone1.pln_to_usd()\n",
        "phone1.show_details()"
      ],
      "execution_count": 76,
      "outputs": [
        {
          "output_type": "stream",
          "text": [
            "Brand: Nokia\n",
            "Model: E52\n",
            "Price: 300.0\n"
          ],
          "name": "stdout"
        }
      ]
    },
    {
      "cell_type": "code",
      "metadata": {
        "id": "iKQTSRTrfROE"
      },
      "source": [
        "class TechStack:\n",
        "\n",
        "  def __init__(self, tech = None):\n",
        "    self.tech = tech if tech else 'Python'\n",
        "\n",
        "  def display_info(self):\n",
        "    if self.tech:\n",
        "      print('Techs: ', self.tech)\n",
        "    else:\n",
        "      print('No techs.')\n"
      ],
      "execution_count": 95,
      "outputs": []
    },
    {
      "cell_type": "code",
      "metadata": {
        "id": "0ZE3q5V-f5so"
      },
      "source": [
        "stack1 = TechStack()"
      ],
      "execution_count": 96,
      "outputs": []
    },
    {
      "cell_type": "code",
      "metadata": {
        "colab": {
          "base_uri": "https://localhost:8080/"
        },
        "id": "N9REvg-Yf8fH",
        "outputId": "7627bcb5-692b-4bee-9dce-94b278666a58"
      },
      "source": [
        "stack1.__dict__"
      ],
      "execution_count": 97,
      "outputs": [
        {
          "output_type": "execute_result",
          "data": {
            "text/plain": [
              "{'tech': 'Python'}"
            ]
          },
          "metadata": {
            "tags": []
          },
          "execution_count": 97
        }
      ]
    },
    {
      "cell_type": "code",
      "metadata": {
        "colab": {
          "base_uri": "https://localhost:8080/"
        },
        "id": "HPRBJg1Tf98Z",
        "outputId": "c1a2be92-96a7-4d6f-a1cf-7e2020c80236"
      },
      "source": [
        "stack1.display_info()"
      ],
      "execution_count": 98,
      "outputs": [
        {
          "output_type": "stream",
          "text": [
            "Techs:  Python\n"
          ],
          "name": "stdout"
        }
      ]
    },
    {
      "cell_type": "code",
      "metadata": {
        "id": "5wVC0Gg2gD1N"
      },
      "source": [
        "stack2 = TechStack(tech = 'Python')"
      ],
      "execution_count": 99,
      "outputs": []
    },
    {
      "cell_type": "code",
      "metadata": {
        "colab": {
          "base_uri": "https://localhost:8080/",
          "height": 35
        },
        "id": "gB2UyLpPgIYs",
        "outputId": "42c2a976-fef5-40f5-c099-0f74e093ec6a"
      },
      "source": [
        "stack2.tech"
      ],
      "execution_count": 100,
      "outputs": [
        {
          "output_type": "execute_result",
          "data": {
            "application/vnd.google.colaboratory.intrinsic+json": {
              "type": "string"
            },
            "text/plain": [
              "'Python'"
            ]
          },
          "metadata": {
            "tags": []
          },
          "execution_count": 100
        }
      ]
    },
    {
      "cell_type": "code",
      "metadata": {
        "colab": {
          "base_uri": "https://localhost:8080/"
        },
        "id": "-Ono8-rJgK3o",
        "outputId": "a9532b41-de69-4776-ee48-7a842668ce8d"
      },
      "source": [
        "stack2.display_info()\n"
      ],
      "execution_count": 101,
      "outputs": [
        {
          "output_type": "stream",
          "text": [
            "Techs:  Python\n"
          ],
          "name": "stdout"
        }
      ]
    },
    {
      "cell_type": "code",
      "metadata": {
        "colab": {
          "base_uri": "https://localhost:8080/"
        },
        "id": "Wea1XPvGgW-t",
        "outputId": "04309c52-02e8-43bb-f74b-be6ae3fc61f9"
      },
      "source": [
        "stack1.__dict__"
      ],
      "execution_count": 102,
      "outputs": [
        {
          "output_type": "execute_result",
          "data": {
            "text/plain": [
              "{'tech': 'Python'}"
            ]
          },
          "metadata": {
            "tags": []
          },
          "execution_count": 102
        }
      ]
    },
    {
      "cell_type": "code",
      "metadata": {
        "colab": {
          "base_uri": "https://localhost:8080/"
        },
        "id": "Zwu5EexTgoMc",
        "outputId": "68e44672-b2f1-4714-f861-099dbdd7a6ed"
      },
      "source": [
        "class Smartphone:\n",
        "    \n",
        "    def __init__(self, brand, model, price):\n",
        "        self.brand = brand\n",
        "        self.model = model\n",
        "        self.price = price\n",
        "        \n",
        "smartphone = Smartphone(brand = 'Huawei', model = 'Mate 20 Pro', price = 1999)\n",
        "print(smartphone.__dict__)"
      ],
      "execution_count": 103,
      "outputs": [
        {
          "output_type": "stream",
          "text": [
            "{'brand': 'Huawei', 'model': 'Mate 20 Pro', 'price': 1999}\n"
          ],
          "name": "stdout"
        }
      ]
    },
    {
      "cell_type": "code",
      "metadata": {
        "id": "aqPEKZeNhaGJ"
      },
      "source": [
        "class Smartphone:\n",
        "    \n",
        "    def __init__(self, brand, model, price):\n",
        "        self.brand = brand\n",
        "        self.model = model\n",
        "        if isinstance(price, (int, float)) and price > 0:\n",
        "            self.price = price\n",
        "        else:\n",
        "            raise TypeError('The price attribute must be a positive int or float.')\n",
        "        "
      ],
      "execution_count": 104,
      "outputs": []
    },
    {
      "cell_type": "code",
      "metadata": {
        "id": "oGLa539ojfgt"
      },
      "source": [
        "smartphone1 = Smartphone(brand = 'Huawei', model = 'Mate 20 Pro', price = 1999)"
      ],
      "execution_count": 109,
      "outputs": []
    },
    {
      "cell_type": "code",
      "metadata": {
        "colab": {
          "base_uri": "https://localhost:8080/"
        },
        "id": "pNT0uHpajlBt",
        "outputId": "7d4541a3-f0ef-4a3f-c64a-b853859fbd66"
      },
      "source": [
        "print(smartphone1.__dict__)\n"
      ],
      "execution_count": 110,
      "outputs": [
        {
          "output_type": "stream",
          "text": [
            "{'brand': 'Huawei', 'model': 'Mate 20 Pro', 'price': 1999}\n"
          ],
          "name": "stdout"
        }
      ]
    },
    {
      "cell_type": "markdown",
      "metadata": {
        "id": "cz0FTX5N7TL6"
      },
      "source": [
        "## Widoczność zmiennych:\n",
        "### Rodzaje zmiennych/atrybutów ze względu na widoczność:\n",
        "- publiczne - dostęp mają wszyscy, np. var1, var2\n",
        "- chronione - dostęp mają klasy dziedziczące, np. \\_var1, \\_var2.\n",
        "- prywatne - dostęp ma tylko klasa np. \\__var1 , \\__var2 (dwie podłogi a nie jedna)\n",
        "\n"
      ]
    },
    {
      "cell_type": "code",
      "metadata": {
        "id": "1zWJSjqCjoCL"
      },
      "source": [
        "class Laptop:\n",
        "  brand = 'Apple'"
      ],
      "execution_count": 3,
      "outputs": []
    },
    {
      "cell_type": "code",
      "metadata": {
        "colab": {
          "base_uri": "https://localhost:8080/"
        },
        "id": "crFdy_ro8qbk",
        "outputId": "ae354932-bd5a-44aa-ae67-2456079a27b4"
      },
      "source": [
        "Laptop.__dict__"
      ],
      "execution_count": 4,
      "outputs": [
        {
          "output_type": "execute_result",
          "data": {
            "text/plain": [
              "mappingproxy({'__dict__': <attribute '__dict__' of 'Laptop' objects>,\n",
              "              '__doc__': None,\n",
              "              '__module__': '__main__',\n",
              "              '__weakref__': <attribute '__weakref__' of 'Laptop' objects>,\n",
              "              'brand': 'Apple'})"
            ]
          },
          "metadata": {
            "tags": []
          },
          "execution_count": 4
        }
      ]
    },
    {
      "cell_type": "code",
      "metadata": {
        "id": "z-sEISOC8saB"
      },
      "source": [
        "class Laptop:\n",
        "\n",
        "  brand = 'Apple'\n",
        "  _code = '0034'"
      ],
      "execution_count": 5,
      "outputs": []
    },
    {
      "cell_type": "code",
      "metadata": {
        "colab": {
          "base_uri": "https://localhost:8080/"
        },
        "id": "a3LXl4p786pZ",
        "outputId": "ca1f808b-28ab-498e-ff69-16ec05a5cbdd"
      },
      "source": [
        "Laptop.__dict__"
      ],
      "execution_count": 6,
      "outputs": [
        {
          "output_type": "execute_result",
          "data": {
            "text/plain": [
              "mappingproxy({'__dict__': <attribute '__dict__' of 'Laptop' objects>,\n",
              "              '__doc__': None,\n",
              "              '__module__': '__main__',\n",
              "              '__weakref__': <attribute '__weakref__' of 'Laptop' objects>,\n",
              "              '_code': '0034',\n",
              "              'brand': 'Apple'})"
            ]
          },
          "metadata": {
            "tags": []
          },
          "execution_count": 6
        }
      ]
    },
    {
      "cell_type": "code",
      "metadata": {
        "id": "WQ2DO-eC9FCW"
      },
      "source": [
        "class Laptop:\n",
        "\n",
        "  brand = 'Apple'\n",
        "  _code = '0034'\n",
        "  __wholesale_price = 2490\n",
        "\n"
      ],
      "execution_count": 7,
      "outputs": []
    },
    {
      "cell_type": "code",
      "metadata": {
        "colab": {
          "base_uri": "https://localhost:8080/"
        },
        "id": "DiHIbFag9LVk",
        "outputId": "16f0aa4d-5a03-45d6-cd1a-814d40afcf97"
      },
      "source": [
        "Laptop.__dict__"
      ],
      "execution_count": 9,
      "outputs": [
        {
          "output_type": "execute_result",
          "data": {
            "text/plain": [
              "mappingproxy({'_Laptop__wholesale_price': 2490,\n",
              "              '__dict__': <attribute '__dict__' of 'Laptop' objects>,\n",
              "              '__doc__': None,\n",
              "              '__module__': '__main__',\n",
              "              '__weakref__': <attribute '__weakref__' of 'Laptop' objects>,\n",
              "              '_code': '0034',\n",
              "              'brand': 'Apple'})"
            ]
          },
          "metadata": {
            "tags": []
          },
          "execution_count": 9
        }
      ]
    },
    {
      "cell_type": "code",
      "metadata": {
        "colab": {
          "base_uri": "https://localhost:8080/"
        },
        "id": "8oDwnhgj9OY4",
        "outputId": "dfb11348-c5af-462a-942c-ab360bbb91a1"
      },
      "source": [
        "Laptop._Laptop__wholesale_price"
      ],
      "execution_count": 10,
      "outputs": [
        {
          "output_type": "execute_result",
          "data": {
            "text/plain": [
              "2490"
            ]
          },
          "metadata": {
            "tags": []
          },
          "execution_count": 10
        }
      ]
    },
    {
      "cell_type": "markdown",
      "metadata": {
        "id": "Vzh0Ln1AFE5e"
      },
      "source": [
        "### Przykład"
      ]
    },
    {
      "cell_type": "code",
      "metadata": {
        "id": "_GfNF5Fn9YX9"
      },
      "source": [
        "class Laptop:\n",
        "  brand = 'Apple'\n",
        "  _usdpln = 4.0\n",
        "  __trade_margin = 0.3\n",
        "\n",
        "  def __init__(self, net_price):\n",
        "    self.net_price = net_price\n",
        "  \n",
        "  def _convert_price(price):\n",
        "    return price * Laptop._usdpln * (1 + Laptop._Laptop__trade_margin)\n",
        "\n",
        "  def display_price_pln(self):\n",
        "    print(f'Cena: {Laptop._convert_price(self.net_price)} PLN')"
      ],
      "execution_count": 16,
      "outputs": []
    },
    {
      "cell_type": "code",
      "metadata": {
        "colab": {
          "base_uri": "https://localhost:8080/"
        },
        "id": "NImAHpdwGR_j",
        "outputId": "b06b8d9f-d945-4b5b-dfe6-daf14a1c7edc"
      },
      "source": [
        "Laptop.__dict__"
      ],
      "execution_count": 17,
      "outputs": [
        {
          "output_type": "execute_result",
          "data": {
            "text/plain": [
              "mappingproxy({'_Laptop__trade_margin': 0.3,\n",
              "              '__dict__': <attribute '__dict__' of 'Laptop' objects>,\n",
              "              '__doc__': None,\n",
              "              '__init__': <function __main__.Laptop.__init__>,\n",
              "              '__module__': '__main__',\n",
              "              '__weakref__': <attribute '__weakref__' of 'Laptop' objects>,\n",
              "              '_convert_price': <function __main__.Laptop._convert_price>,\n",
              "              '_usdpln': 4.0,\n",
              "              'brand': 'Apple',\n",
              "              'display_price_pln': <function __main__.Laptop.display_price_pln>})"
            ]
          },
          "metadata": {
            "tags": []
          },
          "execution_count": 17
        }
      ]
    },
    {
      "cell_type": "code",
      "metadata": {
        "id": "2gC7iveyGTWY"
      },
      "source": [
        "laptop = Laptop(2000)"
      ],
      "execution_count": 18,
      "outputs": []
    },
    {
      "cell_type": "code",
      "metadata": {
        "colab": {
          "base_uri": "https://localhost:8080/"
        },
        "id": "jFxXISFmGWyb",
        "outputId": "fd07d735-6bbb-415c-f1c1-7d2e431cb9c6"
      },
      "source": [
        "laptop.display_price_pln()"
      ],
      "execution_count": 19,
      "outputs": [
        {
          "output_type": "stream",
          "text": [
            "Cena: 10400.0 PLN\n"
          ],
          "name": "stdout"
        }
      ]
    },
    {
      "cell_type": "markdown",
      "metadata": {
        "id": "JIgRd56_H1oJ"
      },
      "source": [
        "### Atrybuty na poziomie instancji"
      ]
    },
    {
      "cell_type": "code",
      "metadata": {
        "id": "NzXB1ierGYWW"
      },
      "source": [
        "class Laptop:\n",
        "\n",
        "  def __init__(self, brand, code, wholesale_price):\n",
        "    self.brand = brand\n",
        "    self._code = code\n",
        "    self.__wholesale_price = wholesale_price\n",
        "laptop = Laptop('Apple', '043F', 4900)"
      ],
      "execution_count": 24,
      "outputs": []
    },
    {
      "cell_type": "code",
      "metadata": {
        "colab": {
          "base_uri": "https://localhost:8080/"
        },
        "id": "noKSpLdCH_97",
        "outputId": "a5508498-86b4-4948-be38-12c821b8a0d4"
      },
      "source": [
        "laptop._Laptop__wholesale_price"
      ],
      "execution_count": 25,
      "outputs": [
        {
          "output_type": "execute_result",
          "data": {
            "text/plain": [
              "4900"
            ]
          },
          "metadata": {
            "tags": []
          },
          "execution_count": 25
        }
      ]
    },
    {
      "cell_type": "code",
      "metadata": {
        "colab": {
          "base_uri": "https://localhost:8080/"
        },
        "id": "LEZnQ84SIJ8U",
        "outputId": "b97b4a80-32ab-44ef-8555-957ccda652c4"
      },
      "source": [
        "class HouseProject:\n",
        "\n",
        "    def __init__(self, area, number_of_floors):\n",
        "        self.__area = area\n",
        "        self.__number_of_floors = number_of_floors\n",
        "\n",
        "    def info(self):\n",
        "        print(f'Area: {self.__area}')\n",
        "        print(f'Number of floors: {self.__number_of_floors}')\n",
        "\n",
        "\n",
        "def info_ext(instance):\n",
        "    print(f'Area: {instance._HouseProject__area}')\n",
        "    print(f'Number of floors: {instance._HouseProject__number_of_floors}')    \n",
        "\n",
        "\n",
        "project = HouseProject(100, 1)\n",
        "project.info()"
      ],
      "execution_count": 26,
      "outputs": [
        {
          "output_type": "stream",
          "text": [
            "Area: 100\n",
            "Number of floors: 1\n"
          ],
          "name": "stdout"
        }
      ]
    },
    {
      "cell_type": "code",
      "metadata": {
        "id": "LYbG-134KFAB"
      },
      "source": [
        "class Smartphone:\n",
        " \n",
        "    def __init__(self, brand, model, price):\n",
        "        self.brand = brand\n",
        "        self._model = model\n",
        "        self.__price = price\n",
        " \n",
        " \n",
        "smartphone = Smartphone('Huawei', 'Mate 20 Pro', 1999)\n",
        "print(f'brand -> {smartphone.brand}')\n",
        "print(f'model -> {smartphone._model}')\n",
        "print(f'price -> {smartphone._Smartphone__price}')"
      ],
      "execution_count": null,
      "outputs": []
    }
  ]
}