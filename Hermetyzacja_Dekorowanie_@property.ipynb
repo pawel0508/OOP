{
  "nbformat": 4,
  "nbformat_minor": 0,
  "metadata": {
    "colab": {
      "name": "Untitled83.ipynb",
      "provenance": [],
      "authorship_tag": "ABX9TyOWncQ+IHCAk0K4ZdqyXZmw",
      "include_colab_link": true
    },
    "kernelspec": {
      "name": "python3",
      "display_name": "Python 3"
    }
  },
  "cells": [
    {
      "cell_type": "markdown",
      "metadata": {
        "id": "view-in-github",
        "colab_type": "text"
      },
      "source": [
        "<a href=\"https://colab.research.google.com/github/pawel0508/OOP/blob/main/Hermetyzacja_Dekorowanie_%40property.ipynb\" target=\"_parent\"><img src=\"https://colab.research.google.com/assets/colab-badge.svg\" alt=\"Open In Colab\"/></a>"
      ]
    },
    {
      "cell_type": "markdown",
      "metadata": {
        "id": "lj_4nsBDxjga"
      },
      "source": [
        "# **Hermetyzacja/Enkapsulacja**\n",
        "Nie chcemy aby użytkownik sam modyfikował takie atrybuty."
      ]
    },
    {
      "cell_type": "code",
      "metadata": {
        "id": "Bmhxmo0oxidi"
      },
      "source": [
        "class Phone:\n",
        "  def __init__(self, price):\n",
        "    self.price = price\n",
        "\n",
        "phone1 = Phone(2499)\n"
      ],
      "execution_count": 1,
      "outputs": []
    },
    {
      "cell_type": "code",
      "metadata": {
        "colab": {
          "base_uri": "https://localhost:8080/"
        },
        "id": "CETGFFibzxwc",
        "outputId": "5b4e4c34-486f-49c2-c123-a5c9c0e6587c"
      },
      "source": [
        "phone1.__dict__"
      ],
      "execution_count": 2,
      "outputs": [
        {
          "output_type": "execute_result",
          "data": {
            "text/plain": [
              "{'price': 2499}"
            ]
          },
          "metadata": {
            "tags": []
          },
          "execution_count": 2
        }
      ]
    },
    {
      "cell_type": "code",
      "metadata": {
        "colab": {
          "base_uri": "https://localhost:8080/"
        },
        "id": "4WwecVLzz03B",
        "outputId": "e2469f74-8182-4508-d935-cfafd6431825"
      },
      "source": [
        "class Phone:\n",
        "  def __init__(self, price):\n",
        "    self._price = price\n",
        "\n",
        "  def get_price(self):\n",
        "    return self._price\n",
        "\n",
        "  def set_price(self, value):\n",
        "    self._price = value\n",
        "\n",
        "phone1 = Phone(2499)\n",
        "phone1.__dict__\n",
        "\n",
        "\n"
      ],
      "execution_count": 9,
      "outputs": [
        {
          "output_type": "execute_result",
          "data": {
            "text/plain": [
              "{'_price': 2499}"
            ]
          },
          "metadata": {
            "tags": []
          },
          "execution_count": 9
        }
      ]
    },
    {
      "cell_type": "code",
      "metadata": {
        "colab": {
          "base_uri": "https://localhost:8080/"
        },
        "id": "Qw6f7a8Y0ZCC",
        "outputId": "85437185-eede-42df-a9e8-63328929fbc2"
      },
      "source": [
        "phone1.get_price()"
      ],
      "execution_count": 11,
      "outputs": [
        {
          "output_type": "execute_result",
          "data": {
            "text/plain": [
              "2499"
            ]
          },
          "metadata": {
            "tags": []
          },
          "execution_count": 11
        }
      ]
    },
    {
      "cell_type": "code",
      "metadata": {
        "id": "k2MfQe930knV"
      },
      "source": [
        "phone1.set_price(2600)"
      ],
      "execution_count": 12,
      "outputs": []
    },
    {
      "cell_type": "code",
      "metadata": {
        "colab": {
          "base_uri": "https://localhost:8080/"
        },
        "id": "iguFKlh_0yON",
        "outputId": "57825303-1ad0-4049-d72e-36350e1ce87a"
      },
      "source": [
        "phone1.get_price()"
      ],
      "execution_count": 13,
      "outputs": [
        {
          "output_type": "execute_result",
          "data": {
            "text/plain": [
              "2600"
            ]
          },
          "metadata": {
            "tags": []
          },
          "execution_count": 13
        }
      ]
    },
    {
      "cell_type": "markdown",
      "metadata": {
        "id": "SE5grFME5GAK"
      },
      "source": [
        "# Walidacja"
      ]
    },
    {
      "cell_type": "code",
      "metadata": {
        "colab": {
          "base_uri": "https://localhost:8080/"
        },
        "id": "SF-M_VEF0zi1",
        "outputId": "799d6f07-9a6d-4eb9-dab7-85e528dad12f"
      },
      "source": [
        "class Phone:\n",
        "\n",
        "  def __init__(self, price):\n",
        "    self.set_price(price)\n",
        "\n",
        "  def get_price(self):\n",
        "    return self._price\n",
        "\n",
        "  def set_price(self, value):\n",
        "    if isinstance(value, (int, float)):\n",
        "      if value > 0:\n",
        "        self._price = value\n",
        "      else: \n",
        "        raise ValueError('The price attribute must be greater or equal 0')\n",
        "    else:\n",
        "      raise TypeError('The price attribute must be int or float value.')\n",
        "phone = Phone(4999)\n",
        "phone.__dict__"
      ],
      "execution_count": 31,
      "outputs": [
        {
          "output_type": "execute_result",
          "data": {
            "text/plain": [
              "{'_price': 4999}"
            ]
          },
          "metadata": {
            "tags": []
          },
          "execution_count": 31
        }
      ]
    },
    {
      "cell_type": "markdown",
      "metadata": {
        "id": "Ab9Zp__a9Vmi"
      },
      "source": [
        "# Właściwości - property()"
      ]
    },
    {
      "cell_type": "code",
      "metadata": {
        "colab": {
          "base_uri": "https://localhost:8080/"
        },
        "id": "4Qqg5z1h8Adb",
        "outputId": "d080f9b8-cbfb-4d3e-e7aa-ca547b8bb56a"
      },
      "source": [
        "help(property)"
      ],
      "execution_count": 33,
      "outputs": [
        {
          "output_type": "stream",
          "text": [
            "Help on class property in module builtins:\n",
            "\n",
            "class property(object)\n",
            " |  property(fget=None, fset=None, fdel=None, doc=None) -> property attribute\n",
            " |  \n",
            " |  fget is a function to be used for getting an attribute value, and likewise\n",
            " |  fset is a function for setting, and fdel a function for del'ing, an\n",
            " |  attribute.  Typical use is to define a managed attribute x:\n",
            " |  \n",
            " |  class C(object):\n",
            " |      def getx(self): return self._x\n",
            " |      def setx(self, value): self._x = value\n",
            " |      def delx(self): del self._x\n",
            " |      x = property(getx, setx, delx, \"I'm the 'x' property.\")\n",
            " |  \n",
            " |  Decorators make defining new properties or modifying existing ones easy:\n",
            " |  \n",
            " |  class C(object):\n",
            " |      @property\n",
            " |      def x(self):\n",
            " |          \"I am the 'x' property.\"\n",
            " |          return self._x\n",
            " |      @x.setter\n",
            " |      def x(self, value):\n",
            " |          self._x = value\n",
            " |      @x.deleter\n",
            " |      def x(self):\n",
            " |          del self._x\n",
            " |  \n",
            " |  Methods defined here:\n",
            " |  \n",
            " |  __delete__(self, instance, /)\n",
            " |      Delete an attribute of instance.\n",
            " |  \n",
            " |  __get__(self, instance, owner, /)\n",
            " |      Return an attribute of instance, which is of type owner.\n",
            " |  \n",
            " |  __getattribute__(self, name, /)\n",
            " |      Return getattr(self, name).\n",
            " |  \n",
            " |  __init__(self, /, *args, **kwargs)\n",
            " |      Initialize self.  See help(type(self)) for accurate signature.\n",
            " |  \n",
            " |  __new__(*args, **kwargs) from builtins.type\n",
            " |      Create and return a new object.  See help(type) for accurate signature.\n",
            " |  \n",
            " |  __set__(self, instance, value, /)\n",
            " |      Set an attribute of instance to value.\n",
            " |  \n",
            " |  deleter(...)\n",
            " |      Descriptor to change the deleter on a property.\n",
            " |  \n",
            " |  getter(...)\n",
            " |      Descriptor to change the getter on a property.\n",
            " |  \n",
            " |  setter(...)\n",
            " |      Descriptor to change the setter on a property.\n",
            " |  \n",
            " |  ----------------------------------------------------------------------\n",
            " |  Data descriptors defined here:\n",
            " |  \n",
            " |  __isabstractmethod__\n",
            " |  \n",
            " |  fdel\n",
            " |  \n",
            " |  fget\n",
            " |  \n",
            " |  fset\n",
            "\n"
          ],
          "name": "stdout"
        }
      ]
    },
    {
      "cell_type": "code",
      "metadata": {
        "id": "4hqYaxYJ9dSi"
      },
      "source": [
        "class Phone:\n",
        "  def __init__(self, price):\n",
        "    self._price = price\n",
        "\n",
        "  def get_price(self):\n",
        "    print('getting...')\n",
        "    return self._price"
      ],
      "execution_count": 36,
      "outputs": []
    },
    {
      "cell_type": "code",
      "metadata": {
        "colab": {
          "base_uri": "https://localhost:8080/"
        },
        "id": "u6WYDiOt900q",
        "outputId": "ada83863-563e-43bb-fafc-5af422b81471"
      },
      "source": [
        "phone = Phone(1200)\n",
        "phone.get_price()"
      ],
      "execution_count": 37,
      "outputs": [
        {
          "output_type": "stream",
          "text": [
            "getting...\n"
          ],
          "name": "stdout"
        },
        {
          "output_type": "execute_result",
          "data": {
            "text/plain": [
              "1200"
            ]
          },
          "metadata": {
            "tags": []
          },
          "execution_count": 37
        }
      ]
    },
    {
      "cell_type": "code",
      "metadata": {
        "id": "YQgSVq3c9-0k"
      },
      "source": [
        "class Phone:\n",
        "  def __init__(self, price):\n",
        "    self._price = price\n",
        "\n",
        "  def get_price(self):\n",
        "    print('getting...')\n",
        "    return self._price\n",
        "  price = property(fget = get_price) # pozwala wykorzystywać notację kropkową"
      ],
      "execution_count": 42,
      "outputs": []
    },
    {
      "cell_type": "code",
      "metadata": {
        "colab": {
          "base_uri": "https://localhost:8080/"
        },
        "id": "nrANzeeb-R6n",
        "outputId": "cd8e562d-03e3-464b-9dfd-31de8c0ef623"
      },
      "source": [
        "Phone.__dict__"
      ],
      "execution_count": 43,
      "outputs": [
        {
          "output_type": "execute_result",
          "data": {
            "text/plain": [
              "mappingproxy({'__dict__': <attribute '__dict__' of 'Phone' objects>,\n",
              "              '__doc__': None,\n",
              "              '__init__': <function __main__.Phone.__init__>,\n",
              "              '__module__': '__main__',\n",
              "              '__weakref__': <attribute '__weakref__' of 'Phone' objects>,\n",
              "              'get_price': <function __main__.Phone.get_price>,\n",
              "              'price': <property at 0x7fd7a7ef76d8>})"
            ]
          },
          "metadata": {
            "tags": []
          },
          "execution_count": 43
        }
      ]
    },
    {
      "cell_type": "code",
      "metadata": {
        "id": "cHpxN3Vj-XL4"
      },
      "source": [
        "phone = Phone(1000)"
      ],
      "execution_count": 45,
      "outputs": []
    },
    {
      "cell_type": "code",
      "metadata": {
        "colab": {
          "base_uri": "https://localhost:8080/"
        },
        "id": "olIPPYuw-dfJ",
        "outputId": "99cac961-1ae9-4cdd-b0ae-91ace7cd87da"
      },
      "source": [
        "phone.price"
      ],
      "execution_count": 46,
      "outputs": [
        {
          "output_type": "stream",
          "text": [
            "getting...\n"
          ],
          "name": "stdout"
        },
        {
          "output_type": "execute_result",
          "data": {
            "text/plain": [
              "1000"
            ]
          },
          "metadata": {
            "tags": []
          },
          "execution_count": 46
        }
      ]
    },
    {
      "cell_type": "code",
      "metadata": {
        "id": "saViceuA-nqc"
      },
      "source": [
        "class Phone:\n",
        "  def __init__(self, price):\n",
        "    self._price = price\n",
        "\n",
        "  def get_price(self):\n",
        "    print('getting...')\n",
        "    return self._price\n",
        "\n",
        "  def set_price(self, value):\n",
        "    if isinstance(value, (int, float)):\n",
        "      if value > 0:\n",
        "        self._price = value\n",
        "      else: \n",
        "        raise ValueError('The price attribute must be greater or equal 0')\n",
        "    else:\n",
        "      raise TypeError('The price attribute must be int or float value.')\n",
        "\n",
        "  price = property(fget = get_price, fset = set_price) # pozwala wykorzystywać notację kropkową, fset pozwoli nam modyfikować atrybut _price"
      ],
      "execution_count": 47,
      "outputs": []
    },
    {
      "cell_type": "code",
      "metadata": {
        "id": "eBUq8v6O_QkC"
      },
      "source": [
        "phone = Phone(2500)"
      ],
      "execution_count": 48,
      "outputs": []
    },
    {
      "cell_type": "code",
      "metadata": {
        "colab": {
          "base_uri": "https://localhost:8080/"
        },
        "id": "uENMHoql_SjU",
        "outputId": "bc86f36f-4018-406d-fb1f-9165935ae36d"
      },
      "source": [
        "phone.price"
      ],
      "execution_count": 49,
      "outputs": [
        {
          "output_type": "stream",
          "text": [
            "getting...\n"
          ],
          "name": "stdout"
        },
        {
          "output_type": "execute_result",
          "data": {
            "text/plain": [
              "2500"
            ]
          },
          "metadata": {
            "tags": []
          },
          "execution_count": 49
        }
      ]
    },
    {
      "cell_type": "code",
      "metadata": {
        "id": "VOPwfsJY_Uu6"
      },
      "source": [
        "phone.price = 3000"
      ],
      "execution_count": 50,
      "outputs": []
    },
    {
      "cell_type": "code",
      "metadata": {
        "colab": {
          "base_uri": "https://localhost:8080/"
        },
        "id": "7M7ByYEV_WvM",
        "outputId": "a9e62071-8d67-4b29-9ce2-6f9967288b74"
      },
      "source": [
        "phone.price"
      ],
      "execution_count": 51,
      "outputs": [
        {
          "output_type": "stream",
          "text": [
            "getting...\n"
          ],
          "name": "stdout"
        },
        {
          "output_type": "execute_result",
          "data": {
            "text/plain": [
              "3000"
            ]
          },
          "metadata": {
            "tags": []
          },
          "execution_count": 51
        }
      ]
    },
    {
      "cell_type": "code",
      "metadata": {
        "id": "D7A7r5Nm_Y0x"
      },
      "source": [
        "class Phone:\n",
        "  def __init__(self, price):\n",
        "    self._price = price\n",
        "\n",
        "  def get_price(self):\n",
        "    print('getting...')\n",
        "    return self._price\n",
        "\n",
        "  def set_price(self, value):\n",
        "    print('setting...')\n",
        "    if isinstance(value, (int, float)):\n",
        "      if value > 0:\n",
        "        self._price = value\n",
        "      else: \n",
        "        raise ValueError('The price attribute must be greater or equal 0')\n",
        "    else:\n",
        "      raise TypeError('The price attribute must be int or float value.')\n",
        "  def del_price(self):\n",
        "    print('deleting...')\n",
        "    del self._price\n",
        "\n",
        "  price = property(fget = get_price, fset = set_price, fdel = del_price) # pozwala wykorzystywać notację kropkową, \n",
        "                                                                         # fset pozwoli nam modyfikować atrybut _price,\n",
        "                                                                         # fdel pozwoli nam usuwać atrybut _price"
      ],
      "execution_count": 52,
      "outputs": []
    },
    {
      "cell_type": "code",
      "metadata": {
        "colab": {
          "base_uri": "https://localhost:8080/"
        },
        "id": "TjIrtoFAAR6L",
        "outputId": "c0dce7e8-927a-455d-c358-136d5e8b54ac"
      },
      "source": [
        "phone = Phone(10000)\n",
        "phone.price"
      ],
      "execution_count": 53,
      "outputs": [
        {
          "output_type": "stream",
          "text": [
            "getting...\n"
          ],
          "name": "stdout"
        },
        {
          "output_type": "execute_result",
          "data": {
            "text/plain": [
              "10000"
            ]
          },
          "metadata": {
            "tags": []
          },
          "execution_count": 53
        }
      ]
    },
    {
      "cell_type": "code",
      "metadata": {
        "colab": {
          "base_uri": "https://localhost:8080/"
        },
        "id": "Y7aC_kqHAUX7",
        "outputId": "021ac83c-8bc7-496f-8f36-84dc674166de"
      },
      "source": [
        "del phone.price"
      ],
      "execution_count": 54,
      "outputs": [
        {
          "output_type": "stream",
          "text": [
            "deleting...\n"
          ],
          "name": "stdout"
        }
      ]
    },
    {
      "cell_type": "code",
      "metadata": {
        "colab": {
          "base_uri": "https://localhost:8080/",
          "height": 296
        },
        "id": "8COfZClTAWGv",
        "outputId": "d9d45dd8-b60f-47c3-a1fa-324bd9d901f4"
      },
      "source": [
        "phone.price"
      ],
      "execution_count": 55,
      "outputs": [
        {
          "output_type": "stream",
          "text": [
            "getting...\n"
          ],
          "name": "stdout"
        },
        {
          "output_type": "error",
          "ename": "AttributeError",
          "evalue": "ignored",
          "traceback": [
            "\u001b[0;31m---------------------------------------------------------------------------\u001b[0m",
            "\u001b[0;31mAttributeError\u001b[0m                            Traceback (most recent call last)",
            "\u001b[0;32m<ipython-input-55-12d2c38d518b>\u001b[0m in \u001b[0;36m<module>\u001b[0;34m()\u001b[0m\n\u001b[0;32m----> 1\u001b[0;31m \u001b[0mphone\u001b[0m\u001b[0;34m.\u001b[0m\u001b[0mprice\u001b[0m\u001b[0;34m\u001b[0m\u001b[0;34m\u001b[0m\u001b[0m\n\u001b[0m",
            "\u001b[0;32m<ipython-input-52-ebce5c549178>\u001b[0m in \u001b[0;36mget_price\u001b[0;34m(self)\u001b[0m\n\u001b[1;32m      5\u001b[0m   \u001b[0;32mdef\u001b[0m \u001b[0mget_price\u001b[0m\u001b[0;34m(\u001b[0m\u001b[0mself\u001b[0m\u001b[0;34m)\u001b[0m\u001b[0;34m:\u001b[0m\u001b[0;34m\u001b[0m\u001b[0;34m\u001b[0m\u001b[0m\n\u001b[1;32m      6\u001b[0m     \u001b[0mprint\u001b[0m\u001b[0;34m(\u001b[0m\u001b[0;34m'getting...'\u001b[0m\u001b[0;34m)\u001b[0m\u001b[0;34m\u001b[0m\u001b[0;34m\u001b[0m\u001b[0m\n\u001b[0;32m----> 7\u001b[0;31m     \u001b[0;32mreturn\u001b[0m \u001b[0mself\u001b[0m\u001b[0;34m.\u001b[0m\u001b[0m_price\u001b[0m\u001b[0;34m\u001b[0m\u001b[0;34m\u001b[0m\u001b[0m\n\u001b[0m\u001b[1;32m      8\u001b[0m \u001b[0;34m\u001b[0m\u001b[0m\n\u001b[1;32m      9\u001b[0m   \u001b[0;32mdef\u001b[0m \u001b[0mset_price\u001b[0m\u001b[0;34m(\u001b[0m\u001b[0mself\u001b[0m\u001b[0;34m,\u001b[0m \u001b[0mvalue\u001b[0m\u001b[0;34m)\u001b[0m\u001b[0;34m:\u001b[0m\u001b[0;34m\u001b[0m\u001b[0;34m\u001b[0m\u001b[0m\n",
            "\u001b[0;31mAttributeError\u001b[0m: 'Phone' object has no attribute '_price'"
          ]
        }
      ]
    },
    {
      "cell_type": "code",
      "metadata": {
        "colab": {
          "base_uri": "https://localhost:8080/"
        },
        "id": "S43zFd7zAXhK",
        "outputId": "0713c602-9ac3-4de2-9d87-81104b80d72e"
      },
      "source": [
        "phone.price = 10000"
      ],
      "execution_count": 56,
      "outputs": [
        {
          "output_type": "stream",
          "text": [
            "setting...\n"
          ],
          "name": "stdout"
        }
      ]
    },
    {
      "cell_type": "code",
      "metadata": {
        "colab": {
          "base_uri": "https://localhost:8080/"
        },
        "id": "ObPOC9cvAi4y",
        "outputId": "1a4299dd-c65c-4845-a7cb-4d61a3464857"
      },
      "source": [
        "phone.price"
      ],
      "execution_count": 57,
      "outputs": [
        {
          "output_type": "stream",
          "text": [
            "getting...\n"
          ],
          "name": "stdout"
        },
        {
          "output_type": "execute_result",
          "data": {
            "text/plain": [
              "10000"
            ]
          },
          "metadata": {
            "tags": []
          },
          "execution_count": 57
        }
      ]
    },
    {
      "cell_type": "code",
      "metadata": {
        "id": "eWuTgHC1AkK-"
      },
      "source": [
        "class Phone:\n",
        "  \"\"\" Phone class doc.\"\"\"\n",
        "  def __init__(self, price):\n",
        "    self._price = price\n",
        "\n",
        "  def get_price(self):\n",
        "    print('getting...')\n",
        "    return self._price\n",
        "\n",
        "  def set_price(self, value):\n",
        "    print('setting...')\n",
        "    if isinstance(value, (int, float)):\n",
        "      if value > 0:\n",
        "        self._price = value\n",
        "      else: \n",
        "        raise ValueError('The price attribute must be greater or equal 0')\n",
        "    else:\n",
        "      raise TypeError('The price attribute must be int or float value.')\n",
        "  def del_price(self):\n",
        "    print('deleting...')\n",
        "    del self._price\n",
        "\n",
        "  price = property(fget = get_price, fset = set_price, fdel = del_price, doc = 'Phone price') # pozwala wykorzystywać notację kropkową, \n",
        "                                                                         # fset pozwoli nam modyfikować atrybut _price,\n",
        "                                                                         # fdel pozwoli nam usuwać atrybut _price"
      ],
      "execution_count": 58,
      "outputs": []
    },
    {
      "cell_type": "code",
      "metadata": {
        "id": "8xAYIa7NAzNU"
      },
      "source": [
        "phone = Phone(25000)"
      ],
      "execution_count": 59,
      "outputs": []
    },
    {
      "cell_type": "markdown",
      "metadata": {
        "id": "0MrO3icNBdm0"
      },
      "source": [
        "# Dekoratory przypomnienie"
      ]
    },
    {
      "cell_type": "code",
      "metadata": {
        "id": "TbdKFlhbA1xW"
      },
      "source": [
        "def hello():\n",
        "  print('Python 3.8')\n",
        "\n",
        "def pretty_print(func):\n",
        "  def wrapper():\n",
        "    print('*' * 30)\n",
        "    func()\n",
        "    print('*' * 30)\n",
        "  return wrapper\n",
        "\n"
      ],
      "execution_count": 66,
      "outputs": []
    },
    {
      "cell_type": "code",
      "metadata": {
        "colab": {
          "base_uri": "https://localhost:8080/"
        },
        "id": "-Eyt9z2LA37L",
        "outputId": "32b4be42-9da1-4259-db70-1fb2c1b1ea55"
      },
      "source": [
        "pretty_print(hello)()"
      ],
      "execution_count": 67,
      "outputs": [
        {
          "output_type": "stream",
          "text": [
            "******************************\n",
            "Python 3.8\n",
            "******************************\n"
          ],
          "name": "stdout"
        }
      ]
    },
    {
      "cell_type": "code",
      "metadata": {
        "colab": {
          "base_uri": "https://localhost:8080/"
        },
        "id": "T7YZ0L4tB3V1",
        "outputId": "d90c37ae-42bd-4421-8efe-d9d9a8f5941f"
      },
      "source": [
        "hello = pretty_print(hello) # dekorowanie funkcji\n",
        "hello()"
      ],
      "execution_count": 69,
      "outputs": [
        {
          "output_type": "stream",
          "text": [
            "******************************\n",
            "******************************\n",
            "Python 3.8\n",
            "******************************\n",
            "******************************\n"
          ],
          "name": "stdout"
        }
      ]
    },
    {
      "cell_type": "code",
      "metadata": {
        "id": "Z5D6J_NTCMiP"
      },
      "source": [
        "def pretty_print(func):\n",
        "  def wrapper():\n",
        "    print('*' * 30)\n",
        "    func()\n",
        "    print('*' * 30)\n",
        "  return wrapper"
      ],
      "execution_count": 70,
      "outputs": []
    },
    {
      "cell_type": "code",
      "metadata": {
        "id": "NXmOm3mTCq00"
      },
      "source": [
        "@pretty_print # dekorujemy fukcję za pomocą @\n",
        "def hello():\n",
        "  print('Python 3.8')\n"
      ],
      "execution_count": 71,
      "outputs": []
    },
    {
      "cell_type": "code",
      "metadata": {
        "colab": {
          "base_uri": "https://localhost:8080/"
        },
        "id": "gWjWXV16Cwfc",
        "outputId": "8e0aa5dc-b34b-4022-a147-135ac9544f9b"
      },
      "source": [
        "hello()"
      ],
      "execution_count": 72,
      "outputs": [
        {
          "output_type": "stream",
          "text": [
            "******************************\n",
            "Python 3.8\n",
            "******************************\n"
          ],
          "name": "stdout"
        }
      ]
    },
    {
      "cell_type": "markdown",
      "metadata": {
        "id": "1KNd0vxxGYmU"
      },
      "source": [
        "# Przykład"
      ]
    },
    {
      "cell_type": "code",
      "metadata": {
        "colab": {
          "base_uri": "https://localhost:8080/"
        },
        "id": "mlF2gmXWC0QZ",
        "outputId": "05b3215d-436d-4a6c-ffc3-cae76eb7d22d"
      },
      "source": [
        "import time\n",
        "\n",
        "time.time()"
      ],
      "execution_count": 73,
      "outputs": [
        {
          "output_type": "execute_result",
          "data": {
            "text/plain": [
              "1606688556.722841"
            ]
          },
          "metadata": {
            "tags": []
          },
          "execution_count": 73
        }
      ]
    },
    {
      "cell_type": "code",
      "metadata": {
        "id": "1M7IKGhoGcl6"
      },
      "source": [
        "time.sleep(2)"
      ],
      "execution_count": 74,
      "outputs": []
    },
    {
      "cell_type": "code",
      "metadata": {
        "id": "iBOI4VNtGehO"
      },
      "source": [
        "def timer(func):\n",
        "  def wrapper(sec):\n",
        "    start = time.time()\n",
        "    func(sec)\n",
        "    stop = time.time()\n",
        "    print(f'Execution time: {stop - start:.4f}')\n",
        "  return wrapper"
      ],
      "execution_count": 86,
      "outputs": []
    },
    {
      "cell_type": "code",
      "metadata": {
        "id": "psQnK8adG0B5"
      },
      "source": [
        "@timer\n",
        "def fake_sleep(sec):\n",
        "  print(f'Executing {fake_sleep.__name__}...')\n",
        "  time.sleep(sec)"
      ],
      "execution_count": 90,
      "outputs": []
    },
    {
      "cell_type": "code",
      "metadata": {
        "colab": {
          "base_uri": "https://localhost:8080/"
        },
        "id": "Pm5mtTQXHIqx",
        "outputId": "e09205cb-4979-470f-fae8-90bc055440c4"
      },
      "source": [
        "fake_sleep(3)"
      ],
      "execution_count": 91,
      "outputs": [
        {
          "output_type": "stream",
          "text": [
            "Executing wrapper...\n",
            "Execution time: 3.0035\n"
          ],
          "name": "stdout"
        }
      ]
    },
    {
      "cell_type": "code",
      "metadata": {
        "id": "WSnVWrv7HdkD"
      },
      "source": [
        "class Phone:\n",
        "  def __init__(self, price):\n",
        "    self._price = price\n",
        "\n",
        "  def get_price(self):\n",
        "    print('getting...')\n",
        "    return self._price\n",
        "  price = property(fget = get_price) # pozwala wykorzystywać notację kropkową"
      ],
      "execution_count": 92,
      "outputs": []
    },
    {
      "cell_type": "code",
      "metadata": {
        "id": "_7iNlsxrIIYy"
      },
      "source": [
        "class Phone:\n",
        "  def __init__(self, price):\n",
        "    self._price = price\n",
        "  @property # ustawiamy sobie dekorator property, w tym przypadku atrybut price\n",
        "  # będzie do odczytu\n",
        "  def price(self):\n",
        "    print('getting...')\n",
        "    return self._price\n",
        "  "
      ],
      "execution_count": 93,
      "outputs": []
    },
    {
      "cell_type": "code",
      "metadata": {
        "colab": {
          "base_uri": "https://localhost:8080/"
        },
        "id": "BsGWlnxaITU6",
        "outputId": "cd0d903e-8151-4c1c-9784-7d3f888e080f"
      },
      "source": [
        "class Phone:\n",
        "\n",
        "  def __init__(self, price):\n",
        "    self._price = price\n",
        "\n",
        "  @property\n",
        "  def price(self):\n",
        "    return self._price\n",
        " \n",
        "  @price.setter\n",
        "  def price(self, value):\n",
        "    if isinstance(value, (int, float)):\n",
        "      if value > 0:\n",
        "        self._price = value\n",
        "      else: \n",
        "        raise ValueError('The price attribute must be greater or equal 0')\n",
        "    else:\n",
        "      raise TypeError('The price attribute must be int or float value.')\n",
        "\n",
        "\n",
        "\n",
        "Phone.__dict__"
      ],
      "execution_count": 104,
      "outputs": [
        {
          "output_type": "execute_result",
          "data": {
            "text/plain": [
              "mappingproxy({'__dict__': <attribute '__dict__' of 'Phone' objects>,\n",
              "              '__doc__': None,\n",
              "              '__init__': <function __main__.Phone.__init__>,\n",
              "              '__module__': '__main__',\n",
              "              '__weakref__': <attribute '__weakref__' of 'Phone' objects>,\n",
              "              'price': <property at 0x7fd7a7ec4e08>})"
            ]
          },
          "metadata": {
            "tags": []
          },
          "execution_count": 104
        }
      ]
    },
    {
      "cell_type": "code",
      "metadata": {
        "id": "Z0dqS69pJEGt"
      },
      "source": [
        "phone1 = Phone(1000)\n"
      ],
      "execution_count": 105,
      "outputs": []
    },
    {
      "cell_type": "code",
      "metadata": {
        "colab": {
          "base_uri": "https://localhost:8080/"
        },
        "id": "1bCcyNBUJNwl",
        "outputId": "3b97a3e8-dadb-42a9-b36c-6dca65535e32"
      },
      "source": [
        "phone1.price"
      ],
      "execution_count": 106,
      "outputs": [
        {
          "output_type": "execute_result",
          "data": {
            "text/plain": [
              "1000"
            ]
          },
          "metadata": {
            "tags": []
          },
          "execution_count": 106
        }
      ]
    },
    {
      "cell_type": "code",
      "metadata": {
        "colab": {
          "base_uri": "https://localhost:8080/",
          "height": 279
        },
        "id": "tPecW-6cJvbm",
        "outputId": "7c537410-cdde-4664-c958-435df8764cff"
      },
      "source": [
        "phone1.price = -100"
      ],
      "execution_count": 107,
      "outputs": [
        {
          "output_type": "error",
          "ename": "ValueError",
          "evalue": "ignored",
          "traceback": [
            "\u001b[0;31m---------------------------------------------------------------------------\u001b[0m",
            "\u001b[0;31mValueError\u001b[0m                                Traceback (most recent call last)",
            "\u001b[0;32m<ipython-input-107-4476564398d4>\u001b[0m in \u001b[0;36m<module>\u001b[0;34m()\u001b[0m\n\u001b[0;32m----> 1\u001b[0;31m \u001b[0mphone1\u001b[0m\u001b[0;34m.\u001b[0m\u001b[0mprice\u001b[0m \u001b[0;34m=\u001b[0m \u001b[0;34m-\u001b[0m\u001b[0;36m100\u001b[0m\u001b[0;34m\u001b[0m\u001b[0;34m\u001b[0m\u001b[0m\n\u001b[0m",
            "\u001b[0;32m<ipython-input-104-338a44ec0495>\u001b[0m in \u001b[0;36mprice\u001b[0;34m(self, value)\u001b[0m\n\u001b[1;32m     14\u001b[0m         \u001b[0mself\u001b[0m\u001b[0;34m.\u001b[0m\u001b[0m_price\u001b[0m \u001b[0;34m=\u001b[0m \u001b[0mvalue\u001b[0m\u001b[0;34m\u001b[0m\u001b[0;34m\u001b[0m\u001b[0m\n\u001b[1;32m     15\u001b[0m       \u001b[0;32melse\u001b[0m\u001b[0;34m:\u001b[0m\u001b[0;34m\u001b[0m\u001b[0;34m\u001b[0m\u001b[0m\n\u001b[0;32m---> 16\u001b[0;31m         \u001b[0;32mraise\u001b[0m \u001b[0mValueError\u001b[0m\u001b[0;34m(\u001b[0m\u001b[0;34m'The price attribute must be greater or equal 0'\u001b[0m\u001b[0;34m)\u001b[0m\u001b[0;34m\u001b[0m\u001b[0;34m\u001b[0m\u001b[0m\n\u001b[0m\u001b[1;32m     17\u001b[0m     \u001b[0;32melse\u001b[0m\u001b[0;34m:\u001b[0m\u001b[0;34m\u001b[0m\u001b[0;34m\u001b[0m\u001b[0m\n\u001b[1;32m     18\u001b[0m       \u001b[0;32mraise\u001b[0m \u001b[0mTypeError\u001b[0m\u001b[0;34m(\u001b[0m\u001b[0;34m'The price attribute must be int or float value.'\u001b[0m\u001b[0;34m)\u001b[0m\u001b[0;34m\u001b[0m\u001b[0;34m\u001b[0m\u001b[0m\n",
            "\u001b[0;31mValueError\u001b[0m: The price attribute must be greater or equal 0"
          ]
        }
      ]
    },
    {
      "cell_type": "code",
      "metadata": {
        "id": "es_YmGfbJw68"
      },
      "source": [
        "class Phone:\n",
        "\n",
        "  def __init__(self, price):\n",
        "    self.price = price # property sprawi że i tak to bedzie chronione\n",
        "\n",
        "  @property\n",
        "  def price(self):\n",
        "    return self._price\n",
        " \n",
        "  @price.setter\n",
        "  def price(self, value):\n",
        "    if isinstance(value, (int, float)):\n",
        "      if value > 0:\n",
        "        self._price = value\n",
        "      else: \n",
        "        raise ValueError('The price attribute must be greater or equal 0')\n",
        "    else:\n",
        "      raise TypeError('The price attribute must be int or float value.')\n",
        "  @price.deleter\n",
        "  def price(self):\n",
        "    print('Deleting....')\n",
        "    del self._price\n"
      ],
      "execution_count": 112,
      "outputs": []
    },
    {
      "cell_type": "code",
      "metadata": {
        "colab": {
          "base_uri": "https://localhost:8080/"
        },
        "id": "rsMRiiWwQ2cm",
        "outputId": "35220c58-658a-4cba-9d6e-40ab102161ff"
      },
      "source": [
        "phone = Phone(1000)\n",
        "phone.price"
      ],
      "execution_count": 113,
      "outputs": [
        {
          "output_type": "execute_result",
          "data": {
            "text/plain": [
              "1000"
            ]
          },
          "metadata": {
            "tags": []
          },
          "execution_count": 113
        }
      ]
    },
    {
      "cell_type": "code",
      "metadata": {
        "colab": {
          "base_uri": "https://localhost:8080/"
        },
        "id": "hGFgbDQIQ5wL",
        "outputId": "2205c3f3-0b4e-4f31-8f53-b25791fee05a"
      },
      "source": [
        "del phone.price"
      ],
      "execution_count": 114,
      "outputs": [
        {
          "output_type": "stream",
          "text": [
            "Deleting....\n"
          ],
          "name": "stdout"
        }
      ]
    },
    {
      "cell_type": "code",
      "metadata": {
        "colab": {
          "base_uri": "https://localhost:8080/",
          "height": 279
        },
        "id": "QjrzRx6MQ7O6",
        "outputId": "0678c688-9480-42aa-ba38-d32b3933c928"
      },
      "source": [
        "phone.price"
      ],
      "execution_count": 115,
      "outputs": [
        {
          "output_type": "error",
          "ename": "AttributeError",
          "evalue": "ignored",
          "traceback": [
            "\u001b[0;31m---------------------------------------------------------------------------\u001b[0m",
            "\u001b[0;31mAttributeError\u001b[0m                            Traceback (most recent call last)",
            "\u001b[0;32m<ipython-input-115-12d2c38d518b>\u001b[0m in \u001b[0;36m<module>\u001b[0;34m()\u001b[0m\n\u001b[0;32m----> 1\u001b[0;31m \u001b[0mphone\u001b[0m\u001b[0;34m.\u001b[0m\u001b[0mprice\u001b[0m\u001b[0;34m\u001b[0m\u001b[0;34m\u001b[0m\u001b[0m\n\u001b[0m",
            "\u001b[0;32m<ipython-input-112-ef4ed425033a>\u001b[0m in \u001b[0;36mprice\u001b[0;34m(self)\u001b[0m\n\u001b[1;32m      6\u001b[0m   \u001b[0;34m@\u001b[0m\u001b[0mproperty\u001b[0m\u001b[0;34m\u001b[0m\u001b[0;34m\u001b[0m\u001b[0m\n\u001b[1;32m      7\u001b[0m   \u001b[0;32mdef\u001b[0m \u001b[0mprice\u001b[0m\u001b[0;34m(\u001b[0m\u001b[0mself\u001b[0m\u001b[0;34m)\u001b[0m\u001b[0;34m:\u001b[0m\u001b[0;34m\u001b[0m\u001b[0;34m\u001b[0m\u001b[0m\n\u001b[0;32m----> 8\u001b[0;31m     \u001b[0;32mreturn\u001b[0m \u001b[0mself\u001b[0m\u001b[0;34m.\u001b[0m\u001b[0m_price\u001b[0m\u001b[0;34m\u001b[0m\u001b[0;34m\u001b[0m\u001b[0m\n\u001b[0m\u001b[1;32m      9\u001b[0m \u001b[0;34m\u001b[0m\u001b[0m\n\u001b[1;32m     10\u001b[0m   \u001b[0;34m@\u001b[0m\u001b[0mprice\u001b[0m\u001b[0;34m.\u001b[0m\u001b[0msetter\u001b[0m\u001b[0;34m\u001b[0m\u001b[0;34m\u001b[0m\u001b[0m\n",
            "\u001b[0;31mAttributeError\u001b[0m: 'Phone' object has no attribute '_price'"
          ]
        }
      ]
    },
    {
      "cell_type": "code",
      "metadata": {
        "colab": {
          "base_uri": "https://localhost:8080/",
          "height": 279
        },
        "id": "tSn3ntqHQ8mA",
        "outputId": "6a9334b9-9aa1-4802-a178-bb5077f1dab4"
      },
      "source": [
        "phone.price = -1000"
      ],
      "execution_count": 116,
      "outputs": [
        {
          "output_type": "error",
          "ename": "ValueError",
          "evalue": "ignored",
          "traceback": [
            "\u001b[0;31m---------------------------------------------------------------------------\u001b[0m",
            "\u001b[0;31mValueError\u001b[0m                                Traceback (most recent call last)",
            "\u001b[0;32m<ipython-input-116-ec9b03d0e316>\u001b[0m in \u001b[0;36m<module>\u001b[0;34m()\u001b[0m\n\u001b[0;32m----> 1\u001b[0;31m \u001b[0mphone\u001b[0m\u001b[0;34m.\u001b[0m\u001b[0mprice\u001b[0m \u001b[0;34m=\u001b[0m \u001b[0;34m-\u001b[0m\u001b[0;36m1000\u001b[0m\u001b[0;34m\u001b[0m\u001b[0;34m\u001b[0m\u001b[0m\n\u001b[0m",
            "\u001b[0;32m<ipython-input-112-ef4ed425033a>\u001b[0m in \u001b[0;36mprice\u001b[0;34m(self, value)\u001b[0m\n\u001b[1;32m     14\u001b[0m         \u001b[0mself\u001b[0m\u001b[0;34m.\u001b[0m\u001b[0m_price\u001b[0m \u001b[0;34m=\u001b[0m \u001b[0mvalue\u001b[0m\u001b[0;34m\u001b[0m\u001b[0;34m\u001b[0m\u001b[0m\n\u001b[1;32m     15\u001b[0m       \u001b[0;32melse\u001b[0m\u001b[0;34m:\u001b[0m\u001b[0;34m\u001b[0m\u001b[0;34m\u001b[0m\u001b[0m\n\u001b[0;32m---> 16\u001b[0;31m         \u001b[0;32mraise\u001b[0m \u001b[0mValueError\u001b[0m\u001b[0;34m(\u001b[0m\u001b[0;34m'The price attribute must be greater or equal 0'\u001b[0m\u001b[0;34m)\u001b[0m\u001b[0;34m\u001b[0m\u001b[0;34m\u001b[0m\u001b[0m\n\u001b[0m\u001b[1;32m     17\u001b[0m     \u001b[0;32melse\u001b[0m\u001b[0;34m:\u001b[0m\u001b[0;34m\u001b[0m\u001b[0;34m\u001b[0m\u001b[0m\n\u001b[1;32m     18\u001b[0m       \u001b[0;32mraise\u001b[0m \u001b[0mTypeError\u001b[0m\u001b[0;34m(\u001b[0m\u001b[0;34m'The price attribute must be int or float value.'\u001b[0m\u001b[0;34m)\u001b[0m\u001b[0;34m\u001b[0m\u001b[0;34m\u001b[0m\u001b[0m\n",
            "\u001b[0;31mValueError\u001b[0m: The price attribute must be greater or equal 0"
          ]
        }
      ]
    },
    {
      "cell_type": "markdown",
      "metadata": {
        "id": "jUWcfvp2RtdV"
      },
      "source": [
        "# Przykład \n"
      ]
    },
    {
      "cell_type": "code",
      "metadata": {
        "id": "g9agwGzjRgSa"
      },
      "source": [
        "class Games:\n",
        "  \n",
        "  def __init__(self,level = 0):\n",
        "    self.level = level\n",
        "  @property\n",
        "  def level(self):\n",
        "    return self._level\n",
        "  @level.setter\n",
        "  def level(self, value):\n",
        "    if value < 0:\n",
        "      self._level = 0\n",
        "    elif value > 100:\n",
        "      self._level = 100\n",
        "    else:\n",
        "      self._level = value "
      ],
      "execution_count": 119,
      "outputs": []
    },
    {
      "cell_type": "code",
      "metadata": {
        "id": "sJ22-_UzSDoq"
      },
      "source": [
        "games = [Games(), Games(-10), Games(23), Games(120)]"
      ],
      "execution_count": 120,
      "outputs": []
    },
    {
      "cell_type": "code",
      "metadata": {
        "colab": {
          "base_uri": "https://localhost:8080/"
        },
        "id": "VmnxjBdNSvMD",
        "outputId": "d9103d4c-9a40-4468-d595-6e68c39a8acf"
      },
      "source": [
        "games"
      ],
      "execution_count": 121,
      "outputs": [
        {
          "output_type": "execute_result",
          "data": {
            "text/plain": [
              "[<__main__.Games at 0x7fd7a01b9860>,\n",
              " <__main__.Games at 0x7fd7a01b9400>,\n",
              " <__main__.Games at 0x7fd7a01b99e8>,\n",
              " <__main__.Games at 0x7fd7a01b95f8>]"
            ]
          },
          "metadata": {
            "tags": []
          },
          "execution_count": 121
        }
      ]
    },
    {
      "cell_type": "code",
      "metadata": {
        "colab": {
          "base_uri": "https://localhost:8080/"
        },
        "id": "nfzHuBgWSyzi",
        "outputId": "bb659161-ee5f-480b-a972-d5b05c17e76e"
      },
      "source": [
        "[game.level for game in games]"
      ],
      "execution_count": 122,
      "outputs": [
        {
          "output_type": "execute_result",
          "data": {
            "text/plain": [
              "[0, 0, 23, 100]"
            ]
          },
          "metadata": {
            "tags": []
          },
          "execution_count": 122
        }
      ]
    },
    {
      "cell_type": "code",
      "metadata": {
        "colab": {
          "base_uri": "https://localhost:8080/"
        },
        "id": "PX8yGhYvS4En",
        "outputId": "89bf993f-7f06-4c7e-bed7-33e194e06fca"
      },
      "source": [
        "class Smartphone:\n",
        "    \n",
        "    def __init__(self, price):\n",
        "        self._price = price\n",
        "        \n",
        "    def get_price(self):\n",
        "        return self._price\n",
        "        \n",
        "    def set_price(self, value):\n",
        "        self._price = value\n",
        "        \n",
        "smartphone = Smartphone(3499)\n",
        "print(smartphone.get_price())\n",
        "smartphone.set_price(3999)\n",
        "print(smartphone.get_price())"
      ],
      "execution_count": 124,
      "outputs": [
        {
          "output_type": "stream",
          "text": [
            "3499\n",
            "3999\n"
          ],
          "name": "stdout"
        }
      ]
    },
    {
      "cell_type": "code",
      "metadata": {
        "colab": {
          "base_uri": "https://localhost:8080/"
        },
        "id": "3fZb15SiTxRa",
        "outputId": "28924089-f670-4751-d845-409ff7cd2f18"
      },
      "source": [
        "class Worker:\n",
        "    \n",
        "    def __init__(self, first_name, last_name):\n",
        "        self._first_name = first_name\n",
        "        self._last_name = last_name \n",
        "    \n",
        "    def get_first_name(self):\n",
        "        return self._first_name\n",
        "       \n",
        "    def get_last_name(self):\n",
        "        return self._last_name\n",
        "\n",
        "    first_name = property(fget = get_first_name)\n",
        "    last_name = property(fget = get_last_name)\n",
        "    \n",
        "worker = Worker('John', 'Dow')\n",
        "print(worker.first_name)\n",
        "print(worker.last_name)\n",
        "        "
      ],
      "execution_count": 132,
      "outputs": [
        {
          "output_type": "stream",
          "text": [
            "John\n",
            "Dow\n"
          ],
          "name": "stdout"
        }
      ]
    },
    {
      "cell_type": "code",
      "metadata": {
        "id": "R7_k2ELaVITX"
      },
      "source": [
        "class Pet:\n",
        "    def __init__(self, name):\n",
        "        self._name = name\n",
        "    @property    \n",
        "    def name(self):\n",
        "        return self._name\n",
        "    @name.setter \n",
        "    def name(self, value):\n",
        "      self._name = value\n",
        "    "
      ],
      "execution_count": 134,
      "outputs": []
    },
    {
      "cell_type": "code",
      "metadata": {
        "id": "nhnB0CEhVL0S"
      },
      "source": [
        "pet = Pet('Max')\n",
        "pet.name = 'Oscar'\n",
        "print(pet.__dict__)"
      ],
      "execution_count": 135,
      "outputs": []
    }
  ]
}