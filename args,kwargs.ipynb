{
  "nbformat": 4,
  "nbformat_minor": 0,
  "metadata": {
    "colab": {
      "name": "Untitled78.ipynb",
      "provenance": [],
      "authorship_tag": "ABX9TyOlyy3XWOwfsJhTUoI79zxb",
      "include_colab_link": true
    },
    "kernelspec": {
      "name": "python3",
      "display_name": "Python 3"
    }
  },
  "cells": [
    {
      "cell_type": "markdown",
      "metadata": {
        "id": "view-in-github",
        "colab_type": "text"
      },
      "source": [
        "<a href=\"https://colab.research.google.com/github/pawel0508/OOP/blob/main/args%2Ckwargs.ipynb\" target=\"_parent\"><img src=\"https://colab.research.google.com/assets/colab-badge.svg\" alt=\"Open In Colab\"/></a>"
      ]
    },
    {
      "cell_type": "code",
      "metadata": {
        "id": "KDrOahq7pXMX"
      },
      "source": [
        "def sample(*args): # w tym przypadku funkcja przyjmuje gołe argumenty (bez nazw)\n",
        "                   # * - oznacza gołe argumenty\n",
        "                   # ** - oznacza argumenty z nazwą\n",
        "  print(len(args))\n",
        "  print(args)"
      ],
      "execution_count": 1,
      "outputs": []
    },
    {
      "cell_type": "code",
      "metadata": {
        "colab": {
          "base_uri": "https://localhost:8080/"
        },
        "id": "9gPoJsrKpg1K",
        "outputId": "0c6a1beb-dce8-4c4a-af72-77989897cc25"
      },
      "source": [
        "sample()\n"
      ],
      "execution_count": 2,
      "outputs": [
        {
          "output_type": "stream",
          "text": [
            "0\n",
            "()\n"
          ],
          "name": "stdout"
        }
      ]
    },
    {
      "cell_type": "code",
      "metadata": {
        "colab": {
          "base_uri": "https://localhost:8080/"
        },
        "id": "rH-FkfJmphjb",
        "outputId": "c6937d03-b17f-4dde-d6c1-9399b8e73fed"
      },
      "source": [
        "sample(3)"
      ],
      "execution_count": 3,
      "outputs": [
        {
          "output_type": "stream",
          "text": [
            "1\n",
            "(3,)\n"
          ],
          "name": "stdout"
        }
      ]
    },
    {
      "cell_type": "code",
      "metadata": {
        "colab": {
          "base_uri": "https://localhost:8080/"
        },
        "id": "ejtEDT0upl4y",
        "outputId": "e8399552-8092-4316-c6aa-7731c06c48eb"
      },
      "source": [
        "sample(3, 'a')"
      ],
      "execution_count": 4,
      "outputs": [
        {
          "output_type": "stream",
          "text": [
            "2\n",
            "(3, 'a')\n"
          ],
          "name": "stdout"
        }
      ]
    },
    {
      "cell_type": "code",
      "metadata": {
        "colab": {
          "base_uri": "https://localhost:8080/"
        },
        "id": "C5NxH1ILppgp",
        "outputId": "534b5cec-7f39-4401-f7df-f131e6e4cdcf"
      },
      "source": [
        "sample(3, 'a', False)"
      ],
      "execution_count": 5,
      "outputs": [
        {
          "output_type": "stream",
          "text": [
            "3\n",
            "(3, 'a', False)\n"
          ],
          "name": "stdout"
        }
      ]
    },
    {
      "cell_type": "code",
      "metadata": {
        "id": "foMJKJmfpswh"
      },
      "source": [
        "def sample(*x):\n",
        "  print(len(x))\n",
        "  print(x)"
      ],
      "execution_count": 6,
      "outputs": []
    },
    {
      "cell_type": "code",
      "metadata": {
        "colab": {
          "base_uri": "https://localhost:8080/",
          "height": 35
        },
        "id": "jgjpi1RDpy9H",
        "outputId": "f74a5433-4837-41c7-93e2-f6af4a6e333f"
      },
      "source": [
        "def stick(*args):\n",
        "  results = ''\n",
        "  for arg in args:\n",
        "    results += str(arg)\n",
        "  return results\n",
        "\n",
        "stick(4,2)\n"
      ],
      "execution_count": 8,
      "outputs": [
        {
          "output_type": "execute_result",
          "data": {
            "application/vnd.google.colaboratory.intrinsic+json": {
              "type": "string"
            },
            "text/plain": [
              "'42'"
            ]
          },
          "metadata": {
            "tags": []
          },
          "execution_count": 8
        }
      ]
    },
    {
      "cell_type": "code",
      "metadata": {
        "colab": {
          "base_uri": "https://localhost:8080/",
          "height": 35
        },
        "id": "2XscfAkhqNg2",
        "outputId": "439bfb85-cb06-4fe3-e7c7-5d900d70c31b"
      },
      "source": [
        "stick('Python', ' ', '3.8')"
      ],
      "execution_count": 9,
      "outputs": [
        {
          "output_type": "execute_result",
          "data": {
            "application/vnd.google.colaboratory.intrinsic+json": {
              "type": "string"
            },
            "text/plain": [
              "'Python 3.8'"
            ]
          },
          "metadata": {
            "tags": []
          },
          "execution_count": 9
        }
      ]
    },
    {
      "cell_type": "code",
      "metadata": {
        "colab": {
          "base_uri": "https://localhost:8080/"
        },
        "id": "03KUhnVBqXuv",
        "outputId": "25b44439-aae7-49a4-8473-21eec25cc4a9"
      },
      "source": [
        "def sample(**kwargs): # słowo kwargs nie jest zobowiązujące! (tak samo jak args!)\n",
        "  print(len(kwargs))\n",
        "  print(kwargs)\n",
        "sample()"
      ],
      "execution_count": 10,
      "outputs": [
        {
          "output_type": "stream",
          "text": [
            "0\n",
            "{}\n"
          ],
          "name": "stdout"
        }
      ]
    },
    {
      "cell_type": "code",
      "metadata": {
        "colab": {
          "base_uri": "https://localhost:8080/"
        },
        "id": "yy6rv5J2q4tx",
        "outputId": "1e43c7f7-cde3-4c77-9336-63de4b26d800"
      },
      "source": [
        "sample(x = 1, y = 2) # zwróci nam postać słownikową"
      ],
      "execution_count": 12,
      "outputs": [
        {
          "output_type": "stream",
          "text": [
            "2\n",
            "{'x': 1, 'y': 2}\n"
          ],
          "name": "stdout"
        }
      ]
    },
    {
      "cell_type": "code",
      "metadata": {
        "colab": {
          "base_uri": "https://localhost:8080/"
        },
        "id": "JmKAqpEMq9WL",
        "outputId": "d686952b-19d5-4639-910a-568a92eb6f9f"
      },
      "source": [
        "def func(**kwargs):\n",
        "  for item in kwargs.items():\n",
        "    print(item)\n",
        "\n",
        "func(x = 1, y = 2, nazwa = 'stol')\n"
      ],
      "execution_count": 13,
      "outputs": [
        {
          "output_type": "stream",
          "text": [
            "('x', 1)\n",
            "('y', 2)\n",
            "('nazwa', 'stol')\n"
          ],
          "name": "stdout"
        }
      ]
    },
    {
      "cell_type": "code",
      "metadata": {
        "id": "WVE7hQzkrbFk"
      },
      "source": [
        "def hello(**kwargs):\n",
        "  if 'name' in kwargs:\n",
        "    print('Hello', kwargs['name'])\n",
        "  else:\n",
        "    print('Hello')"
      ],
      "execution_count": 21,
      "outputs": []
    },
    {
      "cell_type": "code",
      "metadata": {
        "colab": {
          "base_uri": "https://localhost:8080/"
        },
        "id": "CMhs9hlnr2qd",
        "outputId": "83501071-bf5e-401a-e7ef-d6d211bf4946"
      },
      "source": [
        "hello()"
      ],
      "execution_count": 22,
      "outputs": [
        {
          "output_type": "stream",
          "text": [
            "Hello\n"
          ],
          "name": "stdout"
        }
      ]
    },
    {
      "cell_type": "code",
      "metadata": {
        "colab": {
          "base_uri": "https://localhost:8080/"
        },
        "id": "ieOxO68Pr9zs",
        "outputId": "6c2e3378-0c15-483d-b0e6-9259cb16c059"
      },
      "source": [
        "hello(name = 'John')"
      ],
      "execution_count": 23,
      "outputs": [
        {
          "output_type": "stream",
          "text": [
            "Hello John\n"
          ],
          "name": "stdout"
        }
      ]
    },
    {
      "cell_type": "code",
      "metadata": {
        "id": "oe0LTRUisCvY"
      },
      "source": [
        "def sum_int(**kwargs): \n",
        "  if kwargs:\n",
        "    result = 0\n",
        "    for kwarg in kwargs.values():\n",
        "      if isinstance(kwarg, int):\n",
        "        result += kwarg\n",
        "    return result \n",
        "  return None  \n"
      ],
      "execution_count": 31,
      "outputs": []
    },
    {
      "cell_type": "code",
      "metadata": {
        "colab": {
          "base_uri": "https://localhost:8080/"
        },
        "id": "LK8Js0cLtEmZ",
        "outputId": "66799356-648a-4d72-aee6-e0df55e470f4"
      },
      "source": [
        "sum_int(name = 'John', x = 1, y = 2)"
      ],
      "execution_count": 33,
      "outputs": [
        {
          "output_type": "execute_result",
          "data": {
            "text/plain": [
              "3"
            ]
          },
          "metadata": {
            "tags": []
          },
          "execution_count": 33
        }
      ]
    },
    {
      "cell_type": "code",
      "metadata": {
        "id": "XpJ0lDdRtGpc"
      },
      "source": [
        "def sample(*args, **kwargs):\n",
        "  print(args)\n",
        "  print(kwargs)"
      ],
      "execution_count": 34,
      "outputs": []
    },
    {
      "cell_type": "code",
      "metadata": {
        "colab": {
          "base_uri": "https://localhost:8080/"
        },
        "id": "cdJzE6EVtljh",
        "outputId": "6a3c47b4-94f9-467b-ebd6-6eb3c2aebce6"
      },
      "source": [
        "sample()"
      ],
      "execution_count": 35,
      "outputs": [
        {
          "output_type": "stream",
          "text": [
            "()\n",
            "{}\n"
          ],
          "name": "stdout"
        }
      ]
    },
    {
      "cell_type": "code",
      "metadata": {
        "colab": {
          "base_uri": "https://localhost:8080/"
        },
        "id": "wrETpG-wtnH_",
        "outputId": "849498cc-b7c8-4d10-eefd-707b59eb4af2"
      },
      "source": [
        "sample(3,4,5)"
      ],
      "execution_count": 36,
      "outputs": [
        {
          "output_type": "stream",
          "text": [
            "(3, 4, 5)\n",
            "{}\n"
          ],
          "name": "stdout"
        }
      ]
    },
    {
      "cell_type": "code",
      "metadata": {
        "colab": {
          "base_uri": "https://localhost:8080/"
        },
        "id": "3xgEQ2u8tswK",
        "outputId": "b81cc071-4165-4934-fba7-bb795c59f14d"
      },
      "source": [
        "sample(3,4,5, var1 = 1, var2 = 2)"
      ],
      "execution_count": 37,
      "outputs": [
        {
          "output_type": "stream",
          "text": [
            "(3, 4, 5)\n",
            "{'var1': 1, 'var2': 2}\n"
          ],
          "name": "stdout"
        }
      ]
    },
    {
      "cell_type": "code",
      "metadata": {
        "colab": {
          "base_uri": "https://localhost:8080/"
        },
        "id": "fTT68ku3tvye",
        "outputId": "6f0a0369-1340-4d2a-b141-c8c473d3a9fd"
      },
      "source": [
        "stocks = {'appl' : 'Apple', 'tsla' : 'Tesla'}\n",
        "sample(**stocks) # powyższy słownik możemy rozpakować w funkcji za pomocą dwóch gwiazdek"
      ],
      "execution_count": 38,
      "outputs": [
        {
          "output_type": "stream",
          "text": [
            "()\n",
            "{'appl': 'Apple', 'tsla': 'Tesla'}\n"
          ],
          "name": "stdout"
        }
      ]
    },
    {
      "cell_type": "code",
      "metadata": {
        "colab": {
          "base_uri": "https://localhost:8080/"
        },
        "id": "wt-aJjcKuKY9",
        "outputId": "781a14a2-93ac-4155-ef92-7857cd9acb7c"
      },
      "source": [
        "numbers = (30, 40, 50)\n",
        "sample(*numbers)"
      ],
      "execution_count": 39,
      "outputs": [
        {
          "output_type": "stream",
          "text": [
            "(30, 40, 50)\n",
            "{}\n"
          ],
          "name": "stdout"
        }
      ]
    },
    {
      "cell_type": "code",
      "metadata": {
        "id": "zIylFKNVuata"
      },
      "source": [
        "def stick(*args):\n",
        "    args = [arg for arg in args if isinstance(arg, str)]\n",
        "    result = ','.join(args) # .join() !!!\n",
        "    return result\n",
        " \n",
        "print(stick('sport', 'summer'))\n",
        "print(stick(3, 5, 7))\n",
        "print(stick(False, 'time', True, 'workout', [], 'gym'))\n",
        "    "
      ],
      "execution_count": 55,
      "outputs": []
    },
    {
      "cell_type": "code",
      "metadata": {
        "colab": {
          "base_uri": "https://localhost:8080/",
          "height": 35
        },
        "id": "mEm7otteuwgC",
        "outputId": "90947003-0892-4b7e-e2d7-b2d20505d6d8"
      },
      "source": [
        "stick(1, 2, 3, 'p', 'd', 'e', 'fg', True)"
      ],
      "execution_count": 58,
      "outputs": [
        {
          "output_type": "execute_result",
          "data": {
            "application/vnd.google.colaboratory.intrinsic+json": {
              "type": "string"
            },
            "text/plain": [
              "'p,d,e,fg'"
            ]
          },
          "metadata": {
            "tags": []
          },
          "execution_count": 58
        }
      ]
    },
    {
      "cell_type": "code",
      "metadata": {
        "colab": {
          "base_uri": "https://localhost:8080/"
        },
        "id": "T-6wdDwivJTE",
        "outputId": "c95d8f35-5818-4f97-bc72-4c53ed9d809b"
      },
      "source": [
        "def info(main_tech, **techs):\n",
        "    print(f'Main technology: {main_tech}')\n",
        "    if 'sql' in techs.keys():\n",
        "        print(f'SQL -> {techs[\"sql\"]}')\n",
        "info('python', sql = 'mid')"
      ],
      "execution_count": 59,
      "outputs": [
        {
          "output_type": "stream",
          "text": [
            "Main technology: python\n",
            "SQL -> mid\n"
          ],
          "name": "stdout"
        }
      ]
    },
    {
      "cell_type": "code",
      "metadata": {
        "id": "hML5QM7OyGDU"
      },
      "source": [
        ""
      ],
      "execution_count": null,
      "outputs": []
    }
  ]
}