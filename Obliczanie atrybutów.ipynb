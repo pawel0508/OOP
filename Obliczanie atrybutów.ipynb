{
  "nbformat": 4,
  "nbformat_minor": 0,
  "metadata": {
    "colab": {
      "name": "Untitled84.ipynb",
      "provenance": [],
      "authorship_tag": "ABX9TyMtdOmpHVw5ONmwwZq9G/K7",
      "include_colab_link": true
    },
    "kernelspec": {
      "name": "python3",
      "display_name": "Python 3"
    }
  },
  "cells": [
    {
      "cell_type": "markdown",
      "metadata": {
        "id": "view-in-github",
        "colab_type": "text"
      },
      "source": [
        "<a href=\"https://colab.research.google.com/github/pawel0508/OOP/blob/main/Obliczanie%20atrybut%C3%B3w.ipynb\" target=\"_parent\"><img src=\"https://colab.research.google.com/assets/colab-badge.svg\" alt=\"Open In Colab\"/></a>"
      ]
    },
    {
      "cell_type": "markdown",
      "metadata": {
        "id": "M731F5gVX96i"
      },
      "source": [
        "Obliczanie atrybutów"
      ]
    },
    {
      "cell_type": "code",
      "metadata": {
        "id": "emZWE9c1VyZl"
      },
      "source": [
        "class Model:\n",
        "  def __init__(self, y_true, y_pred):\n",
        "    self.y_true = y_true\n",
        "    self.y_pred = y_pred\n",
        "  def accuracy_score(self):\n",
        "    print(f'Calculating....')\n",
        "    self.accuracy = sum([i==j for i,j in zip(self.y_true, self.y_pred)])/len(self.y_true)\n",
        "    print(f'Model accuracy: {self.accuracy:.4f}')\n",
        "\n",
        "model = Model([0,1,1,0,0,1,1], [1,1,1,0,0,0,1])\n"
      ],
      "execution_count": 1,
      "outputs": []
    },
    {
      "cell_type": "code",
      "metadata": {
        "colab": {
          "base_uri": "https://localhost:8080/"
        },
        "id": "Gy6M5SpgZHuC",
        "outputId": "a5ffec79-5448-4c3a-c113-4e385f36cf67"
      },
      "source": [
        "model.accuracy_score()"
      ],
      "execution_count": 4,
      "outputs": [
        {
          "output_type": "stream",
          "text": [
            "Calculating....\n",
            "Model accuracy: 0.7143\n"
          ],
          "name": "stdout"
        }
      ]
    },
    {
      "cell_type": "code",
      "metadata": {
        "colab": {
          "base_uri": "https://localhost:8080/"
        },
        "id": "uqPEanJjZOpc",
        "outputId": "e689a7c4-e9dc-4e81-ed97-9b1451570597"
      },
      "source": [
        "model.__dict__"
      ],
      "execution_count": 5,
      "outputs": [
        {
          "output_type": "execute_result",
          "data": {
            "text/plain": [
              "{'accuracy': 0.7142857142857143,\n",
              " 'y_pred': [1, 1, 1, 0, 0, 0, 1],\n",
              " 'y_true': [0, 1, 1, 0, 0, 1, 1]}"
            ]
          },
          "metadata": {
            "tags": []
          },
          "execution_count": 5
        }
      ]
    },
    {
      "cell_type": "code",
      "metadata": {
        "id": "nnSTMuV9ZjwR"
      },
      "source": [
        "class Model:\n",
        "  def __init__(self, y_true, y_pred):\n",
        "    self.y_true = y_true\n",
        "    self.y_pred = y_pred\n",
        "  @property # accuracy chcemy aby było atrybutem chronionym\n",
        "  def accuracy(self):\n",
        "    print(f'Calculating....')\n",
        "    self._accuracy = sum([i==j for i,j in zip(self.y_true, self.y_pred)])/len(self.y_true)\n",
        "    print(f'Model accuracy: {self._accuracy:.4f}')\n",
        "\n",
        "model = Model([0,1,1,0,0,1,1], [1,1,1,0,0,0,1])"
      ],
      "execution_count": 10,
      "outputs": []
    },
    {
      "cell_type": "code",
      "metadata": {
        "colab": {
          "base_uri": "https://localhost:8080/"
        },
        "id": "K89Tf-e_ZkbF",
        "outputId": "4dfe1776-07b3-4fb3-bd83-c73f15770b7c"
      },
      "source": [
        "model.__dict__"
      ],
      "execution_count": 13,
      "outputs": [
        {
          "output_type": "execute_result",
          "data": {
            "text/plain": [
              "{'_accuracy': 0.7142857142857143,\n",
              " 'y_pred': [1, 1, 1, 0, 0, 0, 1],\n",
              " 'y_true': [0, 1, 1, 0, 0, 1, 1]}"
            ]
          },
          "metadata": {
            "tags": []
          },
          "execution_count": 13
        }
      ]
    },
    {
      "cell_type": "code",
      "metadata": {
        "colab": {
          "base_uri": "https://localhost:8080/"
        },
        "id": "5EIEypaBaNp5",
        "outputId": "5407c439-55b3-48a2-be4b-29d13d50a37a"
      },
      "source": [
        "model.accuracy # nie można już tutaj nic przypisać "
      ],
      "execution_count": 14,
      "outputs": [
        {
          "output_type": "stream",
          "text": [
            "Calculating....\n",
            "Model accuracy: 0.7143\n"
          ],
          "name": "stdout"
        }
      ]
    },
    {
      "cell_type": "code",
      "metadata": {
        "id": "JNb-OAJAaSuJ"
      },
      "source": [
        "class Model:\n",
        "  def __init__(self, y_true, y_pred):\n",
        "    self.y_true = y_true\n",
        "    self.y_pred = y_pred\n",
        "    self._accuracy = None\n",
        "  @property # accuracy chcemy aby było atrybutem chronionym\n",
        "  def accuracy(self):\n",
        "    if not self.accuracy:\n",
        "      print(f'Calculating....')\n",
        "      self._accuracy = sum([i==j for i,j in zip(self.y_true, self.y_pred)])/len(self.y_true)\n",
        "    print(f'Model accuracy: {self._accuracy:.4f}')\n",
        "\n",
        "model = Model([0,1,1,0,0,1,1], [1,1,1,0,0,0,1])"
      ],
      "execution_count": 16,
      "outputs": []
    },
    {
      "cell_type": "code",
      "metadata": {
        "colab": {
          "base_uri": "https://localhost:8080/"
        },
        "id": "VRlLiKon3TvD",
        "outputId": "de396dd6-8041-42ad-e6c7-713177576515"
      },
      "source": [
        "model.__dict__"
      ],
      "execution_count": 18,
      "outputs": [
        {
          "output_type": "execute_result",
          "data": {
            "text/plain": [
              "{'_accuracy': None,\n",
              " 'y_pred': [1, 1, 1, 0, 0, 0, 1],\n",
              " 'y_true': [0, 1, 1, 0, 0, 1, 1]}"
            ]
          },
          "metadata": {
            "tags": []
          },
          "execution_count": 18
        }
      ]
    },
    {
      "cell_type": "code",
      "metadata": {
        "id": "qsnD6lBp3XpS"
      },
      "source": [
        "model.y_true = [1,1,1,1,1,1,1]"
      ],
      "execution_count": 20,
      "outputs": []
    },
    {
      "cell_type": "code",
      "metadata": {
        "colab": {
          "base_uri": "https://localhost:8080/"
        },
        "id": "mAI15Myp3o1V",
        "outputId": "61e7696a-b13d-45e6-f897-edfc9546aa50"
      },
      "source": [
        "model.__dict__"
      ],
      "execution_count": 22,
      "outputs": [
        {
          "output_type": "execute_result",
          "data": {
            "text/plain": [
              "{'_accuracy': None,\n",
              " 'y_pred': [1, 1, 1, 0, 0, 0, 1],\n",
              " 'y_true': [1, 1, 1, 1, 1, 1, 1]}"
            ]
          },
          "metadata": {
            "tags": []
          },
          "execution_count": 22
        }
      ]
    },
    {
      "cell_type": "code",
      "metadata": {
        "colab": {
          "base_uri": "https://localhost:8080/"
        },
        "id": "mOshpDCU3q8E",
        "outputId": "5128956c-2b10-4ad6-f0d1-f50b1de86c3d"
      },
      "source": [
        "model.__dict__"
      ],
      "execution_count": 25,
      "outputs": [
        {
          "output_type": "execute_result",
          "data": {
            "text/plain": [
              "{'_accuracy': None,\n",
              " 'y_pred': [1, 1, 1, 0, 0, 0, 1],\n",
              " 'y_true': [1, 1, 1, 1, 1, 1, 1]}"
            ]
          },
          "metadata": {
            "tags": []
          },
          "execution_count": 25
        }
      ]
    },
    {
      "cell_type": "code",
      "metadata": {
        "id": "87yOJ3f530LU"
      },
      "source": [
        "class Model:\n",
        "\n",
        "  def __init__(self, y_true, y_pred):\n",
        "    if not isinstance(y_true, (list, tuple)):\n",
        "      raise TypeError(f'y_true musi byc listą albo tupla!')\n",
        "\n",
        "    if not isinstance(y_pred, (list, tuple)):\n",
        "      raise TypeError(f'y_pred musi byc listą albo typlą!')\n",
        "\n",
        "    if not len(y_true) == len(y_pred):\n",
        "      raise ValueError(f'y_true i y_pred nie są tej samej długości!')\n",
        "\n",
        "    self._y_true = y_true\n",
        "    self._y_pred = y_pred\n",
        "    self._accuracy = None\n",
        "\n",
        "  def _validate_input(iters, var_name):\n",
        "    if not isinstance(iters, (list, tuple)):\n",
        "      raise TypeError(f'{var_name} musi byc listą albo tupla!')\n",
        "\n",
        "  @property\n",
        "  def y_true(self):\n",
        "    return self._y_true\n",
        "\n",
        "  @y_true.setter\n",
        "  def y_true(self, value):\n",
        "    if isinstance(value, (list, tuple)):\n",
        "      if len(value) == len(self._y_pred):\n",
        "        self._y_true = value\n",
        "      else:\n",
        "        raise ValueError(f'The y_true object must be length {len(self._y_true)}')\n",
        "    else:\n",
        "      raise TypeError(f'The value must be list or tuple. Not {type(value).__name__}')\n",
        "    self._accuracy = None\n",
        " \n",
        "  @y_true.deleter\n",
        "  def y_true(self):\n",
        "    print('Deletting....')\n",
        "    del self._y_true\n",
        "\n",
        "  @property\n",
        "  def y_pred(self):\n",
        "    return self._y_pred\n",
        " \n",
        "  @y_pred.setter\n",
        "  def y_pred(self, value):\n",
        "    if isinstance(value, (list, tuple)):\n",
        "      if len(value) == len(self._y_pred):\n",
        "        self._y_pred = value\n",
        "      else:\n",
        "        raise ValueError(f'The y_pred object must be length {len(self._y_pred)}')\n",
        "    else:\n",
        "      raise TypeError(f'The value must be list or tuple. Not {type(value).__name__}')\n",
        "    self._accuracy = None\n",
        "\n",
        "  @y_pred.deleter\n",
        "  def y_pred(self):\n",
        "    print('Deletting....')\n",
        "    del self._y_pred\n",
        "\n",
        "  @property # accuracy chcemy aby było atrybutem chronionym\n",
        "  def accuracy(self):\n",
        "    if not self._accuracy:\n",
        "      print(f'Calculating....')\n",
        "      self._accuracy = sum([i==j for i,j in zip(self.y_true, self.y_pred)])/len(self.y_true)\n",
        "    print(f'Model accuracy: {self._accuracy:.4f}')\n",
        "    \n",
        "\n",
        "model = Model([1,1,1,0,0,1,1], [1,0,1,0,0,0,1])"
      ],
      "execution_count": 50,
      "outputs": []
    },
    {
      "cell_type": "code",
      "metadata": {
        "colab": {
          "base_uri": "https://localhost:8080/"
        },
        "id": "iGQVfV255Pto",
        "outputId": "5c10ea37-d12c-43c5-d4a9-eaeb11d0ca05"
      },
      "source": [
        "model.accuracy"
      ],
      "execution_count": 47,
      "outputs": [
        {
          "output_type": "stream",
          "text": [
            "Calculating....\n",
            "Model accuracy: 0.7143\n"
          ],
          "name": "stdout"
        }
      ]
    },
    {
      "cell_type": "code",
      "metadata": {
        "colab": {
          "base_uri": "https://localhost:8080/"
        },
        "id": "LOIJy6ik5WTm",
        "outputId": "e103cc0d-62a7-4d06-9c33-332c53d6391f"
      },
      "source": [
        "import math\n",
        " \n",
        " \n",
        "class Circle:\n",
        "    def __init__(self, radius):\n",
        "        self.radius = radius\n",
        "        self._area = None\n",
        " \n",
        "    @property\n",
        "    def radius(self):\n",
        "        return self._radius\n",
        " \n",
        "    @radius.setter\n",
        "    def radius(self, value):\n",
        "        self._radius = value\n",
        "        self._area = None\n",
        " \n",
        "    @property\n",
        "    def area(self):\n",
        "        if self._area is None:\n",
        "            self._area = math.pi * self._radius * self._radius\n",
        "        return self._area\n",
        " \n",
        " \n",
        "circle = Circle(3)\n",
        "print(f'{circle.area:.4f}')"
      ],
      "execution_count": 51,
      "outputs": [
        {
          "output_type": "stream",
          "text": [
            "28.2743\n"
          ],
          "name": "stdout"
        }
      ]
    },
    {
      "cell_type": "code",
      "metadata": {
        "id": "aXzoZW4KVSsf"
      },
      "source": [
        ""
      ],
      "execution_count": null,
      "outputs": []
    }
  ]
}